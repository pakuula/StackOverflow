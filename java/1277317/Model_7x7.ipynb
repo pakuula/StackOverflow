{
 "cells": [
  {
   "cell_type": "code",
   "execution_count": 113,
   "id": "royal-consensus",
   "metadata": {},
   "outputs": [],
   "source": [
    "import numpy as np\n",
    "import matplotlib.pyplot as plt"
   ]
  },
  {
   "cell_type": "code",
   "execution_count": 114,
   "id": "educated-recipe",
   "metadata": {},
   "outputs": [],
   "source": [
    "import scipy.stats as sps"
   ]
  },
  {
   "cell_type": "code",
   "execution_count": 152,
   "id": "middle-update",
   "metadata": {},
   "outputs": [],
   "source": [
    "date = \"1621072676\"\n",
    "path = \"C:/Users/Nikolay/Desktop/tmp/StackOverflow/java/1277317/TraverseOrdered/\"\n"
   ]
  },
  {
   "cell_type": "code",
   "execution_count": 153,
   "id": "descending-calculation",
   "metadata": {},
   "outputs": [],
   "source": [
    "sets = np.loadtxt(path+date+\".set.txt\")"
   ]
  },
  {
   "cell_type": "code",
   "execution_count": 154,
   "id": "light-signature",
   "metadata": {},
   "outputs": [
    {
     "data": {
      "text/plain": [
       "array([[10.06614952, 48.80670073, 60.44407054, 79.7271751 , 93.71621062,\n",
       "        96.6757698 , 99.8046721 ],\n",
       "       [ 9.16371105, 33.25455684, 35.84906299, 38.36853748, 58.51174865,\n",
       "        76.86693919, 94.99607235],\n",
       "       [ 5.9749147 , 38.34759355, 47.69373114, 65.38003444, 68.40280813,\n",
       "        81.93427104, 84.90741877],\n",
       "       [10.03936863, 34.96036368, 38.05219234, 52.21670516, 53.81340009,\n",
       "        82.96955737, 87.45427317],\n",
       "       [15.53772781, 28.76360087, 35.62057319, 37.55237623, 54.01383781,\n",
       "        57.97840414, 60.69114633],\n",
       "       [ 4.97693995,  7.07597235, 19.41731376, 30.65401147, 36.16037626,\n",
       "        88.01725666, 93.45433574],\n",
       "       [ 9.13057842, 35.86108356, 45.89331264, 62.25584015, 71.43257767,\n",
       "        84.28869851, 92.81299663]])"
      ]
     },
     "execution_count": 154,
     "metadata": {},
     "output_type": "execute_result"
    }
   ],
   "source": [
    "sets"
   ]
  },
  {
   "cell_type": "code",
   "execution_count": 155,
   "id": "affiliated-therapy",
   "metadata": {},
   "outputs": [
    {
     "data": {
      "text/plain": [
       "array([14.95642043, 14.30539355, 13.15541735, 12.90248409,  7.52556975,\n",
       "       14.74623263, 13.9470697 ])"
      ]
     },
     "execution_count": 155,
     "metadata": {},
     "output_type": "execute_result"
    }
   ],
   "source": [
    "np.mean(sets[:,1:] - sets[:,:-1], axis=1)"
   ]
  },
  {
   "cell_type": "code",
   "execution_count": 156,
   "id": "likely-dietary",
   "metadata": {},
   "outputs": [
    {
     "data": {
      "text/plain": [
       "(array([69.89153549, 49.57294693, 56.09153882, 51.35798006, 41.4510952 ,\n",
       "        39.96517231, 57.38215537]),\n",
       " array([30.21221976, 26.99524956, 25.72683987, 25.24778393, 15.50494911,\n",
       "        33.80481363, 27.05507205]))"
      ]
     },
     "execution_count": 156,
     "metadata": {},
     "output_type": "execute_result"
    }
   ],
   "source": [
    "np.mean(sets, axis=1), np.sqrt(np.var(sets, axis=1))"
   ]
  },
  {
   "cell_type": "code",
   "execution_count": 157,
   "id": "framed-calvin",
   "metadata": {},
   "outputs": [
    {
     "data": {
      "text/plain": [
       "28.867513459481287"
      ]
     },
     "execution_count": 157,
     "metadata": {},
     "output_type": "execute_result"
    }
   ],
   "source": [
    "sigma = np.sqrt(100**2/12)\n",
    "sigma"
   ]
  },
  {
   "cell_type": "code",
   "execution_count": 158,
   "id": "understood-automation",
   "metadata": {},
   "outputs": [
    {
     "data": {
      "text/plain": [
       "14.285714285714286"
      ]
     },
     "execution_count": 158,
     "metadata": {},
     "output_type": "execute_result"
    }
   ],
   "source": [
    "n=len(sets)\n",
    "width = 100/n\n",
    "width"
   ]
  },
  {
   "cell_type": "code",
   "execution_count": 159,
   "id": "female-pierce",
   "metadata": {},
   "outputs": [
    {
     "data": {
      "text/plain": [
       "76.37626158259734"
      ]
     },
     "execution_count": 159,
     "metadata": {},
     "output_type": "execute_result"
    }
   ],
   "source": [
    "sigma*np.sqrt(n)"
   ]
  },
  {
   "cell_type": "code",
   "execution_count": 160,
   "id": "informed-utility",
   "metadata": {},
   "outputs": [],
   "source": [
    "data = np.loadtxt(path+date+\".data.txt\", delimiter='\\t')"
   ]
  },
  {
   "cell_type": "code",
   "execution_count": 161,
   "id": "nasty-square",
   "metadata": {},
   "outputs": [],
   "source": [
    "sums = data[:,0]\n",
    "tuples = data[:,1]"
   ]
  },
  {
   "cell_type": "code",
   "execution_count": 162,
   "id": "innovative-reward",
   "metadata": {
    "scrolled": true
   },
   "outputs": [
    {
     "data": {
      "text/plain": [
       "0"
      ]
     },
     "execution_count": 162,
     "metadata": {},
     "output_type": "execute_result"
    }
   ],
   "source": [
    "len(sums)-(n)**(n)"
   ]
  },
  {
   "cell_type": "code",
   "execution_count": 163,
   "id": "lucky-tampa",
   "metadata": {},
   "outputs": [
    {
     "data": {
      "text/plain": [
       "[<matplotlib.lines.Line2D at 0x218953f6b80>]"
      ]
     },
     "execution_count": 163,
     "metadata": {},
     "output_type": "execute_result"
    },
    {
     "data": {
      "image/png": "[encoded data removed]",
      "text/plain": [
       "<Figure size 432x288 with 1 Axes>"
      ]
     },
     "metadata": {
      "needs_background": "light"
     },
     "output_type": "display_data"
    }
   ],
   "source": [
    "plt.plot(tuples)\n"
   ]
  },
  {
   "cell_type": "code",
   "execution_count": 164,
   "id": "dressed-italic",
   "metadata": {},
   "outputs": [
    {
     "data": {
      "text/plain": [
       "(365.4789013255792, 71.57477382159811)"
      ]
     },
     "execution_count": 164,
     "metadata": {},
     "output_type": "execute_result"
    }
   ],
   "source": [
    "norm_args = sps.norm.fit(sums[::1000])\n",
    "norm_args"
   ]
  },
  {
   "cell_type": "code",
   "execution_count": 165,
   "id": "annoying-husband",
   "metadata": {},
   "outputs": [],
   "source": [
    "normdist = sps.norm(*norm_args)"
   ]
  },
  {
   "cell_type": "code",
   "execution_count": 166,
   "id": "congressional-weight",
   "metadata": {},
   "outputs": [],
   "source": [
    "center = norm_args[0]"
   ]
  },
  {
   "cell_type": "code",
   "execution_count": 184,
   "id": "military-warrior",
   "metadata": {},
   "outputs": [
    {
     "data": {
      "text/plain": [
       "[<matplotlib.lines.Line2D at 0x21895bb4040>]"
      ]
     },
     "execution_count": 184,
     "metadata": {},
     "output_type": "execute_result"
    },
    {
     "data": {
      "image/png": "[encoded data removed]",
      "text/plain": [
       "<Figure size 576x1152 with 2 Axes>"
      ]
     },
     "metadata": {
      "needs_background": "light"
     },
     "output_type": "display_data"
    }
   ],
   "source": [
    "plt.figure(figsize=(8,16))\n",
    "plt.subplot(211)\n",
    "plt.axhline(center-width, ls='--')\n",
    "plt.axhline(center+width, ls='--')\n",
    "plt.plot(np.arange(0, len(sums), 1000), sums[::1000])\n",
    "\n",
    "bins=np.arange(0, np.floor(np.max(sums)), 3)\n",
    "plt.subplot(212)\n",
    "plt.hist(sums, bins=bins);\n",
    "plt.axvline(center-width, ls='--', c='k')\n",
    "plt.axvline(center+width, ls='--', c='k')\n",
    "\n",
    "plt.plot(bins, normdist.pdf(bins)*len(sums)*3)"
   ]
  },
  {
   "cell_type": "code",
   "execution_count": 168,
   "id": "according-trance",
   "metadata": {},
   "outputs": [
    {
     "data": {
      "text/plain": [
       "[<matplotlib.lines.Line2D at 0x21894d3ef10>]"
      ]
     },
     "execution_count": 168,
     "metadata": {},
     "output_type": "execute_result"
    },
    {
     "data": {
      "image/png": "[encoded data removed]",
      "text/plain": [
       "<Figure size 432x288 with 1 Axes>"
      ]
     },
     "metadata": {
      "needs_background": "light"
     },
     "output_type": "display_data"
    }
   ],
   "source": [
    "plt.hist(sums, bins=np.arange(0, np.floor(np.max(sums)), 3), density=True);\n",
    "\n",
    "x = np.linspace(0,600,1000)\n",
    "plt.plot(x, normdist.pdf(x))"
   ]
  },
  {
   "cell_type": "code",
   "execution_count": 169,
   "id": "usual-founder",
   "metadata": {},
   "outputs": [
    {
     "data": {
      "text/plain": [
       "0.005573738552825016"
      ]
     },
     "execution_count": 169,
     "metadata": {},
     "output_type": "execute_result"
    }
   ],
   "source": [
    "np.max(normdist.pdf(x))"
   ]
  },
  {
   "cell_type": "code",
   "execution_count": 170,
   "id": "medium-stations",
   "metadata": {},
   "outputs": [
    {
     "data": {
      "text/plain": [
       "0.07949350567362229"
      ]
     },
     "execution_count": 170,
     "metadata": {},
     "output_type": "execute_result"
    }
   ],
   "source": [
    "normdist.cdf(norm_args[0]+width/2) - normdist.cdf(norm_args[0]-width/2)"
   ]
  },
  {
   "cell_type": "code",
   "execution_count": 172,
   "id": "statutory-choir",
   "metadata": {},
   "outputs": [
    {
     "data": {
      "text/plain": [
       "0.07461972236154543"
      ]
     },
     "execution_count": 172,
     "metadata": {},
     "output_type": "execute_result"
    }
   ],
   "source": [
    "d = 1/(n*np.sqrt(n*np.pi/6))\n",
    "d"
   ]
  },
  {
   "cell_type": "code",
   "execution_count": 175,
   "id": "electrical-borough",
   "metadata": {},
   "outputs": [
    {
     "data": {
      "text/plain": [
       "(61452.55001279421, 131285.0)"
      ]
     },
     "execution_count": 175,
     "metadata": {},
     "output_type": "execute_result"
    }
   ],
   "source": [
    "d*len(sums), np.max(tuples)"
   ]
  },
  {
   "cell_type": "code",
   "execution_count": 176,
   "id": "parallel-resistance",
   "metadata": {},
   "outputs": [
    {
     "data": {
      "text/plain": [
       "[<matplotlib.lines.Line2D at 0x21894c43f70>]"
      ]
     },
     "execution_count": 176,
     "metadata": {},
     "output_type": "execute_result"
    },
    {
     "data": {
      "image/png": "[encoded data removed]",
      "text/plain": [
       "<Figure size 432x288 with 1 Axes>"
      ]
     },
     "metadata": {
      "needs_background": "light"
     },
     "output_type": "display_data"
    }
   ],
   "source": [
    "ints = np.arange(2,20)\n",
    "plt.plot(ints, 1/(ints*np.sqrt(ints*np.pi/6)))"
   ]
  },
  {
   "cell_type": "code",
   "execution_count": 177,
   "id": "fancy-redhead",
   "metadata": {},
   "outputs": [
    {
     "data": {
      "text/plain": [
       "426776.73070003086"
      ]
     },
     "execution_count": 177,
     "metadata": {},
     "output_type": "execute_result"
    }
   ],
   "source": [
    "1/(10*np.sqrt(10*np.pi/6))*(5**10)"
   ]
  },
  {
   "cell_type": "code",
   "execution_count": 182,
   "id": "deluxe-figure",
   "metadata": {},
   "outputs": [
    {
     "data": {
      "text/plain": [
       "0.1594148696546507"
      ]
     },
     "execution_count": 182,
     "metadata": {},
     "output_type": "execute_result"
    }
   ],
   "source": [
    "max(tuples)/(7**7)"
   ]
  },
  {
   "cell_type": "code",
   "execution_count": null,
   "id": "classical-tamil",
   "metadata": {},
   "outputs": [],
   "source": []
  }
 ],
 "metadata": {
  "kernelspec": {
   "display_name": "Python 3",
   "language": "python",
   "name": "python3"
  },
  "language_info": {
   "codemirror_mode": {
    "name": "ipython",
    "version": 3
   },
   "file_extension": ".py",
   "mimetype": "text/x-python",
   "name": "python",
   "nbconvert_exporter": "python",
   "pygments_lexer": "ipython3",
   "version": "3.9.2"
  }
 },
 "nbformat": 4,
 "nbformat_minor": 5
}
