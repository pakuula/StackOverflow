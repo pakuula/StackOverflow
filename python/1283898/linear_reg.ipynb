{
 "cells": [
  {
   "cell_type": "code",
   "execution_count": 1,
   "id": "eligible-diary",
   "metadata": {},
   "outputs": [],
   "source": [
    "import numpy as np\n",
    "import scipy.stats as sps\n",
    "import scipy.optimize as spo\n",
    "\n",
    "import matplotlib.pyplot as plt"
   ]
  },
  {
   "cell_type": "markdown",
   "id": "wrapped-diagram",
   "metadata": {},
   "source": [
    "Случайный датасет. Точки, лежащие на прямой $y = 0.5x + 2$ со нормально распределённой случайной ошибкой."
   ]
  },
  {
   "cell_type": "code",
   "execution_count": 2,
   "id": "continuous-madonna",
   "metadata": {},
   "outputs": [],
   "source": [
    "A = 0.5\n",
    "B = 2.0\n",
    "n = 100\n",
    "\n",
    "x = np.linspace(0,10, n)\n",
    "y = A*x + B + np.random.normal(scale=.5, size=n)"
   ]
  },
  {
   "cell_type": "code",
   "execution_count": 3,
   "id": "dated-enterprise",
   "metadata": {},
   "outputs": [
    {
     "data": {
      "text/plain": [
       "<matplotlib.collections.PathCollection at 0x27f18dab760>"
      ]
     },
     "execution_count": 3,
     "metadata": {},
     "output_type": "execute_result"
    },
    {
     "data": {
      "image/png": "[encoded data removed]",
      "text/plain": [
       "<Figure size 432x288 with 1 Axes>"
      ]
     },
     "metadata": {
      "needs_background": "light"
     },
     "output_type": "display_data"
    }
   ],
   "source": [
    "plt.scatter(x,y, s=4)"
   ]
  },
  {
   "cell_type": "markdown",
   "id": "affected-village",
   "metadata": {},
   "source": [
    "Линейная модель $y = ax+b$"
   ]
  },
  {
   "cell_type": "code",
   "execution_count": 4,
   "id": "happy-helen",
   "metadata": {},
   "outputs": [],
   "source": [
    "def linear(x, a,b):\n",
    "    return a*x+b"
   ]
  },
  {
   "cell_type": "markdown",
   "id": "finnish-november",
   "metadata": {},
   "source": [
    "Подбор параметров линейной модели методом наименьших квадратов"
   ]
  },
  {
   "cell_type": "code",
   "execution_count": 5,
   "id": "prerequisite-castle",
   "metadata": {},
   "outputs": [],
   "source": [
    "((a,b), cov) = spo.curve_fit(linear, xdata=x, ydata=y)"
   ]
  },
  {
   "cell_type": "code",
   "execution_count": 6,
   "id": "transparent-education",
   "metadata": {},
   "outputs": [
    {
     "data": {
      "text/plain": [
       "(0.48131338327467227, 2.0807809838898876)"
      ]
     },
     "execution_count": 6,
     "metadata": {},
     "output_type": "execute_result"
    }
   ],
   "source": [
    "a,b"
   ]
  },
  {
   "cell_type": "markdown",
   "id": "harmful-avatar",
   "metadata": {},
   "source": [
    "Случайная составляющая"
   ]
  },
  {
   "cell_type": "code",
   "execution_count": 7,
   "id": "immune-temperature",
   "metadata": {},
   "outputs": [],
   "source": [
    "u = y - (a*x+b)"
   ]
  },
  {
   "cell_type": "code",
   "execution_count": 8,
   "id": "saved-carol",
   "metadata": {},
   "outputs": [],
   "source": [
    "u_mean, u_sigma = sps.norm.fit(u)"
   ]
  },
  {
   "cell_type": "code",
   "execution_count": 9,
   "id": "color-diversity",
   "metadata": {},
   "outputs": [
    {
     "data": {
      "text/plain": [
       "[<matplotlib.lines.Line2D at 0x27f3be3ad30>]"
      ]
     },
     "execution_count": 9,
     "metadata": {},
     "output_type": "execute_result"
    },
    {
     "data": {
      "image/png": "[encoded data removed]",
      "text/plain": [
       "<Figure size 432x288 with 1 Axes>"
      ]
     },
     "metadata": {
      "needs_background": "light"
     },
     "output_type": "display_data"
    }
   ],
   "source": [
    "_u = np.linspace(u_mean - u_sigma*3, u_mean + u_sigma*3, 100)\n",
    "plt.hist(u, bins=20, density=True)\n",
    "\n",
    "plt.plot(_u, sps.norm(0, 0.5).pdf(_u))"
   ]
  },
  {
   "cell_type": "markdown",
   "id": "mounted-hayes",
   "metadata": {},
   "source": [
    "Несмещенная оценка дисперсии случайного члена $u$ $\\sigma_u^2 = \\frac{1}{n-2}\\sum({u_i^2 - \\overline{u}^2})$"
   ]
  },
  {
   "cell_type": "code",
   "execution_count": 10,
   "id": "mexican-guard",
   "metadata": {},
   "outputs": [],
   "source": [
    "sigma_square = sps.sem(u, ddof=2)"
   ]
  },
  {
   "cell_type": "markdown",
   "id": "brutal-characterization",
   "metadata": {},
   "source": [
    "Дисперсия $x$"
   ]
  },
  {
   "cell_type": "code",
   "execution_count": 11,
   "id": "fifty-anthropology",
   "metadata": {},
   "outputs": [],
   "source": [
    "var_x = np.var(x)"
   ]
  },
  {
   "cell_type": "markdown",
   "id": "bridal-record",
   "metadata": {},
   "source": [
    "Дисперсия $a$: $D[a] = \\frac{1}{n}\\frac{\\sigma_u^2}{D[x]}$"
   ]
  },
  {
   "cell_type": "code",
   "execution_count": 12,
   "id": "genetic-nerve",
   "metadata": {},
   "outputs": [],
   "source": [
    "var_a = sigma_square/n/var_x"
   ]
  },
  {
   "cell_type": "markdown",
   "id": "played-fundamentals",
   "metadata": {},
   "source": [
    "Дисперсия $b$: $D[b] = \\frac{1}{n}\\frac{\\overline{x^2}}{D[x]}$"
   ]
  },
  {
   "cell_type": "code",
   "execution_count": 13,
   "id": "processed-grave",
   "metadata": {},
   "outputs": [],
   "source": [
    "var_b = 1.0/n*np.mean(x*x)/var_x"
   ]
  },
  {
   "cell_type": "code",
   "execution_count": 14,
   "id": "sacred-adapter",
   "metadata": {},
   "outputs": [
    {
     "data": {
      "text/plain": [
       "(6.33845030420234e-05, 0.039405940594059406)"
      ]
     },
     "execution_count": 14,
     "metadata": {},
     "output_type": "execute_result"
    }
   ],
   "source": [
    "var_a, var_b"
   ]
  },
  {
   "cell_type": "markdown",
   "id": "annoying-robert",
   "metadata": {},
   "source": [
    "Доверительный интервал для $a$ через $t$ распределение Стьюдента с уровнем ошибки $\\alpha = 0.05$"
   ]
  },
  {
   "cell_type": "code",
   "execution_count": 15,
   "id": "diverse-device",
   "metadata": {},
   "outputs": [
    {
     "data": {
      "text/plain": [
       "(0.4655161620380061, 0.4971106045113384)"
      ]
     },
     "execution_count": 15,
     "metadata": {},
     "output_type": "execute_result"
    }
   ],
   "source": [
    "conf_a = sps.t.interval(0.95, df = n-1, loc=a, scale=np.sqrt(var_a))\n",
    "conf_a"
   ]
  },
  {
   "cell_type": "markdown",
   "id": "adaptive-reservoir",
   "metadata": {},
   "source": [
    "Доверительный интервал для $b$ через $t$ распределение Стьюдента с уровнем ошибки $\\alpha = 0.05$"
   ]
  },
  {
   "cell_type": "code",
   "execution_count": 19,
   "id": "equivalent-potato",
   "metadata": {},
   "outputs": [
    {
     "data": {
      "text/plain": [
       "(1.6868954737564044, 2.474666494023371)"
      ]
     },
     "execution_count": 19,
     "metadata": {},
     "output_type": "execute_result"
    }
   ],
   "source": [
    "conf_b = sps.t.interval(0.95, df = n-1, loc = b, scale = np.sqrt(var_b))\n",
    "conf_b"
   ]
  },
  {
   "cell_type": "markdown",
   "id": "emerging-village",
   "metadata": {},
   "source": [
    "График линейных моделей, соответствующих крайним точкам доверительных интервалов"
   ]
  },
  {
   "cell_type": "code",
   "execution_count": 17,
   "id": "magnetic-quest",
   "metadata": {},
   "outputs": [],
   "source": [
    "def mk_model(a,b):\n",
    "    return lambda x: linear(x, a,b)"
   ]
  },
  {
   "cell_type": "code",
   "execution_count": 18,
   "id": "governmental-charger",
   "metadata": {},
   "outputs": [
    {
     "data": {
      "text/plain": [
       "[<matplotlib.lines.Line2D at 0x27f3bec10a0>]"
      ]
     },
     "execution_count": 18,
     "metadata": {},
     "output_type": "execute_result"
    },
    {
     "data": {
      "image/png": "[encoded data removed]",
      "text/plain": [
       "<Figure size 432x288 with 1 Axes>"
      ]
     },
     "metadata": {
      "needs_background": "light"
     },
     "output_type": "display_data"
    }
   ],
   "source": [
    "plt.scatter(x, y, s=1)\n",
    "plt.plot(x, mk_model(a,b)(x))\n",
    "plt.plot(x, mk_model(conf_a[0], conf_b[0])(x))\n",
    "plt.plot(x, mk_model(conf_a[1], conf_b[1])(x))"
   ]
  },
  {
   "cell_type": "code",
   "execution_count": null,
   "id": "centered-croatia",
   "metadata": {},
   "outputs": [],
   "source": []
  }
 ],
 "metadata": {
  "kernelspec": {
   "display_name": "Python 3",
   "language": "python",
   "name": "python3"
  },
  "language_info": {
   "codemirror_mode": {
    "name": "ipython",
    "version": 3
   },
   "file_extension": ".py",
   "mimetype": "text/x-python",
   "name": "python",
   "nbconvert_exporter": "python",
   "pygments_lexer": "ipython3",
   "version": "3.9.2"
  }
 },
 "nbformat": 4,
 "nbformat_minor": 5
}
