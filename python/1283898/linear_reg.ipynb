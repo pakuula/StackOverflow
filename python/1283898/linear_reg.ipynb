{
 "cells": [
  {
   "cell_type": "code",
   "execution_count": 1,
   "id": "eligible-diary",
   "metadata": {},
   "outputs": [],
   "source": [
    "import numpy as np\n",
    "import scipy.stats as sps\n",
    "import scipy.optimize as spo\n",
    "\n",
    "import matplotlib.pyplot as plt"
   ]
  },
  {
   "cell_type": "markdown",
   "id": "wrapped-diagram",
   "metadata": {},
   "source": [
    "Случайный датасет. Точки, лежащие на прямой $y = 0.5x + 2$ со нормально распределённой случайной ошибкой."
   ]
  },
  {
   "cell_type": "code",
   "execution_count": 2,
   "id": "continuous-madonna",
   "metadata": {},
   "outputs": [],
   "source": [
    "A = 0.5\n",
    "B = 2.0\n",
    "n = 100\n",
    "\n",
    "x = np.linspace(0,10, n)\n",
    "y = A*x + B + np.random.normal(scale=.5, size=n)"
   ]
  },
  {
   "cell_type": "code",
   "execution_count": 3,
   "id": "dated-enterprise",
   "metadata": {},
   "outputs": [
    {
     "data": {
      "text/plain": [
       "<matplotlib.collections.PathCollection at 0x1d5566da160>"
      ]
     },
     "execution_count": 3,
     "metadata": {},
     "output_type": "execute_result"
    },
    {
     "data": {
      "image/png": "[encoded data removed]",
      "text/plain": [
       "<Figure size 432x288 with 1 Axes>"
      ]
     },
     "metadata": {
      "needs_background": "light"
     },
     "output_type": "display_data"
    }
   ],
   "source": [
    "plt.scatter(x,y, s=4)"
   ]
  },
  {
   "cell_type": "markdown",
   "id": "affected-village",
   "metadata": {},
   "source": [
    "Линейная модель $y = ax+b$"
   ]
  },
  {
   "cell_type": "code",
   "execution_count": 4,
   "id": "happy-helen",
   "metadata": {},
   "outputs": [],
   "source": [
    "def linear(x, a,b):\n",
    "    return a*x+b"
   ]
  },
  {
   "cell_type": "markdown",
   "id": "finnish-november",
   "metadata": {},
   "source": [
    "Подбор параметров линейной модели методом наименьших квадратов"
   ]
  },
  {
   "cell_type": "code",
   "execution_count": 5,
   "id": "prerequisite-castle",
   "metadata": {},
   "outputs": [],
   "source": [
    "((a,b), cov) = spo.curve_fit(linear, xdata=x, ydata=y)"
   ]
  },
  {
   "cell_type": "code",
   "execution_count": 6,
   "id": "transparent-education",
   "metadata": {},
   "outputs": [
    {
     "data": {
      "text/plain": [
       "(0.5023122637393408, 1.8598417119121753)"
      ]
     },
     "execution_count": 6,
     "metadata": {},
     "output_type": "execute_result"
    }
   ],
   "source": [
    "a,b"
   ]
  },
  {
   "cell_type": "markdown",
   "id": "dirty-backing",
   "metadata": {},
   "source": [
    "Дисперсии $D[a]$ и $D[b]$ через ковариционную матрицу"
   ]
  },
  {
   "cell_type": "code",
   "execution_count": 29,
   "id": "searching-arrest",
   "metadata": {},
   "outputs": [
    {
     "data": {
      "text/plain": [
       "(0.00033836528249324454, 0.011335806539183927)"
      ]
     },
     "execution_count": 29,
     "metadata": {},
     "output_type": "execute_result"
    }
   ],
   "source": [
    "var_a, var_b = np.diag(cov)\n",
    "var_a, var_b"
   ]
  },
  {
   "cell_type": "markdown",
   "id": "harmful-avatar",
   "metadata": {},
   "source": [
    "Случайная составляющая"
   ]
  },
  {
   "cell_type": "code",
   "execution_count": 7,
   "id": "immune-temperature",
   "metadata": {},
   "outputs": [],
   "source": [
    "u = y - (a*x+b)"
   ]
  },
  {
   "cell_type": "code",
   "execution_count": 9,
   "id": "color-diversity",
   "metadata": {},
   "outputs": [
    {
     "data": {
      "text/plain": [
       "[<matplotlib.lines.Line2D at 0x1d55881bfd0>]"
      ]
     },
     "execution_count": 9,
     "metadata": {},
     "output_type": "execute_result"
    },
    {
     "data": {
      "image/png": "[encoded data removed]",
      "text/plain": [
       "<Figure size 432x288 with 1 Axes>"
      ]
     },
     "metadata": {
      "needs_background": "light"
     },
     "output_type": "display_data"
    }
   ],
   "source": [
    "_u = np.linspace(u_mean - u_sigma*3, u_mean + u_sigma*3, 100)\n",
    "plt.hist(u, bins=20, density=True)\n",
    "\n",
    "plt.plot(_u, sps.norm(0, 0.5).pdf(_u))"
   ]
  },
  {
   "cell_type": "markdown",
   "id": "mounted-hayes",
   "metadata": {},
   "source": [
    "Несмещенная оценка дисперсии случайного члена $u$ $\\sigma_u^2 = \\frac{1}{n-2}\\sum({u_i^2 - \\overline{u}^2})$"
   ]
  },
  {
   "cell_type": "code",
   "execution_count": 19,
   "id": "mexican-guard",
   "metadata": {},
   "outputs": [
    {
     "data": {
      "text/plain": [
       "(0.2876674522475443, 0.005753349044950895)"
      ]
     },
     "execution_count": 19,
     "metadata": {},
     "output_type": "execute_result"
    }
   ],
   "source": [
    "u_avg = np.mean(u)\n",
    "sigma_square = 1.0/(n-2)*np.sum((u - u_avg)**2)\n",
    "sigma_square, sigma_square-u_sigma**2"
   ]
  },
  {
   "cell_type": "markdown",
   "id": "brutal-characterization",
   "metadata": {},
   "source": [
    " $nD[x] = \\sum (x-\\overline{x})^2$"
   ]
  },
  {
   "cell_type": "code",
   "execution_count": 20,
   "id": "fifty-anthropology",
   "metadata": {},
   "outputs": [],
   "source": [
    "x_mean = np.mean(x)\n",
    "dx_square = np.sum((x-x_mean)**2)"
   ]
  },
  {
   "cell_type": "markdown",
   "id": "bridal-record",
   "metadata": {},
   "source": [
    "Дисперсия $a$: $D[a] = \\frac{1}{n}\\frac{\\sigma_u^2}{D[x]}$"
   ]
  },
  {
   "cell_type": "code",
   "execution_count": 21,
   "id": "genetic-nerve",
   "metadata": {},
   "outputs": [],
   "source": [
    "var_a = sigma_square/dx_square"
   ]
  },
  {
   "cell_type": "markdown",
   "id": "played-fundamentals",
   "metadata": {},
   "source": [
    "Дисперсия $b$: $D[b] = \\sigma_u^2\\large[\\frac{1}{n} + \\frac{\\overline{x}^2}{nD[x]}]$"
   ]
  },
  {
   "cell_type": "code",
   "execution_count": 30,
   "id": "processed-grave",
   "metadata": {},
   "outputs": [],
   "source": [
    "var_b = sigma_square*(1.0/n + np.mean(x)**2/dx_square)"
   ]
  },
  {
   "cell_type": "code",
   "execution_count": 23,
   "id": "sacred-adapter",
   "metadata": {},
   "outputs": [
    {
     "data": {
      "text/plain": [
       "(0.00033836528046542836, 0.011335806534111151)"
      ]
     },
     "execution_count": 23,
     "metadata": {},
     "output_type": "execute_result"
    }
   ],
   "source": [
    "var_a, var_b"
   ]
  },
  {
   "cell_type": "markdown",
   "id": "annoying-robert",
   "metadata": {},
   "source": [
    "Доверительный интервал для $a$ через $t$ распределение Стьюдента с уровнем значимости $\\alpha = 0.05$"
   ]
  },
  {
   "cell_type": "code",
   "execution_count": 24,
   "id": "diverse-device",
   "metadata": {},
   "outputs": [
    {
     "data": {
      "text/plain": [
       "(0.46580856448429564, 0.5388159629943859)"
      ]
     },
     "execution_count": 24,
     "metadata": {},
     "output_type": "execute_result"
    }
   ],
   "source": [
    "conf_a = sps.t.interval(0.95, df = n-2, loc=a, scale=np.sqrt(var_a))\n",
    "conf_a"
   ]
  },
  {
   "cell_type": "markdown",
   "id": "adaptive-reservoir",
   "metadata": {},
   "source": [
    "Доверительный интервал для $b$ через $t$ распределение Стьюдента с уровнем значимости $\\alpha = 0.05$"
   ]
  },
  {
   "cell_type": "code",
   "execution_count": 25,
   "id": "equivalent-potato",
   "metadata": {},
   "outputs": [
    {
     "data": {
      "text/plain": [
       "(1.6485559686960123, 2.0711274551283383)"
      ]
     },
     "execution_count": 25,
     "metadata": {},
     "output_type": "execute_result"
    }
   ],
   "source": [
    "conf_b = sps.t.interval(0.95, df = n-2, loc = b, scale = np.sqrt(var_b))\n",
    "conf_b"
   ]
  },
  {
   "cell_type": "markdown",
   "id": "emerging-village",
   "metadata": {},
   "source": [
    "График линейных моделей, соответствующих крайним точкам доверительных интервалов"
   ]
  },
  {
   "cell_type": "code",
   "execution_count": 17,
   "id": "magnetic-quest",
   "metadata": {},
   "outputs": [],
   "source": [
    "def mk_model(a,b):\n",
    "    return lambda x: linear(x, a,b)"
   ]
  },
  {
   "cell_type": "code",
   "execution_count": 18,
   "id": "governmental-charger",
   "metadata": {},
   "outputs": [
    {
     "data": {
      "text/plain": [
       "[<matplotlib.lines.Line2D at 0x1d558891220>]"
      ]
     },
     "execution_count": 18,
     "metadata": {},
     "output_type": "execute_result"
    },
    {
     "data": {
      "image/png": "[encoded data removed]",
      "text/plain": [
       "<Figure size 432x288 with 1 Axes>"
      ]
     },
     "metadata": {
      "needs_background": "light"
     },
     "output_type": "display_data"
    }
   ],
   "source": [
    "plt.scatter(x, y, s=1)\n",
    "plt.plot(x, mk_model(a,b)(x))\n",
    "plt.plot(x, mk_model(conf_a[0], conf_b[0])(x))\n",
    "plt.plot(x, mk_model(conf_a[1], conf_b[1])(x))"
   ]
  },
  {
   "cell_type": "code",
   "execution_count": 32,
   "id": "centered-croatia",
   "metadata": {},
   "outputs": [
    {
     "data": {
      "text/plain": [
       "array([0.00000000e+00, 4.47500259e-10])"
      ]
     },
     "execution_count": 32,
     "metadata": {},
     "output_type": "execute_result"
    }
   ],
   "source": [
    "np.diag(cov)/np.array((var_a, var_b)) - 1"
   ]
  },
  {
   "cell_type": "code",
   "execution_count": null,
   "id": "declared-penny",
   "metadata": {},
   "outputs": [],
   "source": []
  }
 ],
 "metadata": {
  "kernelspec": {
   "display_name": "Python 3",
   "language": "python",
   "name": "python3"
  },
  "language_info": {
   "codemirror_mode": {
    "name": "ipython",
    "version": 3
   },
   "file_extension": ".py",
   "mimetype": "text/x-python",
   "name": "python",
   "nbconvert_exporter": "python",
   "pygments_lexer": "ipython3",
   "version": "3.9.2"
  }
 },
 "nbformat": 4,
 "nbformat_minor": 5
}
