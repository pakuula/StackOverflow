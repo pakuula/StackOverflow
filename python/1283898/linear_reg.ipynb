{
 "cells": [
  {
   "cell_type": "code",
   "execution_count": 1,
   "id": "eligible-diary",
   "metadata": {},
   "outputs": [],
   "source": [
    "import numpy as np\n",
    "import scipy.stats as sps\n",
    "import scipy.optimize as spo\n",
    "\n",
    "import matplotlib.pyplot as plt"
   ]
  },
  {
   "cell_type": "markdown",
   "id": "wrapped-diagram",
   "metadata": {},
   "source": [
    "Случайный датасет. Точки, лежащие на прямой $y = 0.5x + 2$ с нормально распределённой случайной ошибкой с $\\sigma=0.5$."
   ]
  },
  {
   "cell_type": "code",
   "execution_count": 2,
   "id": "continuous-madonna",
   "metadata": {},
   "outputs": [],
   "source": [
    "A = 0.5\n",
    "B = 2.0\n",
    "n = 100\n",
    "\n",
    "x = np.linspace(0,10, n)\n",
    "y = A*x + B + np.random.normal(scale=.5, size=n)"
   ]
  },
  {
   "cell_type": "code",
   "execution_count": 3,
   "id": "dated-enterprise",
   "metadata": {},
   "outputs": [
    {
     "data": {
      "text/plain": [
       "<matplotlib.collections.PathCollection at 0x1499228e0d0>"
      ]
     },
     "execution_count": 3,
     "metadata": {},
     "output_type": "execute_result"
    },
    {
     "data": {
      "image/png": "[encoded data removed]",
      "text/plain": [
       "<Figure size 432x288 with 1 Axes>"
      ]
     },
     "metadata": {
      "needs_background": "light"
     },
     "output_type": "display_data"
    }
   ],
   "source": [
    "plt.scatter(x,y, s=4)"
   ]
  },
  {
   "cell_type": "code",
   "execution_count": 4,
   "id": "lined-bibliography",
   "metadata": {},
   "outputs": [],
   "source": [
    "def mk_model(a,b):\n",
    "    return lambda x: a*x+b"
   ]
  },
  {
   "cell_type": "markdown",
   "id": "explicit-couple",
   "metadata": {},
   "source": [
    "# Линейная регрессия средствами `linregress`"
   ]
  },
  {
   "cell_type": "code",
   "execution_count": 5,
   "id": "cosmetic-tiffany",
   "metadata": {},
   "outputs": [],
   "source": [
    "n = len(x)\n",
    "lin_model = sps.linregress(x, y)\n",
    "a,b = lin_model.slope, lin_model.intercept\n",
    "a_err, b_err = lin_model.stderr, lin_model.intercept_stderr\n",
    "a_conf = sps.t.interval(0.95, df = n-2, loc=a, scale=a_err)\n",
    "b_conf = sps.t.interval(0.95, df = n-2, loc=b, scale=b_err)"
   ]
  },
  {
   "cell_type": "code",
   "execution_count": 6,
   "id": "european-subscription",
   "metadata": {},
   "outputs": [
    {
     "name": "stdout",
     "output_type": "stream",
     "text": [
      "a = 0.4979 ± 0.0164, доверительный интервал α=5% [0.4654 - 0.5304]\n",
      "b = 2.0515 ± 0.0948, доверительный интервал α=5% [1.8633 - 2.2397]\n"
     ]
    }
   ],
   "source": [
    "print(f\"a = {a:0.4f} ± {a_err:0.4f}, доверительный интервал α=5% [{a_conf[0]:0.4f} - {a_conf[1]:0.4f}]\")\n",
    "print(f\"b = {b:0.4f} ± {b_err:0.4f}, доверительный интервал α=5% [{b_conf[0]:0.4f} - {b_conf[1]:0.4f}]\")"
   ]
  },
  {
   "cell_type": "code",
   "execution_count": 7,
   "id": "accepted-edmonton",
   "metadata": {
    "scrolled": true
   },
   "outputs": [
    {
     "data": {
      "text/plain": [
       "[<matplotlib.lines.Line2D at 0x14992394850>]"
      ]
     },
     "execution_count": 7,
     "metadata": {},
     "output_type": "execute_result"
    },
    {
     "data": {
      "image/png": "[encoded data removed]",
      "text/plain": [
       "<Figure size 432x288 with 1 Axes>"
      ]
     },
     "metadata": {
      "needs_background": "light"
     },
     "output_type": "display_data"
    }
   ],
   "source": [
    "plt.scatter(x, y, s=1)\n",
    "plt.plot(x, mk_model(a,b)(x))\n",
    "plt.plot(x, mk_model(a_conf[0], b_conf[0])(x))\n",
    "plt.plot(x, mk_model(a_conf[1], b_conf[1])(x))"
   ]
  },
  {
   "cell_type": "code",
   "execution_count": 8,
   "id": "cathedral-clothing",
   "metadata": {},
   "outputs": [
    {
     "name": "stdout",
     "output_type": "stream",
     "text": [
      "196 µs ± 11.4 µs per loop (mean ± std. dev. of 5 runs, 1000 loops each)\n"
     ]
    }
   ],
   "source": [
    "%timeit -n 1000 -r 5 lin_model = sps.linregress(x, y)"
   ]
  },
  {
   "cell_type": "markdown",
   "id": "affected-village",
   "metadata": {},
   "source": [
    "# Использование `curve_fit`\n",
    "Линейная модель $y = ax+b$"
   ]
  },
  {
   "cell_type": "code",
   "execution_count": 9,
   "id": "happy-helen",
   "metadata": {},
   "outputs": [],
   "source": [
    "def linear(x, a,b):\n",
    "    return a*x+b"
   ]
  },
  {
   "cell_type": "markdown",
   "id": "finnish-november",
   "metadata": {},
   "source": [
    "Подбор параметров линейной модели методом наименьших квадратов"
   ]
  },
  {
   "cell_type": "code",
   "execution_count": 10,
   "id": "prerequisite-castle",
   "metadata": {},
   "outputs": [],
   "source": [
    "((a,b), cov) = spo.curve_fit(linear, xdata=x, ydata=y)\n",
    "a_err, b_err = np.sqrt(np.diag(cov))\n",
    "a_conf = sps.t.interval(0.95, df = n-2, loc=a, scale=a_err)\n",
    "b_conf = sps.t.interval(0.95, df = n-2, loc=b, scale=b_err)"
   ]
  },
  {
   "cell_type": "code",
   "execution_count": 11,
   "id": "ready-cooperation",
   "metadata": {},
   "outputs": [
    {
     "name": "stdout",
     "output_type": "stream",
     "text": [
      "a = 0.4979 ± 0.0164, доверительный интервал α=5% [0.4654 - 0.5304]\n",
      "b = 2.0515 ± 0.0948, доверительный интервал α=5% [1.8633 - 2.2397]\n"
     ]
    }
   ],
   "source": [
    "print(f\"a = {a:0.4f} ± {a_err:0.4f}, доверительный интервал α=5% [{a_conf[0]:0.4f} - {a_conf[1]:0.4f}]\")\n",
    "print(f\"b = {b:0.4f} ± {b_err:0.4f}, доверительный интервал α=5% [{b_conf[0]:0.4f} - {b_conf[1]:0.4f}]\")"
   ]
  },
  {
   "cell_type": "code",
   "execution_count": 12,
   "id": "blind-respect",
   "metadata": {},
   "outputs": [
    {
     "data": {
      "text/plain": [
       "[<matplotlib.lines.Line2D at 0x14992423c40>]"
      ]
     },
     "execution_count": 12,
     "metadata": {},
     "output_type": "execute_result"
    },
    {
     "data": {
      "image/png": "[encoded data removed]",
      "text/plain": [
       "<Figure size 432x288 with 1 Axes>"
      ]
     },
     "metadata": {
      "needs_background": "light"
     },
     "output_type": "display_data"
    }
   ],
   "source": [
    "plt.scatter(x, y, s=1)\n",
    "plt.plot(x, mk_model(a,b)(x))\n",
    "plt.plot(x, mk_model(a_conf[0], b_conf[0])(x))\n",
    "plt.plot(x, mk_model(a_conf[1], b_conf[1])(x))"
   ]
  },
  {
   "cell_type": "code",
   "execution_count": 13,
   "id": "cooked-fashion",
   "metadata": {},
   "outputs": [
    {
     "name": "stdout",
     "output_type": "stream",
     "text": [
      "251 µs ± 6.21 µs per loop (mean ± std. dev. of 5 runs, 1000 loops each)\n"
     ]
    }
   ],
   "source": [
    "%timeit -n 1000 -r 5 spo.curve_fit(linear, xdata=x, ydata=y)"
   ]
  },
  {
   "cell_type": "markdown",
   "id": "complex-season",
   "metadata": {},
   "source": [
    "# Прямое вычисление"
   ]
  },
  {
   "cell_type": "markdown",
   "id": "harmful-avatar",
   "metadata": {},
   "source": [
    "Случайная составляющая"
   ]
  },
  {
   "cell_type": "code",
   "execution_count": 14,
   "id": "immune-temperature",
   "metadata": {},
   "outputs": [],
   "source": [
    "u = y - (a*x+b)"
   ]
  },
  {
   "cell_type": "code",
   "execution_count": 15,
   "id": "bulgarian-registrar",
   "metadata": {},
   "outputs": [
    {
     "data": {
      "text/plain": [
       "(-3.3694663059691265e-10, 0.47300811219710787)"
      ]
     },
     "execution_count": 15,
     "metadata": {},
     "output_type": "execute_result"
    }
   ],
   "source": [
    "u_mean, u_sigma = sps.norm.fit(u)\n",
    "u_mean, u_sigma"
   ]
  },
  {
   "cell_type": "code",
   "execution_count": 16,
   "id": "color-diversity",
   "metadata": {},
   "outputs": [
    {
     "data": {
      "text/plain": [
       "[<matplotlib.lines.Line2D at 0x149944c0f40>]"
      ]
     },
     "execution_count": 16,
     "metadata": {},
     "output_type": "execute_result"
    },
    {
     "data": {
      "image/png": "[encoded data removed]",
      "text/plain": [
       "<Figure size 432x288 with 1 Axes>"
      ]
     },
     "metadata": {
      "needs_background": "light"
     },
     "output_type": "display_data"
    }
   ],
   "source": [
    "_u = np.linspace(u_mean - u_sigma*3, u_mean + u_sigma*3, 100)\n",
    "plt.hist(u, bins=20, density=True)\n",
    "\n",
    "plt.plot(_u, sps.norm(0, 0.5).pdf(_u))"
   ]
  },
  {
   "cell_type": "markdown",
   "id": "mounted-hayes",
   "metadata": {},
   "source": [
    "Несмещенная оценка дисперсии случайного члена $u$ $\\sigma_u^2 = \\frac{1}{n-2}\\sum({u_i^2 - \\overline{u}^2})$"
   ]
  },
  {
   "cell_type": "code",
   "execution_count": 17,
   "id": "mexican-guard",
   "metadata": {},
   "outputs": [
    {
     "data": {
      "text/plain": [
       "(0.22830272877986912, 0.004566054575597334)"
      ]
     },
     "execution_count": 17,
     "metadata": {},
     "output_type": "execute_result"
    }
   ],
   "source": [
    "u_avg = np.mean(u)\n",
    "sigma_square = 1.0/(n-2)*np.sum((u - u_avg)**2)\n",
    "sigma_square, sigma_square-u_sigma**2"
   ]
  },
  {
   "cell_type": "markdown",
   "id": "brutal-characterization",
   "metadata": {},
   "source": [
    " $nD[x] = \\sum (x-\\overline{x})^2$"
   ]
  },
  {
   "cell_type": "code",
   "execution_count": 18,
   "id": "fifty-anthropology",
   "metadata": {},
   "outputs": [],
   "source": [
    "x_mean = np.mean(x)\n",
    "dx_square = np.sum((x-x_mean)**2)"
   ]
  },
  {
   "cell_type": "markdown",
   "id": "bridal-record",
   "metadata": {},
   "source": [
    "Дисперсия $a$: $D[a] = \\frac{1}{n}\\frac{\\sigma_u^2}{D[x]}$"
   ]
  },
  {
   "cell_type": "code",
   "execution_count": 19,
   "id": "genetic-nerve",
   "metadata": {},
   "outputs": [],
   "source": [
    "var_a = sigma_square/dx_square"
   ]
  },
  {
   "cell_type": "markdown",
   "id": "played-fundamentals",
   "metadata": {},
   "source": [
    "Дисперсия $b$: $D[b] = \\sigma_u^2\\large[\\frac{1}{n} + \\frac{\\overline{x}^2}{nD[x]}]$"
   ]
  },
  {
   "cell_type": "code",
   "execution_count": 20,
   "id": "processed-grave",
   "metadata": {},
   "outputs": [],
   "source": [
    "var_b = sigma_square*(1.0/n + np.mean(x)**2/dx_square)"
   ]
  },
  {
   "cell_type": "code",
   "execution_count": 21,
   "id": "sacred-adapter",
   "metadata": {},
   "outputs": [
    {
     "data": {
      "text/plain": [
       "(0.00026853825919849955, 0.008996483767761179)"
      ]
     },
     "execution_count": 21,
     "metadata": {},
     "output_type": "execute_result"
    }
   ],
   "source": [
    "var_a, var_b"
   ]
  },
  {
   "cell_type": "markdown",
   "id": "annoying-robert",
   "metadata": {},
   "source": [
    "Доверительный интервал для $a$ через $t$ распределение Стьюдента с уровнем значимости $\\alpha = 0.05$"
   ]
  },
  {
   "cell_type": "code",
   "execution_count": 22,
   "id": "diverse-device",
   "metadata": {},
   "outputs": [
    {
     "data": {
      "text/plain": [
       "(0.46538710502696273, 0.5304265851395891)"
      ]
     },
     "execution_count": 22,
     "metadata": {},
     "output_type": "execute_result"
    }
   ],
   "source": [
    "conf_a = sps.t.interval(0.95, df = n-2, loc=a, scale=np.sqrt(var_a))\n",
    "conf_a"
   ]
  },
  {
   "cell_type": "markdown",
   "id": "adaptive-reservoir",
   "metadata": {},
   "source": [
    "Доверительный интервал для $b$ через $t$ распределение Стьюдента с уровнем значимости $\\alpha = 0.05$"
   ]
  },
  {
   "cell_type": "code",
   "execution_count": 23,
   "id": "equivalent-potato",
   "metadata": {},
   "outputs": [
    {
     "data": {
      "text/plain": [
       "(1.86325151208882, 2.2397041778303572)"
      ]
     },
     "execution_count": 23,
     "metadata": {},
     "output_type": "execute_result"
    }
   ],
   "source": [
    "conf_b = sps.t.interval(0.95, df = n-2, loc = b, scale = np.sqrt(var_b))\n",
    "conf_b"
   ]
  },
  {
   "cell_type": "markdown",
   "id": "emerging-village",
   "metadata": {},
   "source": [
    "График линейных моделей, соответствующих крайним точкам доверительных интервалов"
   ]
  },
  {
   "cell_type": "code",
   "execution_count": 24,
   "id": "magnetic-quest",
   "metadata": {},
   "outputs": [],
   "source": [
    "def mk_model(a,b):\n",
    "    return lambda x: linear(x, a,b)"
   ]
  },
  {
   "cell_type": "code",
   "execution_count": 25,
   "id": "governmental-charger",
   "metadata": {},
   "outputs": [
    {
     "data": {
      "text/plain": [
       "[<matplotlib.lines.Line2D at 0x14994529d00>]"
      ]
     },
     "execution_count": 25,
     "metadata": {},
     "output_type": "execute_result"
    },
    {
     "data": {
      "image/png": "[encoded data removed]",
      "text/plain": [
       "<Figure size 432x288 with 1 Axes>"
      ]
     },
     "metadata": {
      "needs_background": "light"
     },
     "output_type": "display_data"
    }
   ],
   "source": [
    "plt.scatter(x, y, s=1)\n",
    "plt.plot(x, mk_model(a,b)(x))\n",
    "plt.plot(x, mk_model(conf_a[0], conf_b[0])(x))\n",
    "plt.plot(x, mk_model(conf_a[1], conf_b[1])(x))"
   ]
  },
  {
   "cell_type": "code",
   "execution_count": 26,
   "id": "registered-vaccine",
   "metadata": {},
   "outputs": [
    {
     "name": "stdout",
     "output_type": "stream",
     "text": [
      "54.6 µs ± 1.87 µs per loop (mean ± std. dev. of 5 runs, 1000 loops each)\n"
     ]
    }
   ],
   "source": [
    "%%timeit -n 1000 -r 5\n",
    "sum_x = x.sum()\n",
    "sum_y = y.sum()\n",
    "sum_xy = (x*y).sum()\n",
    "sum_x_sq = (x*x).sum()\n",
    "a = (n*sum_xy - sum_x*sum_y)/(n*sum_x_sq - sum_x*sum_x)\n",
    "b = (sum_y*sum_x_sq - sum_x*sum_xy)/(n*sum_x_sq - sum_x*sum_x)\n",
    "\n",
    "u = y - (a*x+b)\n",
    "u_avg = np.mean(u)\n",
    "sigma_square = 1.0/(n-2)*np.sum((u - u_avg)**2)\n",
    "x_mean = np.mean(x)\n",
    "dx_square = np.sum((x-x_mean)**2)\n",
    "\n",
    "a_err = np.sqrt(sigma_square/dx_square)\n",
    "b_err = np.sqrt(sigma_square*(1.0/n + np.mean(x)**2/dx_square))\n",
    "a,b,(a_err, b_err)"
   ]
  },
  {
   "cell_type": "markdown",
   "id": "thrown-factory",
   "metadata": {},
   "source": [
    "_всякое разное_"
   ]
  },
  {
   "cell_type": "code",
   "execution_count": 27,
   "id": "centered-croatia",
   "metadata": {},
   "outputs": [
    {
     "data": {
      "text/plain": [
       "array([5.34403699e-09, 2.60959010e-09])"
      ]
     },
     "execution_count": 27,
     "metadata": {},
     "output_type": "execute_result"
    }
   ],
   "source": [
    "np.diag(cov)/np.array((var_a, var_b)) - 1"
   ]
  },
  {
   "cell_type": "code",
   "execution_count": 28,
   "id": "latin-liabilities",
   "metadata": {},
   "outputs": [
    {
     "data": {
      "text/plain": [
       "-0.06421344832401957"
      ]
     },
     "execution_count": 28,
     "metadata": {},
     "output_type": "execute_result"
    }
   ],
   "source": [
    "sps.t.ppf(0.25, len(x)-2)*b_err"
   ]
  },
  {
   "cell_type": "code",
   "execution_count": 29,
   "id": "graphic-difference",
   "metadata": {},
   "outputs": [
    {
     "data": {
      "text/plain": [
       "0.18822633287076862"
      ]
     },
     "execution_count": 29,
     "metadata": {},
     "output_type": "execute_result"
    }
   ],
   "source": [
    "(conf_b[1] - conf_b[0])/2"
   ]
  },
  {
   "cell_type": "code",
   "execution_count": 30,
   "id": "imposed-vancouver",
   "metadata": {},
   "outputs": [
    {
     "data": {
      "text/plain": [
       "[<matplotlib.lines.Line2D at 0x1499457a880>]"
      ]
     },
     "execution_count": 30,
     "metadata": {},
     "output_type": "execute_result"
    },
    {
     "data": {
      "image/png": "[encoded data removed]",
      "text/plain": [
       "<Figure size 432x288 with 1 Axes>"
      ]
     },
     "metadata": {
      "needs_background": "light"
     },
     "output_type": "display_data"
    }
   ],
   "source": [
    "alpha = np.linspace(0,1,20)\n",
    "plt.plot(alpha, np.abs(sps.t.ppf(alpha/2, n-2)))"
   ]
  },
  {
   "cell_type": "code",
   "execution_count": null,
   "id": "excessive-hebrew",
   "metadata": {},
   "outputs": [],
   "source": []
  }
 ],
 "metadata": {
  "kernelspec": {
   "display_name": "Python 3",
   "language": "python",
   "name": "python3"
  },
  "language_info": {
   "codemirror_mode": {
    "name": "ipython",
    "version": 3
   },
   "file_extension": ".py",
   "mimetype": "text/x-python",
   "name": "python",
   "nbconvert_exporter": "python",
   "pygments_lexer": "ipython3",
   "version": "3.9.2"
  }
 },
 "nbformat": 4,
 "nbformat_minor": 5
}
