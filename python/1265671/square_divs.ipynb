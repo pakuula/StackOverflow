{
 "cells": [
  {
   "cell_type": "markdown",
   "metadata": {},
   "source": [
    "Ответ на вопрос https://ru.stackoverflow.com/questions/1265671/: **Найти число, сумма квадратов делителей которого является квадратом целого числа**\n",
    "\n",
    "ТС попросил оптимизировать решение."
   ]
  },
  {
   "cell_type": "markdown",
   "metadata": {},
   "source": [
    "Решение найденное автором вопроса.\n",
    "На заданном интервале ищет подходящие числа, печатает список найденных и время, потраченное не счёт."
   ]
  },
  {
   "cell_type": "code",
   "execution_count": 1,
   "metadata": {},
   "outputs": [
    {
     "name": "stdout",
     "output_type": "stream",
     "text": [
      "[[1, 1], [42, 2500], [246, 84100], [287, 84100]]\n",
      "0.010788917541503906\n"
     ]
    }
   ],
   "source": [
    "import time\n",
    "\n",
    "t1 = time.time()\n",
    "def list_squared(m, n):\n",
    "    need_numbers = []\n",
    "    for i in range(m, n):\n",
    "        divisors = [elem*elem for elem in range(1, (i+1)) if i % elem == 0 ]       \n",
    "        da = sum(divisors)**(0.5)\n",
    "        if da.is_integer():\n",
    "            need_numbers.append([i, sum(divisors)]) \n",
    "    return need_numbers\n",
    "\n",
    "\n",
    "\n",
    "print(list_squared(1, 700))\n",
    "t2 = time.time()\n",
    "print(t2-t1)"
   ]
  },
  {
   "cell_type": "markdown",
   "metadata": {},
   "source": [
    "Оптимизированное решение использует тот факт, что все делители числа `n` состоят из тех же простых чисел, что делят само число `n`. Например, делители числа 300 [1, 5, 25, 3, 15, 75, 2, 10, 50, 6, 30, 150, 4, 20, 100, 12, 60, 300] сами делятся только на 2,3,5. Ну и единица, понятное дело.\n",
    "\n",
    "Поэтому для ускорения счёта нужно разложить число `n` на простые множители, найти для каждого множителя с какой степенью оно делит число `n` и построить все комбинации произведений простых сомножителей.\n",
    "\n",
    "**Пример**\n",
    "`300 = 2**2 * 3 * 5**2`\n",
    "Значит, делителями будут: `1, 2**1, 2**2, 3, 2*3, 2**2 * 3, 5, 2**2 * 5, 2*3*5, 2**2 *3*5, 5**2, 2**2 * 5**2, 2*3*5**2, 2**2 *3*5**2, 3*5, 3 * 5**2`.\n"
   ]
  },
  {
   "cell_type": "code",
   "execution_count": 2,
   "metadata": {},
   "outputs": [],
   "source": [
    "import math"
   ]
  },
  {
   "cell_type": "code",
   "execution_count": 3,
   "metadata": {},
   "outputs": [],
   "source": [
    "# Список простых чисел, меньших 1000\n",
    "primes = [2, 3, 5, 7, 11, 13, 17, 19, 23,\n",
    "29, 31, 37, 41, 43, 47, 53, 59, 61, 67,\n",
    "71, 73, 79, 83, 89, 97, 101, 103, 107, 109,\n",
    "113, 127, 131, 137, 139, 149, 151, 157, 163, 167,\n",
    "173, 179, 181, 191, 193, 197, 199, 211, 223, 227,\n",
    "229, 233, 239, 241, 251, 257, 263, 269, 271, 277,\n",
    "281, 283, 293, 307, 311, 313, 317, 331, 337, 347,\n",
    "349, 353, 359, 367, 373, 379, 383, 389, 397, 401,\n",
    "409, 419, 421, 431, 433, 439, 443, 449, 457, 461,\n",
    "463, 467, 479, 487, 491, 499, 503, 509, 521, 523,\n",
    "541, 547, 557, 563, 569, 571, 577, 587, 593, 599,\n",
    "601, 607, 613, 617, 619, 631, 641, 643, 647, 653,\n",
    "659, 661, 673, 677, 683, 691, 701, 709, 719, 727,\n",
    "733, 739, 743, 751, 757, 761, 769, 773, 787, 797,\n",
    "809, 811, 821, 823, 827, 829, 839, 853, 857, 859,\n",
    "863, 877, 881, 883, 887, 907, 911, 919, 929, 937,\n",
    "941, 947, 953, 967, 971, 977, 983, 991, 997]"
   ]
  },
  {
   "cell_type": "code",
   "execution_count": 4,
   "metadata": {},
   "outputs": [],
   "source": [
    "def find_prime_divisor(n):\n",
    "    \"Функция наименьший простой делитель числа n\"\n",
    "    lim = math.floor(math.sqrt(n+1))\n",
    "    # Сначала проверим простые из списка\n",
    "    for p in primes:\n",
    "        if p > lim:\n",
    "            # p*p > n -- дальше перебирать бессмысленно, n не делится на такое большое p\n",
    "            break\n",
    "        if n%p == 0:\n",
    "            # Нашли делитель\n",
    "            return p\n",
    "    if p > lim:\n",
    "        # n меньше миллиона, и не делится ни на одно простое из списка\n",
    "        # следовательно, n - простое\n",
    "        return n\n",
    "    # n больше миллиона. Ищем его делители лобовым перебором. \n",
    "    for m in range(p, n,2):\n",
    "        if n%m == 0:\n",
    "            return m\n",
    "    # делители не найдены. n - простое число\n",
    "    return n"
   ]
  },
  {
   "cell_type": "code",
   "execution_count": 5,
   "metadata": {},
   "outputs": [
    {
     "data": {
      "text/plain": [
       "65537"
      ]
     },
     "execution_count": 5,
     "metadata": {},
     "output_type": "execute_result"
    }
   ],
   "source": [
    "find_prime_divisor(65537)"
   ]
  },
  {
   "cell_type": "code",
   "execution_count": 6,
   "metadata": {},
   "outputs": [],
   "source": [
    "def get_divisor_degree(m,n):\n",
    "    \"\"\"Функция возвращает максимальную степень d числа m, при которой m**d делит n\n",
    "    Возвращается пара (d, n/m**d)\n",
    "    \"\"\"\n",
    "    deg = 0\n",
    "    while n%m == 0:\n",
    "        deg += 1\n",
    "        n //= m\n",
    "    return deg, n"
   ]
  },
  {
   "cell_type": "code",
   "execution_count": 7,
   "metadata": {},
   "outputs": [
    {
     "data": {
      "text/plain": [
       "(7, 3)"
      ]
     },
     "execution_count": 7,
     "metadata": {},
     "output_type": "execute_result"
    }
   ],
   "source": [
    "get_divisor_degree(2, 384)"
   ]
  },
  {
   "cell_type": "code",
   "execution_count": 8,
   "metadata": {},
   "outputs": [],
   "source": [
    "def factorize(n):\n",
    "    \"\"\"Функция раскладывает n на простые множители.\n",
    "    Возвращается набор пар (простой_делитель, степень_делителя) в виде словаря.\"\"\"\n",
    "    factors = {}\n",
    "    while n > 1:\n",
    "        p = find_prime_divisor(n)\n",
    "        deg, n = get_divisor_degree(p,n)\n",
    "        factors[p] = deg\n",
    "    return factors"
   ]
  },
  {
   "cell_type": "code",
   "execution_count": 9,
   "metadata": {},
   "outputs": [
    {
     "data": {
      "text/plain": [
       "{2: 1, 3: 2, 7: 3, 11: 2}"
      ]
     },
     "execution_count": 9,
     "metadata": {},
     "output_type": "execute_result"
    }
   ],
   "source": [
    "factorize(2*3*3*7*7*7*11*11)"
   ]
  },
  {
   "cell_type": "code",
   "execution_count": 10,
   "metadata": {},
   "outputs": [],
   "source": [
    "def gen_divisors(factors):\n",
    "    \"\"\"Генератор делителей из списка пар (простой_делитель, степень_делителя)\"\"\"\n",
    "    if isinstance(factors, dict):\n",
    "        factors = list(factors.items())\n",
    "    if len(factors) == 0:\n",
    "        # Пустой список - вовзращаем 1\n",
    "        yield 1\n",
    "    else:\n",
    "        # вынимает первый делитель из списка\n",
    "        p, deg = factors[0]\n",
    "        p_m = 1\n",
    "        for _ in range(deg+1):\n",
    "            # генерируем делители из остальных простых делителей \n",
    "            # и умножаем их последовательно на степени p\n",
    "            for div in gen_divisors(factors[1:]):\n",
    "                yield p_m*div\n",
    "            p_m *= p\n"
   ]
  },
  {
   "cell_type": "code",
   "execution_count": 11,
   "metadata": {},
   "outputs": [
    {
     "data": {
      "text/plain": [
       "[1, 5, 25, 3, 15, 75, 2, 10, 50, 6, 30, 150, 4, 20, 100, 12, 60, 300]"
      ]
     },
     "execution_count": 11,
     "metadata": {},
     "output_type": "execute_result"
    }
   ],
   "source": [
    "list(gen_divisors(factorize(300)))"
   ]
  },
  {
   "cell_type": "code",
   "execution_count": 12,
   "metadata": {},
   "outputs": [],
   "source": [
    "def list_divisors(n):\n",
    "    '''Функция возвращает список всех делителей числа n'''\n",
    "    return list(gen_divisors(factorize(n)))\n"
   ]
  },
  {
   "cell_type": "code",
   "execution_count": 13,
   "metadata": {},
   "outputs": [
    {
     "data": {
      "text/plain": [
       "[1, 5, 25, 3, 15, 75, 2, 10, 50, 6, 30, 150, 4, 20, 100, 12, 60, 300]"
      ]
     },
     "execution_count": 13,
     "metadata": {},
     "output_type": "execute_result"
    }
   ],
   "source": [
    "list_divisors(300)"
   ]
  },
  {
   "cell_type": "code",
   "execution_count": 14,
   "metadata": {},
   "outputs": [
    {
     "data": {
      "text/plain": [
       "[1]"
      ]
     },
     "execution_count": 14,
     "metadata": {},
     "output_type": "execute_result"
    }
   ],
   "source": [
    "list_divisors(1)"
   ]
  },
  {
   "cell_type": "code",
   "execution_count": 15,
   "metadata": {},
   "outputs": [],
   "source": [
    "def is_square(n):\n",
    "    \"Функция возвращает True, если целое число n является квадратом другого целого числа.\"\n",
    "    root = math.floor(math.sqrt(n+1))\n",
    "    return  root*root == n"
   ]
  },
  {
   "cell_type": "code",
   "execution_count": 16,
   "metadata": {},
   "outputs": [
    {
     "data": {
      "text/plain": [
       "(True, False)"
      ]
     },
     "execution_count": 16,
     "metadata": {},
     "output_type": "execute_result"
    }
   ],
   "source": [
    "is_square(625), is_square(101)"
   ]
  },
  {
   "cell_type": "code",
   "execution_count": 17,
   "metadata": {},
   "outputs": [],
   "source": [
    "def check_number(n):\n",
    "    \"Функция возвращает True если число подходит под условие задачи, и сумму квадратов делителей\"\n",
    "    divs = list_divisors(n)\n",
    "    divs_square = sum(map(lambda x:x*x, divs))\n",
    "    return is_square(divs_square), divs_square"
   ]
  },
  {
   "cell_type": "code",
   "execution_count": 18,
   "metadata": {},
   "outputs": [
    {
     "data": {
      "text/plain": [
       "(True, 84100)"
      ]
     },
     "execution_count": 18,
     "metadata": {},
     "output_type": "execute_result"
    }
   ],
   "source": [
    "check_number(246)"
   ]
  },
  {
   "cell_type": "code",
   "execution_count": 19,
   "metadata": {},
   "outputs": [],
   "source": [
    "def run(iterable):\n",
    "    \"Функция проверяет каждое число из итератора и генерирует пары (число, сумма квадратов делителей) для подходящих\" \n",
    "    for n in iterable:\n",
    "        good, divs_square = check_number(n)\n",
    "        if good:\n",
    "            yield n, divs_square"
   ]
  },
  {
   "cell_type": "code",
   "execution_count": 20,
   "metadata": {},
   "outputs": [
    {
     "name": "stdout",
     "output_type": "stream",
     "text": [
      "[(1, 1), (42, 2500), (246, 84100), (287, 84100)]\n",
      "7.39 ms ± 0 ns per loop (mean ± std. dev. of 1 run, 1 loop each)\n"
     ]
    }
   ],
   "source": [
    "%%timeit -n 1 -r 1\n",
    "print(list(run(range(1, 700))))"
   ]
  },
  {
   "cell_type": "markdown",
   "metadata": {},
   "source": [
    "Тест: проверка подходящих чисел из интервала от 1 до 10_000. Всего 130 миллисекунд на core i7"
   ]
  },
  {
   "cell_type": "code",
   "execution_count": 21,
   "metadata": {},
   "outputs": [
    {
     "name": "stdout",
     "output_type": "stream",
     "text": [
      "[(1, 1), (42, 2500), (246, 84100), (287, 84100), (728, 722500), (1434, 2856100), (1673, 2856100), (1880, 4884100), (4264, 24304900), (6237, 45024100), (9799, 96079204), (9855, 113635600)]\n",
      "128 ms ± 0 ns per loop (mean ± std. dev. of 1 run, 1 loop each)\n"
     ]
    }
   ],
   "source": [
    "%%timeit -n 1 -r 1\n",
    "print(list(run(range(1, 10000))))"
   ]
  },
  {
   "cell_type": "code",
   "execution_count": null,
   "metadata": {},
   "outputs": [],
   "source": []
  }
 ],
 "metadata": {
  "kernelspec": {
   "display_name": "Python 3",
   "language": "python",
   "name": "python3"
  },
  "language_info": {
   "codemirror_mode": {
    "name": "ipython",
    "version": 3
   },
   "file_extension": ".py",
   "mimetype": "text/x-python",
   "name": "python",
   "nbconvert_exporter": "python",
   "pygments_lexer": "ipython3",
   "version": "3.6.9"
  }
 },
 "nbformat": 4,
 "nbformat_minor": 4
}
