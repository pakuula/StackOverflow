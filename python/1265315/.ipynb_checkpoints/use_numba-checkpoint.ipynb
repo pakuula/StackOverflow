{
 "cells": [
  {
   "cell_type": "code",
   "execution_count": 2,
   "metadata": {},
   "outputs": [],
   "source": [
    "from numpy import *\n",
    "import numpy as np\n",
    "from matplotlib import *\n",
    "from scipy import *\n",
    "from pylab import figure, show, setp\n",
    "from mpl_toolkits.mplot3d import Axes3D\n",
    "import matplotlib.pyplot as plt\n",
    "import scipy.io as sio\n",
    "from scipy.signal import find_peaks\n",
    " \n"
   ]
  },
  {
   "cell_type": "code",
   "execution_count": 53,
   "metadata": {},
   "outputs": [],
   "source": [
    "import numba"
   ]
  },
  {
   "cell_type": "code",
   "execution_count": 1,
   "metadata": {},
   "outputs": [
    {
     "ename": "NameError",
     "evalue": "name 'numba' is not defined",
     "output_type": "error",
     "traceback": [
      "\u001b[0;31m---------------------------------------------------------------------------\u001b[0m",
      "\u001b[0;31mNameError\u001b[0m                                 Traceback (most recent call last)",
      "\u001b[0;32m<ipython-input-1-1e491f399218>\u001b[0m in \u001b[0;36m<module>\u001b[0;34m\u001b[0m\n\u001b[1;32m      1\u001b[0m \u001b[0;31m#Функция ТС из вопроса\u001b[0m\u001b[0;34m\u001b[0m\u001b[0;34m\u001b[0m\u001b[0;34m\u001b[0m\u001b[0m\n\u001b[0;32m----> 2\u001b[0;31m \u001b[0;34m@\u001b[0m\u001b[0mnumba\u001b[0m\u001b[0;34m.\u001b[0m\u001b[0mnjit\u001b[0m\u001b[0;34m\u001b[0m\u001b[0;34m\u001b[0m\u001b[0m\n\u001b[0m\u001b[1;32m      3\u001b[0m \u001b[0;32mdef\u001b[0m \u001b[0mnum_rossler\u001b[0m\u001b[0;34m(\u001b[0m\u001b[0mx1_n\u001b[0m\u001b[0;34m,\u001b[0m \u001b[0my1_n\u001b[0m\u001b[0;34m,\u001b[0m \u001b[0mz1_n\u001b[0m\u001b[0;34m,\u001b[0m \u001b[0mx2_n\u001b[0m\u001b[0;34m,\u001b[0m \u001b[0my2_n\u001b[0m\u001b[0;34m,\u001b[0m \u001b[0mz2_n\u001b[0m\u001b[0;34m,\u001b[0m \u001b[0mh\u001b[0m\u001b[0;34m,\u001b[0m \u001b[0ma\u001b[0m\u001b[0;34m,\u001b[0m \u001b[0mb\u001b[0m\u001b[0;34m,\u001b[0m \u001b[0mc\u001b[0m\u001b[0;34m,\u001b[0m \u001b[0mk\u001b[0m\u001b[0;34m)\u001b[0m\u001b[0;34m:\u001b[0m\u001b[0;34m\u001b[0m\u001b[0;34m\u001b[0m\u001b[0m\n\u001b[1;32m      4\u001b[0m     \u001b[0mx1_n1\u001b[0m\u001b[0;34m=\u001b[0m\u001b[0mx1_n\u001b[0m\u001b[0;34m+\u001b[0m\u001b[0mh\u001b[0m\u001b[0;34m*\u001b[0m\u001b[0;34m(\u001b[0m\u001b[0;34m-\u001b[0m\u001b[0my1_n\u001b[0m\u001b[0;34m-\u001b[0m\u001b[0mz1_n\u001b[0m\u001b[0;34m+\u001b[0m\u001b[0mk\u001b[0m\u001b[0;34m*\u001b[0m\u001b[0;34m(\u001b[0m\u001b[0mx2_n\u001b[0m\u001b[0;34m-\u001b[0m\u001b[0mx1_n\u001b[0m\u001b[0;34m)\u001b[0m\u001b[0;34m)\u001b[0m \u001b[0;31m# dx/dt = - y1 - z1 + k (x2 - x1 )\u001b[0m\u001b[0;34m\u001b[0m\u001b[0;34m\u001b[0m\u001b[0m\n\u001b[1;32m      5\u001b[0m     \u001b[0my1_n1\u001b[0m\u001b[0;34m=\u001b[0m\u001b[0my1_n\u001b[0m\u001b[0;34m+\u001b[0m\u001b[0mh\u001b[0m\u001b[0;34m*\u001b[0m\u001b[0;34m(\u001b[0m\u001b[0mx1_n\u001b[0m\u001b[0;34m+\u001b[0m\u001b[0ma\u001b[0m\u001b[0;34m*\u001b[0m\u001b[0my1_n\u001b[0m\u001b[0;34m)\u001b[0m\u001b[0;34m\u001b[0m\u001b[0;34m\u001b[0m\u001b[0m\n",
      "\u001b[0;31mNameError\u001b[0m: name 'numba' is not defined"
     ]
    }
   ],
   "source": [
    "#Функция ТС из вопроса\n",
    "@numba.njit\n",
    "def num_rossler(x1_n, y1_n, z1_n, x2_n, y2_n, z2_n, h, a, b, c, k):\n",
    "    x1_n1=x1_n+h*(-y1_n-z1_n+k*(x2_n-x1_n)) # dx/dt = - y1 - z1 + k (x2 - x1 )\n",
    "    y1_n1=y1_n+h*(x1_n+a*y1_n)\n",
    "    z1_n1=z1_n+h*(b+z1_n*(x1_n-c))   \n",
    " \n",
    "    x2_n1=x2_n+h*(-y2_n-z2_n+k*(x1_n-x2_n))\n",
    "    y2_n1=y2_n+h*(x2_n+a*y2_n)\n",
    "    z2_n1=z2_n+h*(b+z2_n*(x2_n-c))\n",
    " \n",
    "    return x1_n1, y1_n1, z1_n1, x2_n1, y2_n1, z2_n1\n",
    "\n",
    "# Генератор производит решения динамической системы\n",
    "# niter Определяет сколько точек построить\n",
    "# x1, y1, z1, x2,y2,z2 - начальное положение\n",
    "@numba.njit\n",
    "def gen_rossler(x1, y1, z1, x2,y2,z2, dt, a,b,c,k, niter):\n",
    "    yield (x1,y1,z1, x2,y2,z2)\n",
    "    for _ in range(niter):\n",
    "        dx1 = dt*(-y1-z1 + k*(x2-x1))\n",
    "        dy1 = dt*(x1 + a*y1)\n",
    "        dz1 = dt*(b + z1*(x1 - c))\n",
    "    \n",
    "        dx2 = dt*(-y2-z2 + k*(x1-x2))\n",
    "        dy2 = dt*(x2 + a*y2)\n",
    "        dz2 = dt*(b + z2*(x2 - c))\n",
    "    \n",
    "        x1,y1,z1 = x1+dx1, y1+dy1, z1+dz1\n",
    "        x2,y2,z2 = x2+dx2, y2+dy2, z2+dz2\n",
    "        \n",
    "        yield (x1,y1,z1, x2,y2,z2)"
   ]
  },
  {
   "cell_type": "code",
   "execution_count": 180,
   "metadata": {},
   "outputs": [
    {
     "name": "stdout",
     "output_type": "stream",
     "text": [
      "1005309\n"
     ]
    }
   ],
   "source": [
    "#Now we prepare some variables\n",
    "#First the parameters\n",
    "a=0.165\n",
    "b=0.2\n",
    "c=10\n",
    "k=0.1\n",
    " \n",
    "#Them the time interval and the step size\n",
    "t_ini=0\n",
    "t_fin=32*pi\n",
    "h=0.0001\n",
    "numsteps=int((t_fin-t_ini)/h)\n",
    " \n",
    "#using this parameters we build the time.\n",
    "t=numpy.linspace(t_ini,t_fin,numsteps)\n",
    "#And the vectors for the solutions\n",
    "x1=numpy.zeros(numsteps)\n",
    "y1=numpy.zeros(numsteps)\n",
    "z1=numpy.zeros(numsteps)\n",
    " \n",
    "x2=numpy.zeros(numsteps)\n",
    "y2=numpy.zeros(numsteps)\n",
    "z2=numpy.zeros(numsteps)\n",
    " \n",
    "print(x1.size)\n",
    "\n",
    "#We set the initial conditions\n",
    "x1_0 = 0.001\n",
    "y1_0 = 0.001\n",
    "z1_0 = 0.001\n",
    "x2_0 = 0.002\n",
    "y2_0 = 0.002\n",
    "z2_0 = 0.002\n",
    "\n",
    "x1[0]=0.001\n",
    "y1[0]=0.001\n",
    "z1[0]=0.001\n",
    " \n",
    "x2[0]=0.002\n",
    "y2[0]=0.002\n",
    "z2[0]=0.002\n",
    " \n",
    "#This is the main loop where we use the recursive system to obtain the solution\n",
    "n=x1.size-1\n"
   ]
  },
  {
   "cell_type": "code",
   "execution_count": 181,
   "metadata": {},
   "outputs": [
    {
     "name": "stdout",
     "output_type": "stream",
     "text": [
      "2.28 s ± 0 ns per loop (mean ± std. dev. of 1 run, 1 loop each)\n"
     ]
    }
   ],
   "source": [
    "%%timeit -n1 -r1\n",
    "for k in range(0, n):\n",
    "    #We use the previous point to generate the new point using the recursion\n",
    "    [x1[k+1],y1[k+1],z1[k+1],x2[k+1],y2[k+1],z2[k+1]]=num_rossler(x1[k],y1[k],z1[k],x2[k],y2[k],z2[k],t[k+1]-t[k],a,b,c,K)\n",
    "\n"
   ]
  },
  {
   "cell_type": "code",
   "execution_count": 182,
   "metadata": {},
   "outputs": [],
   "source": [
    "XYZ = np.zeros((numsteps+1, 6), dtype=float)\n"
   ]
  },
  {
   "cell_type": "code",
   "execution_count": 184,
   "metadata": {},
   "outputs": [
    {
     "name": "stdout",
     "output_type": "stream",
     "text": [
      "208 ms ± 0 ns per loop (mean ± std. dev. of 1 run, 1 loop each)\n"
     ]
    }
   ],
   "source": [
    "%%timeit -n1 -r1\n",
    "for _xyz, xyz in zip(XYZ, gen_rossler(x1_0, y1_0, z1_0, x2_0, y2_0, z2_0,t[1]-t[0],a,b,c,K, numsteps)):\n",
    "    _xyz = xyz"
   ]
  },
  {
   "cell_type": "code",
   "execution_count": 230,
   "metadata": {},
   "outputs": [
    {
     "name": "stdout",
     "output_type": "stream",
     "text": [
      "471 ms ± 0 ns per loop (mean ± std. dev. of 1 run, 1 loop each)\n"
     ]
    }
   ],
   "source": [
    "%%timeit -n 1 -r 1\n",
    "for i, (_x1,_y1,_z1,_x2,_y2,_z2) in zip(range(numsteps), gen_rossler(x1[0],y1[0],z1[0],x2[0],y2[0],z2[0],t[1]-t[0],a,b,c,K, numsteps)):\n",
    "    #We use the previous point to generate the new point using the recursion\n",
    "    x1[i],y1[i],z1[i],x2[i],y2[i],z2[i]=_x1,_y1,_z1,_x2,_y2,_z2\n",
    " "
   ]
  },
  {
   "cell_type": "code",
   "execution_count": 247,
   "metadata": {},
   "outputs": [],
   "source": [
    "@numba.njit(inline='always')\n",
    "def step_rossler(x1,y1,z1,x2,y2,z2, dt, a, b, c, k):\n",
    "    dx1 = dt*(-y1-z1 + k*(x2-x1))\n",
    "    dy1 = dt*(x1 + a*y1)\n",
    "    dz1 = dt*(b + z1*(x1 - c))\n",
    "\n",
    "    dx2 = dt*(-y2-z2 + k*(x1-x2))\n",
    "    dy2 = dt*(x2 + a*y2)\n",
    "    dz2 = dt*(b + z2*(x2 - c))\n",
    "    \n",
    "    x1,y1,z1 = x1+dx1, y1+dy1, z1+dz1\n",
    "    x2,y2,z2 = x2+dx2, y2+dy2, z2+dz2\n",
    "    \n",
    "    return (x1,y1,z1, x2,y2,z2)\n"
   ]
  },
  {
   "cell_type": "code",
   "execution_count": 259,
   "metadata": {},
   "outputs": [],
   "source": [
    "@numba.njit\n",
    "def orbit_rossler(x1,y1,z1,x2,y2,z2, dt, a, b, c, k, numsteps):\n",
    "    XYZ = np.zeros((numsteps+1)*6)\n",
    "    XYZ = np.reshape(XYZ, (numsteps+1, 6))\n",
    "    XYZ[0,:] = x1,y1,z1,x2,y2,z2\n",
    "    for i in range(1, numsteps+1):\n",
    "        x1,y1,z1,x2,y2,z2 = step_rossler(x1,y1,z1,x2,y2,z2, dt, a,b,c,k)\n",
    "\n",
    "        XYZ[i,:] = x1,y1,z1,x2,y2,z2\n",
    "    return XYZ"
   ]
  },
  {
   "cell_type": "code",
   "execution_count": 275,
   "metadata": {},
   "outputs": [
    {
     "name": "stdout",
     "output_type": "stream",
     "text": [
      "36.1 ms ± 2.59 ms per loop (mean ± std. dev. of 10 runs, 7 loops each)\n"
     ]
    }
   ],
   "source": [
    "%%timeit -n7 -r10\n",
    "XYZ = orbit_rossler(x1_0, y1_0, z1_0, x2_0, y2_0, z2_0,t[1]-t[0],a,b,c,K, numsteps)\n"
   ]
  },
  {
   "cell_type": "code",
   "execution_count": 261,
   "metadata": {},
   "outputs": [],
   "source": [
    "XYZ = orbit_rossler(x1_0, y1_0, z1_0, x2_0, y2_0, z2_0,t[1]-t[0],a,b,c,K, numsteps)"
   ]
  },
  {
   "cell_type": "code",
   "execution_count": 263,
   "metadata": {},
   "outputs": [
    {
     "data": {
      "text/plain": [
       "array([ 1.00000000e-03,  9.99800000e-04,  9.99598088e-04, ...,\n",
       "       -7.45359580e+00, -7.45450153e+00, -7.45540720e+00])"
      ]
     },
     "execution_count": 263,
     "metadata": {},
     "output_type": "execute_result"
    }
   ],
   "source": [
    "x1,y1,z1,x2,y2,z2 = [ XYZ[:,i] for i in range(6) ]\n",
    "x1"
   ]
  },
  {
   "cell_type": "code",
   "execution_count": 289,
   "metadata": {},
   "outputs": [],
   "source": [
    "@numba.njit(inline='always')\n",
    "def fn_rossler(xyz, a, b, c, K):\n",
    "    x1,y1,z1,x2,y2,z2 = xyz\n",
    "    return np.array(( \\\n",
    "        (-y1-z1 + K*(x2-x1)), \\\n",
    "        (x1 + a*y1), \\\n",
    "        (b + z1*(x1 - c)), \\\n",
    "        (-y2-z2 + K*(x1-x2)), \\\n",
    "        (x2 + a*y2), \\\n",
    "        (b + z2*(x2 - c))\\\n",
    "    ))\n",
    "\n",
    "@numba.njit(inline='always')\n",
    "def step_rossler_rk(dt, xyz, a, b, c, K):\n",
    "    y1 = fn_rossler(xyz,           a,b,c,K)\n",
    "    y2 = fn_rossler(xyz+(dt/2)*y1, a,b,c,K)\n",
    "    y3 = fn_rossler(xyz+(dt/2)*y2, a,b,c,K)\n",
    "    y4 = fn_rossler(xyz+dt*y3,     a,b,c,K)\n",
    "    \n",
    "    return xyz + (dt/6)*(y1 + 2*y2 + 2*y3 + y4)\n",
    "\n",
    "@numba.njit\n",
    "def orbit_rossler_rk(xyz_0, dt, a, b, c, k, numsteps):\n",
    "    XYZ = np.zeros((numsteps+1)*6)\n",
    "    XYZ = np.reshape(XYZ, (numsteps+1, 6))\n",
    "    XYZ[0] = np.array(xyz_0)\n",
    "    xyz = np.array(xyz_0)\n",
    "    for i in range(1, numsteps+1):\n",
    "        xyz = step_rossler_rk(dt, xyz, a,b,c,k)\n",
    "\n",
    "        XYZ[i] = xyz\n",
    "    return XYZ"
   ]
  },
  {
   "cell_type": "code",
   "execution_count": 295,
   "metadata": {},
   "outputs": [
    {
     "name": "stdout",
     "output_type": "stream",
     "text": [
      "583 ms ± 9.19 ms per loop (mean ± std. dev. of 7 runs, 3 loops each)\n"
     ]
    }
   ],
   "source": [
    "%%timeit -n3 -r 7\n",
    "XYZ = orbit_rossler_rk((x1_0, y1_0, z1_0, x2_0, y2_0, z2_0),t[1]-t[0],a,b,c,K, numsteps)"
   ]
  },
  {
   "cell_type": "code",
   "execution_count": 293,
   "metadata": {},
   "outputs": [
    {
     "data": {
      "text/plain": [
       "array([[ 1.00000000e-03,  1.00000000e-03,  1.00000000e-03,\n",
       "         2.00000000e-03,  2.00000000e-03,  2.00000000e-03],\n",
       "       [ 9.99799044e-04,  1.00011649e-03,  1.01899064e-03,\n",
       "         1.99959909e-03,  2.00023298e-03,  2.01799143e-03],\n",
       "       [ 9.99596179e-04,  1.00023296e-03,  1.03796229e-03,\n",
       "         1.99919635e-03,  2.00046593e-03,  2.03596489e-03],\n",
       "       ...,\n",
       "       [-7.50782884e+00,  1.04155762e+01,  1.18926378e-02,\n",
       "        -7.71462768e+00,  6.96949488e+00,  1.15772937e-02],\n",
       "       [-7.50887156e+00,  1.04149972e+01,  1.18918164e-02,\n",
       "        -7.71532576e+00,  6.96883837e+00,  1.15767850e-02],\n",
       "       [-7.50991422e+00,  1.04144181e+01,  1.18909953e-02,\n",
       "        -7.71602377e+00,  6.96818178e+00,  1.15762764e-02]])"
      ]
     },
     "execution_count": 293,
     "metadata": {},
     "output_type": "execute_result"
    }
   ],
   "source": [
    "XYZ"
   ]
  },
  {
   "cell_type": "code",
   "execution_count": null,
   "metadata": {},
   "outputs": [],
   "source": []
  },
  {
   "cell_type": "code",
   "execution_count": null,
   "metadata": {},
   "outputs": [],
   "source": []
  },
  {
   "cell_type": "code",
   "execution_count": 266,
   "metadata": {},
   "outputs": [
    {
     "data": {
      "text/plain": [
       "Text(0.5, 0, 'z1(t)')"
      ]
     },
     "execution_count": 266,
     "metadata": {},
     "output_type": "execute_result"
    },
    {
     "data": {
      "image/png": "[encoded data removed]",
      "text/plain": [
       "<Figure size 432x288 with 3 Axes>"
      ]
     },
     "metadata": {
      "needs_background": "light"
     },
     "output_type": "display_data"
    }
   ],
   "source": [
    "#Now that we have the solution in vectors t,x,y,z is time to plot them.\n",
    "\n",
    "#We create a figure and 4 axes on it. 3 of the axes are going to be 2D and the fourth one is a 3D plot.\n",
    "fig = figure()\n",
    "ax1 = fig.add_axes([0.30, 0.7, 0.4, 0.2])\n",
    "ax3 = fig.add_axes([0.05, 0.1, 0.4, 0.5],projection='3d')\n",
    "ax4 = fig.add_axes([0.55, 0.1, 0.4, 0.5],projection='3d')\n",
    " \n",
    " \n",
    "#And we add vectors to each plot\n",
    "ax1.plot(t, x1[:-1],color='red',lw=1,label='x1(t)')\n",
    "ax1.set_xlabel('t')\n",
    "ax1.set_ylabel('x(t)')\n",
    "ax1.legend()\n",
    "ax1.axis((t_ini,t_fin,min(x1),max(x1)))\n",
    " \n",
    " \n",
    "# ax1.plot(t, x2,color='green',lw=1,label='x2(t)')\n",
    "ax1.set_xlabel('t')\n",
    "ax1.set_ylabel('x(t)')\n",
    "ax1.legend()\n",
    "ax1.axis((t_ini,t_fin,min(x2),max(x2)))\n",
    " \n",
    "ax4.plot(x2, y2,z2,color='green',lw=1)\n",
    "ax4.set_xlabel('x2(t)')\n",
    "ax4.set_ylabel('y2(t)')\n",
    "ax4.set_zlabel('z2(t)')\n",
    " \n",
    "ax3.plot(x1, y1,z1,color='red',lw=1)\n",
    "ax3.set_xlabel('x1(t)')\n",
    "ax3.set_ylabel('y1(t)')\n",
    "ax3.set_zlabel('z1(t)')\n",
    " \n"
   ]
  },
  {
   "cell_type": "code",
   "execution_count": null,
   "metadata": {},
   "outputs": [],
   "source": []
  }
 ],
 "metadata": {
  "kernelspec": {
   "display_name": "Python 3",
   "language": "python",
   "name": "python3"
  },
  "language_info": {
   "codemirror_mode": {
    "name": "ipython",
    "version": 3
   },
   "file_extension": ".py",
   "mimetype": "text/x-python",
   "name": "python",
   "nbconvert_exporter": "python",
   "pygments_lexer": "ipython3",
   "version": "3.6.9"
  }
 },
 "nbformat": 4,
 "nbformat_minor": 4
}
