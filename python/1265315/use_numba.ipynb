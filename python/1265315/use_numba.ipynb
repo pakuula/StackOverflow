{
 "cells": [
  {
   "cell_type": "code",
   "execution_count": 1,
   "metadata": {},
   "outputs": [],
   "source": [
    "from numpy import *\n",
    "import numpy as np\n",
    "from matplotlib import *\n",
    "from scipy import *\n",
    "from pylab import figure, show, setp\n",
    "from mpl_toolkits.mplot3d import Axes3D\n",
    "import matplotlib.pyplot as plt\n",
    "import scipy.io as sio\n",
    "from scipy.signal import find_peaks\n",
    " \n"
   ]
  },
  {
   "cell_type": "code",
   "execution_count": 2,
   "metadata": {},
   "outputs": [],
   "source": [
    "import numba"
   ]
  },
  {
   "cell_type": "code",
   "execution_count": 3,
   "metadata": {},
   "outputs": [],
   "source": [
    "#Функция ТС из вопроса\n",
    "@numba.njit\n",
    "def num_rossler(x1_n, y1_n, z1_n, x2_n, y2_n, z2_n, h, a, b, c, k):\n",
    "    x1_n1=x1_n+h*(-y1_n-z1_n+k*(x2_n-x1_n)) # dx/dt = - y1 - z1 + k (x2 - x1 )\n",
    "    y1_n1=y1_n+h*(x1_n+a*y1_n)\n",
    "    z1_n1=z1_n+h*(b+z1_n*(x1_n-c))   \n",
    " \n",
    "    x2_n1=x2_n+h*(-y2_n-z2_n+k*(x1_n-x2_n))\n",
    "    y2_n1=y2_n+h*(x2_n+a*y2_n)\n",
    "    z2_n1=z2_n+h*(b+z2_n*(x2_n-c))\n",
    " \n",
    "    return x1_n1, y1_n1, z1_n1, x2_n1, y2_n1, z2_n1\n",
    "\n",
    "# Генератор производит решения динамической системы\n",
    "# niter Определяет сколько точек построить\n",
    "# x1, y1, z1, x2,y2,z2 - начальное положение\n",
    "@numba.njit\n",
    "def gen_rossler(x1, y1, z1, x2,y2,z2, dt, a,b,c,k, niter):\n",
    "    yield (x1,y1,z1, x2,y2,z2)\n",
    "    for _ in range(niter):\n",
    "        dx1 = dt*(-y1-z1 + k*(x2-x1))\n",
    "        dy1 = dt*(x1 + a*y1)\n",
    "        dz1 = dt*(b + z1*(x1 - c))\n",
    "    \n",
    "        dx2 = dt*(-y2-z2 + k*(x1-x2))\n",
    "        dy2 = dt*(x2 + a*y2)\n",
    "        dz2 = dt*(b + z2*(x2 - c))\n",
    "    \n",
    "        x1,y1,z1 = x1+dx1, y1+dy1, z1+dz1\n",
    "        x2,y2,z2 = x2+dx2, y2+dy2, z2+dz2\n",
    "        \n",
    "        yield (x1,y1,z1, x2,y2,z2)"
   ]
  },
  {
   "cell_type": "code",
   "execution_count": 4,
   "metadata": {},
   "outputs": [
    {
     "name": "stdout",
     "output_type": "stream",
     "text": [
      "1005309\n"
     ]
    }
   ],
   "source": [
    "#Now we prepare some variables\n",
    "#First the parameters\n",
    "a=0.165\n",
    "b=0.2\n",
    "c=10\n",
    "K=0.1\n",
    " \n",
    "#Them the time interval and the step size\n",
    "t_ini=0\n",
    "t_fin=32*pi\n",
    "h=0.0001\n",
    "numsteps=int((t_fin-t_ini)/h)\n",
    " \n",
    "#using this parameters we build the time.\n",
    "t=numpy.linspace(t_ini,t_fin,numsteps)\n",
    "#And the vectors for the solutions\n",
    "x1=numpy.zeros(numsteps)\n",
    "y1=numpy.zeros(numsteps)\n",
    "z1=numpy.zeros(numsteps)\n",
    " \n",
    "x2=numpy.zeros(numsteps)\n",
    "y2=numpy.zeros(numsteps)\n",
    "z2=numpy.zeros(numsteps)\n",
    " \n",
    "print(x1.size)\n",
    "\n",
    "#We set the initial conditions\n",
    "x1_0 = 0.001\n",
    "y1_0 = 0.001\n",
    "z1_0 = 0.001\n",
    "x2_0 = 0.002\n",
    "y2_0 = 0.002\n",
    "z2_0 = 0.002\n",
    "\n",
    "x1[0]=0.001\n",
    "y1[0]=0.001\n",
    "z1[0]=0.001\n",
    " \n",
    "x2[0]=0.002\n",
    "y2[0]=0.002\n",
    "z2[0]=0.002\n",
    " \n",
    "#This is the main loop where we use the recursive system to obtain the solution\n",
    "n=x1.size-1\n"
   ]
  },
  {
   "cell_type": "markdown",
   "metadata": {},
   "source": [
    "Считаем по-простому"
   ]
  },
  {
   "cell_type": "code",
   "execution_count": 6,
   "metadata": {},
   "outputs": [
    {
     "name": "stdout",
     "output_type": "stream",
     "text": [
      "2.74 s ± 0 ns per loop (mean ± std. dev. of 1 run, 1 loop each)\n"
     ]
    }
   ],
   "source": [
    "%%timeit -n1 -r1\n",
    "for k in range(0, n):\n",
    "    #We use the previous point to generate the new point using the recursion\n",
    "    [x1[k+1],y1[k+1],z1[k+1],x2[k+1],y2[k+1],z2[k+1]]=num_rossler(x1[k],y1[k],z1[k],x2[k],y2[k],z2[k],t[k+1]-t[k],a,b,c,K)\n",
    "\n"
   ]
  },
  {
   "cell_type": "markdown",
   "metadata": {},
   "source": [
    "Считаем с генератором"
   ]
  },
  {
   "cell_type": "code",
   "execution_count": 7,
   "metadata": {},
   "outputs": [],
   "source": [
    "XYZ = np.zeros((numsteps+1, 6), dtype=float)"
   ]
  },
  {
   "cell_type": "code",
   "execution_count": 11,
   "metadata": {},
   "outputs": [
    {
     "name": "stdout",
     "output_type": "stream",
     "text": [
      "218 ms ± 0 ns per loop (mean ± std. dev. of 1 run, 1 loop each)\n"
     ]
    }
   ],
   "source": [
    "%%timeit -n1 -r1\n",
    "for _xyz, xyz in zip(XYZ, gen_rossler(x1_0, y1_0, z1_0, x2_0, y2_0, z2_0,t[1]-t[0],a,b,c,K, numsteps)):\n",
    "    _xyz = xyz"
   ]
  },
  {
   "cell_type": "markdown",
   "metadata": {},
   "source": [
    "Считаем с генератором, но в цикле"
   ]
  },
  {
   "cell_type": "code",
   "execution_count": 12,
   "metadata": {},
   "outputs": [
    {
     "name": "stdout",
     "output_type": "stream",
     "text": [
      "567 ms ± 0 ns per loop (mean ± std. dev. of 1 run, 1 loop each)\n"
     ]
    }
   ],
   "source": [
    "%%timeit -n 1 -r 1\n",
    "for i, (_x1,_y1,_z1,_x2,_y2,_z2) in zip(range(numsteps), gen_rossler(x1[0],y1[0],z1[0],x2[0],y2[0],z2[0],t[1]-t[0],a,b,c,K, numsteps)):\n",
    "    #We use the previous point to generate the new point using the recursion\n",
    "    x1[i],y1[i],z1[i],x2[i],y2[i],z2[i]=_x1,_y1,_z1,_x2,_y2,_z2\n",
    " "
   ]
  },
  {
   "cell_type": "markdown",
   "metadata": {},
   "source": [
    "## Ускорение счёта\n",
    "\n",
    "`numba` очень хорошо оптимизирует вычисления, которые не задействуют объекты `Python`. Компилятор умеет эффективно работать с массивами `numpy` и взаимодействует с ними на уровне C-API.\n",
    "\n",
    "Поэтому для максимального ускорения вычислений достаточно оптимизировать основной цикл построения решения."
   ]
  },
  {
   "cell_type": "code",
   "execution_count": 13,
   "metadata": {},
   "outputs": [],
   "source": [
    "# Вычисляет приращение переменных на очередной итерации\n",
    "@numba.njit(inline='always')\n",
    "def step_rossler(x1,y1,z1,x2,y2,z2, dt, a, b, c, k):\n",
    "    dx1 = dt*(-y1-z1 + k*(x2-x1))\n",
    "    dy1 = dt*(x1 + a*y1)\n",
    "    dz1 = dt*(b + z1*(x1 - c))\n",
    "\n",
    "    dx2 = dt*(-y2-z2 + k*(x1-x2))\n",
    "    dy2 = dt*(x2 + a*y2)\n",
    "    dz2 = dt*(b + z2*(x2 - c))\n",
    "    \n",
    "    x1,y1,z1 = x1+dx1, y1+dy1, z1+dz1\n",
    "    x2,y2,z2 = x2+dx2, y2+dy2, z2+dz2\n",
    "    \n",
    "    return (x1,y1,z1, x2,y2,z2)\n"
   ]
  },
  {
   "cell_type": "code",
   "execution_count": 14,
   "metadata": {},
   "outputs": [],
   "source": [
    "# Вычисляет орбиту начальной точки. Число шагов numsteps\n",
    "# Возвращает набор шестимерных точек.\n",
    "@numba.njit\n",
    "def orbit_rossler(x1,y1,z1,x2,y2,z2, dt, a, b, c, k, numsteps):\n",
    "    XYZ = np.zeros((numsteps+1)*6)\n",
    "    XYZ = np.reshape(XYZ, (numsteps+1, 6))\n",
    "    XYZ[0,:] = x1,y1,z1,x2,y2,z2\n",
    "    for i in range(1, numsteps+1):\n",
    "        x1,y1,z1,x2,y2,z2 = step_rossler(x1,y1,z1,x2,y2,z2, dt, a,b,c,k)\n",
    "\n",
    "        XYZ[i,:] = x1,y1,z1,x2,y2,z2\n",
    "    return XYZ"
   ]
  },
  {
   "cell_type": "code",
   "execution_count": 16,
   "metadata": {},
   "outputs": [
    {
     "name": "stdout",
     "output_type": "stream",
     "text": [
      "67.5 ms ± 5.57 ms per loop (mean ± std. dev. of 10 runs, 7 loops each)\n"
     ]
    }
   ],
   "source": [
    "%%timeit -n7 -r10\n",
    "XYZ = orbit_rossler(x1_0, y1_0, z1_0, x2_0, y2_0, z2_0,t[1]-t[0],a,b,c,K, numsteps)\n"
   ]
  },
  {
   "cell_type": "markdown",
   "metadata": {},
   "source": [
    "нужно пересчитать орбиту, так как вычисления в инструкции `%%timeit` не сохраняются в глобальном пространстве имён"
   ]
  },
  {
   "cell_type": "code",
   "execution_count": 17,
   "metadata": {},
   "outputs": [],
   "source": [
    "XYZ = orbit_rossler(x1_0, y1_0, z1_0, x2_0, y2_0, z2_0,t[1]-t[0],a,b,c,K, numsteps)"
   ]
  },
  {
   "cell_type": "markdown",
   "metadata": {},
   "source": [
    "Разбираем шестёрки на отдельные точки"
   ]
  },
  {
   "cell_type": "code",
   "execution_count": 18,
   "metadata": {},
   "outputs": [
    {
     "data": {
      "text/plain": [
       "array([ 1.00000000e-03,  9.99810000e-04,  9.99618086e-04, ...,\n",
       "       -2.38692077e+00, -2.38703969e+00, -2.38715859e+00])"
      ]
     },
     "execution_count": 18,
     "metadata": {},
     "output_type": "execute_result"
    }
   ],
   "source": [
    "x1,y1,z1,x2,y2,z2 = [ XYZ[:,i] for i in range(6) ]\n",
    "x1"
   ]
  },
  {
   "cell_type": "markdown",
   "metadata": {},
   "source": [
    "Графики решения"
   ]
  },
  {
   "cell_type": "code",
   "execution_count": 24,
   "metadata": {},
   "outputs": [
    {
     "data": {
      "text/plain": [
       "Text(0.5, 0, 'z1(t)')"
      ]
     },
     "execution_count": 24,
     "metadata": {},
     "output_type": "execute_result"
    },
    {
     "data": {
      "image/png": "[encoded data removed]",
      "text/plain": [
       "<Figure size 432x288 with 3 Axes>"
      ]
     },
     "metadata": {
      "needs_background": "light"
     },
     "output_type": "display_data"
    }
   ],
   "source": [
    "#Now that we have the solution in vectors t,x,y,z is time to plot them.\n",
    "\n",
    "#We create a figure and 4 axes on it. 3 of the axes are going to be 2D and the fourth one is a 3D plot.\n",
    "fig = figure()\n",
    "ax1 = fig.add_axes([0.30, 0.7, 0.4, 0.2])\n",
    "ax3 = fig.add_axes([0.05, 0.1, 0.4, 0.5],projection='3d')\n",
    "ax4 = fig.add_axes([0.55, 0.1, 0.4, 0.5],projection='3d')\n",
    " \n",
    " \n",
    "#And we add vectors to each plot\n",
    "ax1.plot(t, x1[:-1],color='red',lw=1,label='x1(t)')\n",
    "ax1.set_xlabel('t')\n",
    "ax1.set_ylabel('x(t)')\n",
    "ax1.legend()\n",
    "ax1.axis((t_ini,t_fin,min(x1),max(x1)))\n",
    " \n",
    " \n",
    "# ax1.plot(t, x2,color='green',lw=1,label='x2(t)')\n",
    "ax1.set_xlabel('t')\n",
    "ax1.set_ylabel('x(t)')\n",
    "ax1.legend()\n",
    "ax1.axis((t_ini,t_fin,min(x2),max(x2)))\n",
    " \n",
    "ax4.plot(x2, y2,z2,color='green',lw=1)\n",
    "ax4.set_xlabel('x2(t)')\n",
    "ax4.set_ylabel('y2(t)')\n",
    "ax4.set_zlabel('z2(t)')\n",
    " \n",
    "ax3.plot(x1, y1,z1,color='red',lw=1)\n",
    "ax3.set_xlabel('x1(t)')\n",
    "ax3.set_ylabel('y1(t)')\n",
    "ax3.set_zlabel('z1(t)')\n",
    " \n"
   ]
  },
  {
   "cell_type": "code",
   "execution_count": null,
   "metadata": {},
   "outputs": [],
   "source": []
  },
  {
   "cell_type": "markdown",
   "metadata": {},
   "source": [
    "## Метод Рунге-Кутта\n",
    "\n",
    "Выше динамическая система решалась методом Эйлера. Благодаря тому, что `numba` значительно увеличивает скорость счёта, можно искать решение явным методом Рунге-Кутта."
   ]
  },
  {
   "cell_type": "code",
   "execution_count": 19,
   "metadata": {},
   "outputs": [],
   "source": [
    "# Уравнение динамической системы\n",
    "@numba.njit(inline='always')\n",
    "def fn_rossler(xyz, a, b, c, K):\n",
    "    x1,y1,z1,x2,y2,z2 = xyz\n",
    "    return np.array(( \\\n",
    "        (-y1-z1 + K*(x2-x1)), \\\n",
    "        (x1 + a*y1), \\\n",
    "        (b + z1*(x1 - c)), \\\n",
    "        (-y2-z2 + K*(x1-x2)), \\\n",
    "        (x2 + a*y2), \\\n",
    "        (b + z2*(x2 - c))\\\n",
    "    ))\n",
    "\n",
    "# Шаг вычислений в методе Рунге-Кутта\n",
    "@numba.njit(inline='always')\n",
    "def step_rossler_rk(dt, xyz, a, b, c, K):\n",
    "    y1 = fn_rossler(xyz,           a,b,c,K)\n",
    "    y2 = fn_rossler(xyz+(dt/2)*y1, a,b,c,K)\n",
    "    y3 = fn_rossler(xyz+(dt/2)*y2, a,b,c,K)\n",
    "    y4 = fn_rossler(xyz+dt*y3,     a,b,c,K)\n",
    "    \n",
    "    return xyz + (dt/6)*(y1 + 2*y2 + 2*y3 + y4)\n",
    "\n",
    "# Построение решения методом Рунге-Кутта\n",
    "@numba.njit\n",
    "def orbit_rossler_rk(xyz_0, dt, a, b, c, k, numsteps):\n",
    "    XYZ = np.zeros((numsteps+1)*6)\n",
    "    XYZ = np.reshape(XYZ, (numsteps+1, 6))\n",
    "    XYZ[0] = np.array(xyz_0)\n",
    "    xyz = np.array(xyz_0)\n",
    "    for i in range(1, numsteps+1):\n",
    "        xyz = step_rossler_rk(dt, xyz, a,b,c,k)\n",
    "\n",
    "        XYZ[i] = xyz\n",
    "    return XYZ"
   ]
  },
  {
   "cell_type": "code",
   "execution_count": 20,
   "metadata": {},
   "outputs": [
    {
     "name": "stdout",
     "output_type": "stream",
     "text": [
      "692 ms ± 246 ms per loop (mean ± std. dev. of 7 runs, 3 loops each)\n"
     ]
    }
   ],
   "source": [
    "%%timeit -n3 -r 7\n",
    "XYZ = orbit_rossler_rk((x1_0, y1_0, z1_0, x2_0, y2_0, z2_0),t[1]-t[0],a,b,c,K, numsteps)"
   ]
  },
  {
   "cell_type": "code",
   "execution_count": 21,
   "metadata": {
    "scrolled": true
   },
   "outputs": [
    {
     "data": {
      "text/plain": [
       "array([[ 1.00000000e-03,  1.00000000e-03,  1.00000000e-03,\n",
       "         2.00000000e-03,  2.00000000e-03,  2.00000000e-03],\n",
       "       [ 9.99810000e-04,  1.00011650e-03,  1.01900013e-03,\n",
       "         1.99959000e-03,  2.00023300e-03,  2.01800043e-03],\n",
       "       [ 9.99618086e-04,  1.00023298e-03,  1.03798126e-03,\n",
       "         1.99917818e-03,  2.00046596e-03,  2.03598286e-03],\n",
       "       ...,\n",
       "       [-2.38692077e+00,  1.17293583e+00,  1.62943730e-02,\n",
       "        -2.38696966e+00,  1.17297975e+00,  1.62943117e-02],\n",
       "       [-2.38703969e+00,  1.17271649e+00,  1.62941893e-02,\n",
       "        -2.38708859e+00,  1.17276040e+00,  1.62941280e-02],\n",
       "       [-2.38715859e+00,  1.17249713e+00,  1.62940056e-02,\n",
       "        -2.38720749e+00,  1.17254104e+00,  1.62939443e-02]])"
      ]
     },
     "execution_count": 21,
     "metadata": {},
     "output_type": "execute_result"
    }
   ],
   "source": [
    "XYZ"
   ]
  }
 ],
 "metadata": {
  "kernelspec": {
   "display_name": "Python 3",
   "language": "python",
   "name": "python3"
  },
  "language_info": {
   "codemirror_mode": {
    "name": "ipython",
    "version": 3
   },
   "file_extension": ".py",
   "mimetype": "text/x-python",
   "name": "python",
   "nbconvert_exporter": "python",
   "pygments_lexer": "ipython3",
   "version": "3.6.9"
  }
 },
 "nbformat": 4,
 "nbformat_minor": 4
}
