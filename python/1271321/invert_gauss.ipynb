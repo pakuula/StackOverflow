{
 "cells": [
  {
   "cell_type": "markdown",
   "id": "further-digest",
   "metadata": {},
   "source": [
    "Ответ на вопрос [об инвертировании матрицы методом Гаусса](https://ru.stackoverflow.com/questions/1279499)"
   ]
  },
  {
   "cell_type": "code",
   "execution_count": 1,
   "id": "simplified-perfume",
   "metadata": {},
   "outputs": [],
   "source": [
    "import numpy as np"
   ]
  },
  {
   "cell_type": "code",
   "execution_count": 2,
   "id": "proud-satisfaction",
   "metadata": {},
   "outputs": [],
   "source": [
    "def invert(A):\n",
    "    assert np.ndim(A) == 2\n",
    "    assert A.shape[0] == A.shape[1]\n",
    "    n = A.shape[0]\n",
    "    matrix = np.hstack((A, np.eye(n)))\n",
    "        \n",
    "    # Приводим матрицу А к диагональному виду\n",
    "    for nrow, row in enumerate(matrix):\n",
    "        # nrow равен номеру строки\n",
    "        # row содержит саму строку матрицы\n",
    "        divider = row[nrow] # диагональный элемент\n",
    "        # делим на диагональный элемент.\n",
    "        row /= divider\n",
    "        # теперь надо вычесть приведённую строку из всех нижележащих строчек\n",
    "        for lower_row in matrix[nrow+1:]:\n",
    "            factor = lower_row[nrow] # элемент строки в колонке nrow\n",
    "            lower_row -= factor*row # вычитаем, чтобы получить ноль в колонке nrow\n",
    "            \n",
    "    # обратный ход\n",
    "    for nrow in range(len(matrix)-1,0,-1):\n",
    "        row = matrix[nrow]\n",
    "        for upper_row in matrix[:nrow]:\n",
    "            factor = upper_row[nrow]\n",
    "            # Вычитание целой строки на 15% быстрее, чем вычитание только правой части\n",
    "            upper_row -= factor*row\n",
    "    return matrix[:, n:].copy()"
   ]
  },
  {
   "cell_type": "code",
   "execution_count": 3,
   "id": "virtual-tucson",
   "metadata": {},
   "outputs": [],
   "source": [
    "A = np.array([[3.8, 6.7, -1.2], \n",
    "              [6.4, 1.3, -2.7], \n",
    "              [2.4, -4.5, 3.5]])"
   ]
  },
  {
   "cell_type": "code",
   "execution_count": 4,
   "id": "earned-couple",
   "metadata": {},
   "outputs": [
    {
     "data": {
      "text/plain": [
       "array([[ 0.04128819,  0.09805945,  0.08980182],\n",
       "       [ 0.15689513, -0.08790039, -0.01401625],\n",
       "       [ 0.1734104 , -0.18025555,  0.206115  ]])"
      ]
     },
     "execution_count": 4,
     "metadata": {},
     "output_type": "execute_result"
    }
   ],
   "source": [
    "I = invert(A)\n",
    "I"
   ]
  },
  {
   "cell_type": "markdown",
   "id": "critical-liberty",
   "metadata": {},
   "source": [
    "Проверка - произведение обратной матрицы и исходной матрицы"
   ]
  },
  {
   "cell_type": "code",
   "execution_count": 5,
   "id": "tight-pillow",
   "metadata": {},
   "outputs": [
    {
     "data": {
      "text/plain": [
       "array([[ 1.00000000e+00, -4.13116453e-17, -1.30511158e-17],\n",
       "       [ 4.13606208e-17,  1.00000000e+00,  1.35471190e-16],\n",
       "       [ 2.77555756e-17, -1.38777878e-17,  1.00000000e+00]])"
      ]
     },
     "execution_count": 5,
     "metadata": {},
     "output_type": "execute_result"
    }
   ],
   "source": [
    "np.matmul(A, I)"
   ]
  },
  {
   "cell_type": "markdown",
   "id": "dramatic-bennett",
   "metadata": {},
   "source": [
    "Максимальное отклонение от нуля в произведении обратной и исходной матриц"
   ]
  },
  {
   "cell_type": "code",
   "execution_count": 6,
   "id": "olive-accordance",
   "metadata": {},
   "outputs": [
    {
     "data": {
      "text/plain": [
       "1.3547119009181044e-16"
      ]
     },
     "execution_count": 6,
     "metadata": {},
     "output_type": "execute_result"
    }
   ],
   "source": [
    "np.max(np.abs(np.matmul(A, I) - np.eye(3)))"
   ]
  },
  {
   "cell_type": "markdown",
   "id": "uniform-thursday",
   "metadata": {},
   "source": [
    "Исправленный вариант топик-стартера"
   ]
  },
  {
   "cell_type": "code",
   "execution_count": 7,
   "id": "exterior-arbor",
   "metadata": {},
   "outputs": [],
   "source": [
    "def inverse_matrix(matrix_origin):\n",
    "    \"\"\"\n",
    "    Функция получает на вход матрицу, затем добавляет к ней единичную матрицу, \n",
    "    проводит элементарные преобразования по строкам с первоначальной, добиваясь получения слева единичной матрицы.\n",
    "    В этом случае справа окажется матрица, которая является обратной к заданнй первоначально \n",
    "    \"\"\"\n",
    "    # Склеиваем 2 матрицы: слева - первоначальная, справа - единичная\n",
    "    n = matrix_origin.shape[0]\n",
    "    m = np.hstack((matrix_origin, np.eye(n)))\n",
    "    \n",
    "    for nrow, row in enumerate(m):\n",
    "        # nrow равен номеру строки\n",
    "        # row содержит саму строку матрицы\n",
    "        divider = row[nrow] # диагональный элемент\n",
    "        # делим на диагональный элемент:\n",
    "        row /= divider\n",
    "        # теперь вычитаем приведённую строку из всех нижележащих строк:\n",
    "        for lower_row in m[nrow+1:]:\n",
    "            factor = lower_row[nrow] # элемент строки в колонке nrow\n",
    "            lower_row -= factor*row # вычитаем, чтобы получить ноль в колонке nrow\n",
    "    # обратный ход:\n",
    "    for k in range(n - 1, 0, -1):\n",
    "        for row_ in range(k - 1, -1, -1):\n",
    "            if m[row_, k]:\n",
    "                # 1) Все элементы выше главной диагонали делаем равными нулю\n",
    "                m[row_, :] -= m[k, :] * m[row_, k]\n",
    "    return m[:,n:].copy()\n",
    "    \n",
    "            \n"
   ]
  },
  {
   "cell_type": "code",
   "execution_count": 8,
   "id": "through-compromise",
   "metadata": {},
   "outputs": [
    {
     "data": {
      "text/plain": [
       "array([[ 0.04128819,  0.09805945,  0.08980182],\n",
       "       [ 0.15689513, -0.08790039, -0.01401625],\n",
       "       [ 0.1734104 , -0.18025555,  0.206115  ]])"
      ]
     },
     "execution_count": 8,
     "metadata": {},
     "output_type": "execute_result"
    }
   ],
   "source": [
    "matrix = np.array([[3.8, 6.7, -1.2], \n",
    "                   [6.4, 1.3, -2.7], \n",
    "                   [2.4, -4.5, 3.5]])\n",
    "\n",
    "inverse_matrix(np.copy(matrix))"
   ]
  },
  {
   "cell_type": "code",
   "execution_count": 13,
   "id": "several-litigation",
   "metadata": {},
   "outputs": [
    {
     "name": "stdout",
     "output_type": "stream",
     "text": [
      "21.9 ms ± 724 µs per loop (mean ± std. dev. of 3 runs, 10 loops each)\n"
     ]
    }
   ],
   "source": [
    "B = np.random.rand(100,100)\n",
    "%timeit -n 10 -r 3 invert(B)"
   ]
  },
  {
   "cell_type": "code",
   "execution_count": 14,
   "id": "antique-radical",
   "metadata": {},
   "outputs": [
    {
     "name": "stdout",
     "output_type": "stream",
     "text": [
      "25.6 ms ± 819 µs per loop (mean ± std. dev. of 3 runs, 10 loops each)\n"
     ]
    }
   ],
   "source": [
    "B = np.random.rand(100,100)\n",
    "%timeit -n 10 -r 3 inverse_matrix(B)"
   ]
  },
  {
   "cell_type": "code",
   "execution_count": null,
   "id": "gothic-instruction",
   "metadata": {},
   "outputs": [],
   "source": []
  }
 ],
 "metadata": {
  "kernelspec": {
   "display_name": "Python 3",
   "language": "python",
   "name": "python3"
  },
  "language_info": {
   "codemirror_mode": {
    "name": "ipython",
    "version": 3
   },
   "file_extension": ".py",
   "mimetype": "text/x-python",
   "name": "python",
   "nbconvert_exporter": "python",
   "pygments_lexer": "ipython3",
   "version": "3.9.2"
  }
 },
 "nbformat": 4,
 "nbformat_minor": 5
}
