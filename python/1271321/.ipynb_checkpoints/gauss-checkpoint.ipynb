{
 "cells": [
  {
   "cell_type": "markdown",
   "metadata": {},
   "source": [
    "Решение системы линейных уравнений методом Гаусса. \n",
    "\n",
    "Материалы к вопросу https://ru.stackoverflow.com/questions/1271321"
   ]
  },
  {
   "cell_type": "code",
   "execution_count": 1,
   "metadata": {},
   "outputs": [],
   "source": [
    "import numpy as np\n"
   ]
  },
  {
   "cell_type": "code",
   "execution_count": 2,
   "metadata": {},
   "outputs": [],
   "source": [
    "matrix = np.array([[3.8, 6.7, -1.2, 5.2], \n",
    "                   [6.4, 1.3, -2.7, 3.8], \n",
    "                   [2.4, -4.5, 3.5, -0.6]])\n",
    "\n",
    "withZero = np.array([[1,0,0, 1],\n",
    "                     [0,0,1, 2],\n",
    "                     [0,1,0, 3]], dtype=float)"
   ]
  },
  {
   "cell_type": "markdown",
   "metadata": {},
   "source": [
    "# Наивная реализация\n",
    "Наивная реализация метода Гаусса приведения к треугольной форме. Сломается на матрицах, содержащих нуль на диагонали. Например, на матрице с такими коэффициентами:\n",
    "```\n",
    "array([[1., 0., 0.],\n",
    "       [0., 0., 1.],\n",
    "       [0., 1., 0.]])\n",
    "```\n",
    "\n",
    "Функция принимает на вход матрицу `(N+1)xN` - в последней колонке свободные члены. Функция меняет матрицу, переданную в аргументе, поэтому если хочется сохранить матрицу, то вызывать нужно с `np.copy`: `gaussFunc(matrix.copy())`"
   ]
  },
  {
   "cell_type": "code",
   "execution_count": 3,
   "metadata": {},
   "outputs": [],
   "source": [
    "def makeTriangleNaive(matrix):\n",
    "    # функция меняет матрицу через побочные эффекты\n",
    "    # если вам нужно сохранить прежнюю матрицу, скопируйте её np.copy\n",
    "    for nrow, row in enumerate(matrix):\n",
    "        # nrow равен номеру строки\n",
    "        # row содержит саму строку матрицы\n",
    "        divider = row[nrow] # диагональный элемент\n",
    "        # делим на диагональный элемент.\n",
    "        row /= divider\n",
    "        # теперь надо вычесть приведённую строку из всех нижележащих строчек\n",
    "        for lower_row in matrix[nrow+1:]:\n",
    "            factor = lower_row[nrow] # элемент строки в колонке nrow\n",
    "            lower_row -= factor*row # вычитаем, чтобы получить ноль в колонке nrow\n",
    "    # все строки матрицы изменились, в принципе, можно и не возвращать\n",
    "    return matrix"
   ]
  },
  {
   "cell_type": "code",
   "execution_count": 4,
   "metadata": {},
   "outputs": [
    {
     "data": {
      "text/plain": [
       "array([[ 1.        ,  1.76315789, -0.31578947,  1.36842105],\n",
       "       [-0.        ,  1.        ,  0.06800211,  0.49657354],\n",
       "       [ 0.        ,  0.        ,  1.        ,  0.09309401]])"
      ]
     },
     "execution_count": 4,
     "metadata": {},
     "output_type": "execute_result"
    }
   ],
   "source": [
    "makeTriangleNaive(matrix.copy())"
   ]
  },
  {
   "cell_type": "markdown",
   "metadata": {},
   "source": [
    "Для нахождения решения нужно привести матрицу коэффициентов к диагональному виду. Тогда в последнем столбце будет находиться решение."
   ]
  },
  {
   "cell_type": "code",
   "execution_count": 5,
   "metadata": {},
   "outputs": [],
   "source": [
    "def makeIdentity(matrix):\n",
    "    # перебор строк в обратном порядке \n",
    "    for nrow in range(len(matrix)-1,0,-1):\n",
    "        row = matrix[nrow]\n",
    "        for upper_row in matrix[:nrow]:\n",
    "            factor = upper_row[nrow]\n",
    "            # вычитать строки не нужно, так как в row только два элемента отличны от 0:\n",
    "            # в последней колонке и на диагонали\n",
    "            \n",
    "            # вычитание в последней колонке\n",
    "            upper_row[-1] -= factor*row[-1]\n",
    "            # вместо вычитания 1*factor просто обнулим коэффициент в соотвествующей колонке. \n",
    "            upper_row[nrow] = 0\n",
    "    return matrix"
   ]
  },
  {
   "cell_type": "code",
   "execution_count": 6,
   "metadata": {},
   "outputs": [
    {
     "data": {
      "text/plain": [
       "array([[ 1.        ,  0.        ,  0.        ,  0.53344344],\n",
       "       [-0.        ,  1.        ,  0.        ,  0.49024295],\n",
       "       [ 0.        ,  0.        ,  1.        ,  0.09309401]])"
      ]
     },
     "execution_count": 6,
     "metadata": {},
     "output_type": "execute_result"
    }
   ],
   "source": [
    "m1 = makeTriangleNaive(np.copy(matrix))\n",
    "m2 = makeIdentity(m1)\n",
    "m2"
   ]
  },
  {
   "cell_type": "markdown",
   "metadata": {},
   "source": [
    "После приведения к диагональному виду корни находятся в последнем столбце."
   ]
  },
  {
   "cell_type": "code",
   "execution_count": 7,
   "metadata": {},
   "outputs": [
    {
     "data": {
      "text/plain": [
       "array([0.53344344, 0.49024295, 0.09309401])"
      ]
     },
     "execution_count": 7,
     "metadata": {},
     "output_type": "execute_result"
    }
   ],
   "source": [
    "roots = m2[:,-1]\n",
    "roots"
   ]
  },
  {
   "cell_type": "markdown",
   "metadata": {},
   "source": [
    "**Проверка решения**\n",
    "\n",
    "Для проверки извлечём матрицу коэффициентов, умножим её справа на столбец корней и вычтем столбец свободных членов исходной матрицы: `Ax - b`. Результат должен оказаться близким к нулю."
   ]
  },
  {
   "cell_type": "code",
   "execution_count": 8,
   "metadata": {},
   "outputs": [
    {
     "data": {
      "text/plain": [
       "array([[ 3.8,  6.7, -1.2],\n",
       "       [ 6.4,  1.3, -2.7],\n",
       "       [ 2.4, -4.5,  3.5]])"
      ]
     },
     "execution_count": 8,
     "metadata": {},
     "output_type": "execute_result"
    }
   ],
   "source": [
    "coefs = matrix[:,:-1]\n",
    "coefs"
   ]
  },
  {
   "cell_type": "code",
   "execution_count": 9,
   "metadata": {},
   "outputs": [],
   "source": [
    "# свободные члены в последнем столбце\n",
    "b = matrix[:,-1]"
   ]
  },
  {
   "cell_type": "code",
   "execution_count": 10,
   "metadata": {},
   "outputs": [
    {
     "data": {
      "text/plain": [
       "array([ 0.00000000e+00, -4.44089210e-16, -2.22044605e-16])"
      ]
     },
     "execution_count": 10,
     "metadata": {},
     "output_type": "execute_result"
    }
   ],
   "source": [
    "np.matmul(coefs, roots.T) - b"
   ]
  },
  {
   "cell_type": "markdown",
   "metadata": {},
   "source": [
    "**Решение СЛАУ одной функцией**"
   ]
  },
  {
   "cell_type": "code",
   "execution_count": 11,
   "metadata": {},
   "outputs": [],
   "source": [
    "def gaussSolveNaive(A, b=None):\n",
    "    \"\"\"Решает систему линейных алгебраических уравнений Ax=b\n",
    "    Если b is None, то свободные коэффициенты в последней колонке\"\"\"\n",
    "    shape = A.shape\n",
    "    assert len(shape) == 2, (\"Матрица не двумерная\", shape) # двумерная матрица\n",
    "    A = A.copy()\n",
    "    if b is not None:\n",
    "        assert shape[0] == shape[1], (\"Матрица не квадратная\", shape)\n",
    "        assert b.shape == (shape[0],), (\"Размерность свободных членов не соответствует матрица\", shape, b.shape)\n",
    "        # добавляем свободные члены дополнительным столбцом\n",
    "        A = np.c_[A, b]\n",
    "    else:\n",
    "        # Проверяем, что квадратная плюс столбец\n",
    "        assert shape[0]+1 == shape[1], (\"Неверный формат матрицы\", shape)\n",
    "    makeTriangleNaive(A)\n",
    "    makeIdentity(A)\n",
    "    return A[:,-1]"
   ]
  },
  {
   "cell_type": "code",
   "execution_count": 12,
   "metadata": {},
   "outputs": [
    {
     "data": {
      "text/plain": [
       "array([0.53344344, 0.49024295, 0.09309401])"
      ]
     },
     "execution_count": 12,
     "metadata": {},
     "output_type": "execute_result"
    }
   ],
   "source": [
    "gaussSolveNaive(matrix)"
   ]
  },
  {
   "cell_type": "code",
   "execution_count": 13,
   "metadata": {},
   "outputs": [
    {
     "data": {
      "text/plain": [
       "array([0.53344344, 0.49024295, 0.09309401])"
      ]
     },
     "execution_count": 13,
     "metadata": {},
     "output_type": "execute_result"
    }
   ],
   "source": [
    "gaussSolveNaive(matrix[:,:3], matrix[:,3])"
   ]
  },
  {
   "cell_type": "markdown",
   "metadata": {},
   "source": [
    "Когда на диагонали встречается ноль, происходит деление на ноль. Оно не выбрасывается как исключение, вместо этого возвращается `nan`"
   ]
  },
  {
   "cell_type": "code",
   "execution_count": 14,
   "metadata": {},
   "outputs": [
    {
     "name": "stderr",
     "output_type": "stream",
     "text": [
      "/usr/local/lib/python3.6/dist-packages/ipykernel_launcher.py:9: RuntimeWarning: divide by zero encountered in true_divide\n",
      "  if __name__ == '__main__':\n",
      "/usr/local/lib/python3.6/dist-packages/ipykernel_launcher.py:9: RuntimeWarning: invalid value encountered in true_divide\n",
      "  if __name__ == '__main__':\n"
     ]
    },
    {
     "data": {
      "text/plain": [
       "array([nan, nan, nan])"
      ]
     },
     "execution_count": 14,
     "metadata": {},
     "output_type": "execute_result"
    }
   ],
   "source": [
    "gaussSolveNaive(withZero)"
   ]
  },
  {
   "cell_type": "markdown",
   "metadata": {},
   "source": [
    "# Решение методом Гаусса с выбором главного элемента\n",
    "\n",
    "Для того, чтобы избежать проблем с делением на ноль, и вообще повысить устойчивость счета, используется метод Гаусса с выбором главного элемента.\n",
    "\n",
    "В этом методе перед тем как делить на диагональный элемент среди всех строк, лежащих ниже, находится строка с максимальным по модулю элементом в нужной колонке."
   ]
  },
  {
   "cell_type": "code",
   "execution_count": 15,
   "metadata": {},
   "outputs": [],
   "source": [
    "def makeTrianglePivot(matrix):\n",
    "    for nrow in range(len(matrix)):\n",
    "        # nrow равен номеру строки\n",
    "        # np.argmax возвращает номер строки с максимальным элементом в уменьшенной матрице\n",
    "        # которая начинается со строки nrow. Поэтому нужно прибавить nrow к результату\n",
    "        pivot = nrow + np.argmax(abs(matrix[nrow:, nrow]))\n",
    "        if pivot != nrow:\n",
    "            # swap\n",
    "            # matrix[nrow], matrix[pivot] = matrix[pivot], matrix[nrow] - не работает.\n",
    "            # нужно переставлять строки именно так, как написано ниже\n",
    "            # matrix[[nrow, pivot]] = matrix[[pivot, nrow]]\n",
    "            matrix[nrow], matrix[pivot] = matrix[pivot], np.copy(matrix[nrow])\n",
    "        row = matrix[nrow]\n",
    "        divider = row[nrow] # диагональный элемент\n",
    "        if abs(divider) < 1e-10:\n",
    "            # почти нуль на диагонали. Продолжать не имеет смысла, результат счёта неустойчив\n",
    "            raise ValueError(\"Матрица несовместна\")\n",
    "        # делим на диагональный элемент.\n",
    "        row /= divider\n",
    "        # теперь надо вычесть приведённую строку из всех нижележащих строчек\n",
    "        for lower_row in matrix[nrow+1:]:\n",
    "            factor = lower_row[nrow] # элемент строки в колонке nrow\n",
    "            lower_row -= factor*row # вычитаем, чтобы получить ноль в колонке nrow\n",
    "    return matrix"
   ]
  },
  {
   "cell_type": "code",
   "execution_count": 16,
   "metadata": {},
   "outputs": [
    {
     "data": {
      "text/plain": [
       "array([[1., 0., 0., 1.],\n",
       "       [0., 1., 0., 3.],\n",
       "       [0., 0., 1., 2.]])"
      ]
     },
     "execution_count": 16,
     "metadata": {},
     "output_type": "execute_result"
    }
   ],
   "source": [
    "makeTrianglePivot(np.array([[1,0,0,1],\n",
    "                         [0,0,1,2],\n",
    "                         [0,1,0,3]\n",
    "                        ], dtype=float))"
   ]
  },
  {
   "cell_type": "code",
   "execution_count": 17,
   "metadata": {},
   "outputs": [],
   "source": [
    "def gaussSolvePivot(A, b=None):\n",
    "    \"\"\"Решает систему линейных алгебраических уравнений Ax=b\n",
    "    Если b is None, то свободные коэффициенты в последней колонке\"\"\"\n",
    "    shape = A.shape\n",
    "    assert len(shape) == 2, (\"Матрица не двумерная\", shape) # двумерная матрица\n",
    "    A = A.copy()\n",
    "    if b is not None:\n",
    "        assert shape[0] == shape[1], (\"Матрица не квадратная\", shape)\n",
    "        assert b.shape == (shape[0],), (\"Размерность свободных членов не соответствует матрица\", shape, b.shape)\n",
    "        # добавляем свободные члены дополнительным столбцом\n",
    "        A = np.c_[A, b]\n",
    "    else:\n",
    "        # Проверяем, что квадратная плюс столбец\n",
    "        assert shape[0]+1 == shape[1], (\"Неверный формат матрицы\", shape)\n",
    "    makeTrianglePivot(A)\n",
    "    makeIdentity(A)\n",
    "    return A[:,-1]"
   ]
  },
  {
   "cell_type": "code",
   "execution_count": 18,
   "metadata": {},
   "outputs": [
    {
     "data": {
      "text/plain": [
       "array([0.53344344, 0.49024295, 0.09309401])"
      ]
     },
     "execution_count": 18,
     "metadata": {},
     "output_type": "execute_result"
    }
   ],
   "source": [
    "gaussSolvePivot(matrix)"
   ]
  },
  {
   "cell_type": "markdown",
   "metadata": {},
   "source": [
    "# Пример матрица 100x100"
   ]
  },
  {
   "cell_type": "markdown",
   "metadata": {},
   "source": [
    "В примере решается случайная система линейных уравнений с матрицей 100x100"
   ]
  },
  {
   "cell_type": "code",
   "execution_count": 19,
   "metadata": {},
   "outputs": [],
   "source": [
    "N = 100\n",
    "randomSle = np.random.rand(N, N)\n",
    "randomV = np.random.rand(N)"
   ]
  },
  {
   "cell_type": "markdown",
   "metadata": {},
   "source": [
    "Для начала решим \"наивным\" способом. Вероятность того, что на диагонали будет нуль, пренебрежимо мала."
   ]
  },
  {
   "cell_type": "code",
   "execution_count": 20,
   "metadata": {},
   "outputs": [
    {
     "data": {
      "text/plain": [
       "array([-0.60599285, -0.91617166,  0.69948125, -1.18463337,  0.68679096,\n",
       "       -0.32750892, -0.21210312, -0.93421365,  0.24267706,  0.22671815,\n",
       "        1.80182206, -0.28250506,  0.5796376 , -0.3430931 , -2.84102303,\n",
       "        1.72470694, -0.66877823, -1.069436  ,  0.54421655,  0.01876975,\n",
       "        0.41593134, -1.58168627, -0.48791852,  1.14254877, -2.12093676,\n",
       "        1.06184881,  0.33237541, -0.98573026, -0.41576019,  0.82509615,\n",
       "        0.88468587,  0.40896525,  1.80422022, -0.45975475, -2.16287257,\n",
       "        1.27747972, -0.37624102, -0.16872899, -1.59539011,  0.24475923,\n",
       "       -0.21534655,  0.13933603,  0.46970331, -1.87385504,  1.72199514,\n",
       "       -0.0470553 ,  1.63459014, -0.36727267, -0.28760374, -0.39430179,\n",
       "        1.42381813, -0.06425562,  0.14088986,  0.44967088,  2.68097447,\n",
       "        0.9753895 ,  2.12726021,  0.79890796, -0.91317357, -0.39875383,\n",
       "       -0.85439212,  1.06768641, -0.74110307, -0.01894982,  3.04882181,\n",
       "       -0.06737187,  0.25032149,  0.59977082, -0.42012534,  0.26091544,\n",
       "        0.23495931,  0.39194181, -0.35545779,  0.23230621,  0.22846051,\n",
       "       -1.1480341 , -1.55378783,  0.12791011, -1.3652629 , -0.2877649 ,\n",
       "       -0.38070316,  0.34371792,  0.70563222, -3.08458172, -0.19162987,\n",
       "       -1.436494  ,  0.68401142, -1.45908147,  1.43494311, -0.46214791,\n",
       "        0.2672076 ,  0.47417169,  1.2050933 , -0.26595145,  2.04034963,\n",
       "        0.42870133, -0.43182244, -0.07214389, -1.36058447, -0.66910493])"
      ]
     },
     "execution_count": 20,
     "metadata": {},
     "output_type": "execute_result"
    }
   ],
   "source": [
    "randomRoots = gaussSolveNaive(randomSle, randomV)\n",
    "randomRoots"
   ]
  },
  {
   "cell_type": "code",
   "execution_count": 21,
   "metadata": {},
   "outputs": [],
   "source": [
    "randomRoots2 = gaussSolvePivot(randomSle, randomV)"
   ]
  },
  {
   "cell_type": "markdown",
   "metadata": {},
   "source": [
    "Проверим решение: вычислим максимум модуля в разности `Ax-b`"
   ]
  },
  {
   "cell_type": "code",
   "execution_count": 22,
   "metadata": {},
   "outputs": [
    {
     "data": {
      "text/plain": [
       "2.13734585585712e-11"
      ]
     },
     "execution_count": 22,
     "metadata": {},
     "output_type": "execute_result"
    }
   ],
   "source": [
    "diff = np.matmul(randomSle, randomRoots) - randomV\n",
    "np.max(np.abs(diff))"
   ]
  },
  {
   "cell_type": "code",
   "execution_count": 23,
   "metadata": {},
   "outputs": [
    {
     "data": {
      "text/plain": [
       "1.1102230246251565e-14"
      ]
     },
     "execution_count": 23,
     "metadata": {},
     "output_type": "execute_result"
    }
   ],
   "source": [
    "diff = np.matmul(randomSle, randomRoots2) - randomV\n",
    "np.max(np.abs(diff))"
   ]
  },
  {
   "cell_type": "markdown",
   "metadata": {},
   "source": [
    "В обоих случаях `Ax` практически равно `b` - корни найдены успешно. Но решение, найденное методом с выбором главного элемента, построило чуть более точное решение\n",
    "\n",
    "Сравним найденное решение с решателем, который поставляется с `numpy`:"
   ]
  },
  {
   "cell_type": "code",
   "execution_count": 24,
   "metadata": {},
   "outputs": [
    {
     "data": {
      "text/plain": [
       "9.43689570931383e-15"
      ]
     },
     "execution_count": 24,
     "metadata": {},
     "output_type": "execute_result"
    }
   ],
   "source": [
    "np_roots = np.linalg.solve(randomSle, randomV)\n",
    "np.max(np.abs(np.matmul(randomSle, np_roots) - randomV))"
   ]
  },
  {
   "cell_type": "code",
   "execution_count": 25,
   "metadata": {},
   "outputs": [
    {
     "data": {
      "text/plain": [
       "(2.6895818905359192e-11, 6.084022174945858e-14)"
      ]
     },
     "execution_count": 25,
     "metadata": {},
     "output_type": "execute_result"
    }
   ],
   "source": [
    "max(abs(randomRoots - np_roots)), max(abs(randomRoots2 - np_roots))"
   ]
  },
  {
   "cell_type": "markdown",
   "metadata": {},
   "source": [
    "Решения очень близкие. Встроенный решатель построил ещё более точное решение."
   ]
  },
  {
   "cell_type": "markdown",
   "metadata": {},
   "source": [
    "## Сравнение времени счёта"
   ]
  },
  {
   "cell_type": "code",
   "execution_count": 26,
   "metadata": {},
   "outputs": [
    {
     "name": "stdout",
     "output_type": "stream",
     "text": [
      "39.8 ms ± 0 ns per loop (mean ± std. dev. of 1 run, 3 loops each)\n"
     ]
    }
   ],
   "source": [
    "%timeit -n3 -r 1 gaussSolveNaive(randomSle, randomV)"
   ]
  },
  {
   "cell_type": "code",
   "execution_count": 27,
   "metadata": {},
   "outputs": [
    {
     "name": "stdout",
     "output_type": "stream",
     "text": [
      "18.6 ms ± 0 ns per loop (mean ± std. dev. of 1 run, 3 loops each)\n"
     ]
    }
   ],
   "source": [
    "%timeit -n3 -r 1 gaussSolvePivot(randomSle, randomV)"
   ]
  },
  {
   "cell_type": "code",
   "execution_count": 28,
   "metadata": {},
   "outputs": [
    {
     "name": "stdout",
     "output_type": "stream",
     "text": [
      "509 µs ± 0 ns per loop (mean ± std. dev. of 1 run, 100 loops each)\n"
     ]
    }
   ],
   "source": [
    "%timeit -n100 -r 1 np.linalg.solve(randomSle, randomV)"
   ]
  },
  {
   "cell_type": "markdown",
   "metadata": {},
   "source": [
    "Методы решения, написанные на чистом пайтоне, считают практически с одинаковой скоростью, и примерно в 40 раз медленее встроенного решателя. Ничего удивительного, встроенный решатель написан на Си.\n",
    "\n",
    "Ниже представлен трюк, как можно приблизить скорость работы пайтоновского кода к Си-шному, если самые трудоёмкие части кода откомпилировать в машинный код компилятором `numba`"
   ]
  },
  {
   "cell_type": "markdown",
   "metadata": {},
   "source": [
    "## Ускорение счёта\n",
    "\n",
    "Для начала обобщим метод решения, выделив функции приведения к треугольному виду и к диагональному виду в параметры."
   ]
  },
  {
   "cell_type": "code",
   "execution_count": 29,
   "metadata": {},
   "outputs": [],
   "source": [
    "def generalGauss(A,b, triangleFn=makeTrianglePivot, identityFn=makeIdentity):\n",
    "    \"\"\"Решает систему линейных алгебраических уравнений Ax=b\n",
    "    Если b is None, то свободные коэффициенты в последней колонке\"\"\"\n",
    "    shape = A.shape\n",
    "    assert len(shape) == 2, (\"Матрица не двумерная\", shape) # двумерная матрица\n",
    "    A = A.copy()\n",
    "    if b is not None:\n",
    "        assert shape[0] == shape[1], (\"Матрица не квадратная\", shape)\n",
    "        assert b.shape == (shape[0],), (\"Размерность свободных членов не соответствует матрица\", shape, b.shape)\n",
    "        # добавляем свободные члены дополнительным столбцом\n",
    "        A = np.c_[A, b]\n",
    "    else:\n",
    "        # Проверяем, что квадратная плюс столбец\n",
    "        assert shape[0]+1 == shape[1], (\"Неверный формат матрицы\", shape)\n",
    "    A = triangleFn(A)\n",
    "    A = identityFn(A)\n",
    "    return np.array([ r[-1] for r in A ])"
   ]
  },
  {
   "cell_type": "markdown",
   "metadata": {},
   "source": [
    "Проверим, что решение не изменилось"
   ]
  },
  {
   "cell_type": "code",
   "execution_count": 30,
   "metadata": {},
   "outputs": [
    {
     "data": {
      "text/plain": [
       "0.0"
      ]
     },
     "execution_count": 30,
     "metadata": {},
     "output_type": "execute_result"
    }
   ],
   "source": [
    "max(abs(generalGauss(randomSle, randomV, triangleFn=makeTriangleNaive, identityFn=makeIdentity) - randomRoots))\n"
   ]
  },
  {
   "cell_type": "code",
   "execution_count": 31,
   "metadata": {},
   "outputs": [],
   "source": [
    "import numba"
   ]
  },
  {
   "cell_type": "markdown",
   "metadata": {},
   "source": [
    "Немного видоизменённый вариант функции `makeTrianglePivot`, адаптированный к возможностям компилятора `numba`.\n",
    "\n",
    "Декоратор `numba.njit` предписывает транслировать функцию в чистый машинный код, который не обращается к интерпретатору пайтона. В общем случае это невозможно, но в данном случае у нас все вычисления идут только с `numpy`, а для этого пакета `numba` умеет вызывать Си-инетерфейсы для соответствующих операций - индексирования, присваивания, арифметики."
   ]
  },
  {
   "cell_type": "code",
   "execution_count": 32,
   "metadata": {},
   "outputs": [
    {
     "data": {
      "text/plain": [
       "[array([0.99253928, 0.77121737, 0.46493407, 0.48536654]),\n",
       " array([0.44149541, 0.3135605 , 0.37814992, 0.26916737]),\n",
       " array([0.1557336 , 0.73777062, 0.10617008, 0.26717774])]"
      ]
     },
     "execution_count": 32,
     "metadata": {},
     "output_type": "execute_result"
    }
   ],
   "source": [
    "m = np.random.rand(3,4)\n",
    "list(m)"
   ]
  },
  {
   "cell_type": "code",
   "execution_count": 33,
   "metadata": {},
   "outputs": [],
   "source": [
    "@numba.njit\n",
    "def fastMakeTrianglePivot(matrix):\n",
    "    buf = np.zeros(matrix.shape[1])\n",
    "\n",
    "    for nrow in range(len(matrix)):\n",
    "        pivot = nrow + np.argmax(np.abs(matrix[nrow:, nrow]))\n",
    "        if pivot != nrow:\n",
    "            matrix[nrow], matrix[pivot] = matrix[pivot], np.copy(matrix[nrow])\n",
    "        row = matrix[nrow]\n",
    "        divider = row[nrow] # диагональный элемент\n",
    "        if abs(divider) < 1e-10:\n",
    "            raise ValueError(\"Матрица несовместна\")\n",
    "        row /= divider\n",
    "        for lr in range(nrow+1, len(matrix)):\n",
    "            lower_row = matrix[lr]\n",
    "            factor = lower_row[nrow]\n",
    "            np.multiply(factor, row, buf)\n",
    "            lower_row -= buf\n",
    "            # lower_row -= factor*row\n",
    "            # factor = matrix[lr, nrow]\n",
    "            # matrix[lr] -= factor*row\n",
    "    return matrix"
   ]
  },
  {
   "cell_type": "code",
   "execution_count": 34,
   "metadata": {},
   "outputs": [],
   "source": [
    "@numba.njit\n",
    "def fastMakeIdentity(matrix):\n",
    "    N = matrix.shape[0]\n",
    "#     for nrow in range(len(matrix)-1,0,-1):\n",
    "#         root = matrix[nrow, -1]\n",
    "#         matrix[nrow:,-1] -= root*matrix[nrow:,nrow]\n",
    "#         matrix[nrow:,nrow] = 0.0\n",
    "#     return matrix\n",
    "\n",
    "    matrix = matrix.T\n",
    "    roots = matrix[-1]\n",
    "    for nrow in range(N-1,0,-1):\n",
    "        root = roots[nrow]\n",
    "        roots -= root*matrix[nrow]\n",
    "        roots[nrow] = root\n",
    "        \n",
    "    return matrix.T"
   ]
  },
  {
   "cell_type": "markdown",
   "metadata": {},
   "source": [
    "Сначала проверим, насколько выросла скорость от замены функции приведения к треугольному виду на скомпилированную\n",
    "Функцию вызываем два раза. В первом вызове jit-компилятор `numba` транслирует функцию `fastMakeTrianglePivot` в машинный код. Это долгая операция, поэтому результаты измерения времени будут недостоверными."
   ]
  },
  {
   "cell_type": "code",
   "execution_count": 35,
   "metadata": {},
   "outputs": [
    {
     "name": "stdout",
     "output_type": "stream",
     "text": [
      "4.82 ms ± 0 ns per loop (mean ± std. dev. of 1 run, 10 loops each)\n"
     ]
    }
   ],
   "source": [
    "fastMakeTrianglePivot(np.random.rand(2,3))\n",
    "\n",
    "%timeit -n10 -r1 generalGauss(randomSle, randomV, fastMakeTrianglePivot)"
   ]
  },
  {
   "cell_type": "markdown",
   "metadata": {},
   "source": [
    "Благодаря компилятору время работы снизилось в 3 раза. Теперь заменим функцию приведения к диагональному виду на скомпилированную."
   ]
  },
  {
   "cell_type": "code",
   "execution_count": 36,
   "metadata": {},
   "outputs": [
    {
     "name": "stdout",
     "output_type": "stream",
     "text": [
      "547 µs ± 0 ns per loop (mean ± std. dev. of 1 run, 100 loops each)\n"
     ]
    }
   ],
   "source": [
    "fastMakeIdentity(np.random.rand(2,3))\n",
    "%timeit -n100 -r 1 generalGauss(randomSle, randomV, fastMakeTrianglePivot, fastMakeIdentity)"
   ]
  },
  {
   "cell_type": "markdown",
   "metadata": {},
   "source": [
    "Итого скорость выросла в 20 раз.\n",
    "\n",
    "Проигрыш по сравнению с решателем на чистом Си/Фортране, меньше чем в 2 раза"
   ]
  },
  {
   "cell_type": "markdown",
   "metadata": {},
   "source": [
    "## Не всё так радужно\n",
    "\n",
    "Возьмём матрицу 1000 на 1000"
   ]
  },
  {
   "cell_type": "code",
   "execution_count": 37,
   "metadata": {},
   "outputs": [],
   "source": [
    "N = 1000\n",
    "randomSle = np.random.rand(N, N)\n",
    "randomV = np.random.rand(N)"
   ]
  },
  {
   "cell_type": "code",
   "execution_count": 38,
   "metadata": {},
   "outputs": [
    {
     "data": {
      "text/plain": [
       "(3.076887600261813e-08, 3.614553101272122e-12)"
      ]
     },
     "execution_count": 38,
     "metadata": {},
     "output_type": "execute_result"
    }
   ],
   "source": [
    "randomRoots = gaussSolveNaive(randomSle, randomV)\n",
    "randomRoots2 = gaussSolvePivot(randomSle, randomV)\n",
    "diffNaive = np.matmul(randomSle, randomRoots) - randomV\n",
    "diffPivot = np.matmul(randomSle, randomRoots2) - randomV\n",
    "np.max(np.abs(diffNaive)), np.max(np.abs(diffPivot))"
   ]
  },
  {
   "cell_type": "markdown",
   "metadata": {},
   "source": [
    "Сравним найденные решения с решателем, который поставляется с `numpy`:"
   ]
  },
  {
   "cell_type": "code",
   "execution_count": 39,
   "metadata": {},
   "outputs": [
    {
     "data": {
      "text/plain": [
       "2.2861712523081223e-12"
      ]
     },
     "execution_count": 39,
     "metadata": {},
     "output_type": "execute_result"
    }
   ],
   "source": [
    "np_roots = np.linalg.solve(randomSle, randomV)\n",
    "np.max(np.abs(np.matmul(randomSle, np_roots) - randomV))"
   ]
  },
  {
   "cell_type": "code",
   "execution_count": 40,
   "metadata": {},
   "outputs": [
    {
     "data": {
      "text/plain": [
       "(1.2171610563882496e-07, 3.19104742629861e-11)"
      ]
     },
     "execution_count": 40,
     "metadata": {},
     "output_type": "execute_result"
    }
   ],
   "source": [
    "max(abs(randomRoots - np_roots)), max(abs(randomRoots2 - np_roots))"
   ]
  },
  {
   "cell_type": "markdown",
   "metadata": {},
   "source": [
    "Решения близкие, но расстояние до них уже больше, чем для случая 100 на 100. Встроенный решатель построил ещё более точное решение."
   ]
  },
  {
   "cell_type": "markdown",
   "metadata": {},
   "source": [
    "### Сравнение времени счёта"
   ]
  },
  {
   "cell_type": "code",
   "execution_count": 41,
   "metadata": {},
   "outputs": [
    {
     "name": "stdout",
     "output_type": "stream",
     "text": [
      "2.31 s ± 0 ns per loop (mean ± std. dev. of 1 run, 3 loops each)\n"
     ]
    }
   ],
   "source": [
    "%timeit -n3 -r 1 gaussSolveNaive(randomSle, randomV)"
   ]
  },
  {
   "cell_type": "code",
   "execution_count": 42,
   "metadata": {},
   "outputs": [
    {
     "name": "stdout",
     "output_type": "stream",
     "text": [
      "2.33 s ± 0 ns per loop (mean ± std. dev. of 1 run, 3 loops each)\n"
     ]
    }
   ],
   "source": [
    "%timeit -n3 -r 1 gaussSolvePivot(randomSle, randomV)"
   ]
  },
  {
   "cell_type": "code",
   "execution_count": 43,
   "metadata": {},
   "outputs": [
    {
     "name": "stdout",
     "output_type": "stream",
     "text": [
      "32.6 ms ± 0 ns per loop (mean ± std. dev. of 1 run, 100 loops each)\n"
     ]
    }
   ],
   "source": [
    "%timeit -n100 -r 1 np.linalg.solve(randomSle, randomV)"
   ]
  },
  {
   "cell_type": "markdown",
   "metadata": {},
   "source": [
    "Методы решения, написанные на чистом пайтоне, считают практически с одинаковой скоростью, но разрыв с Сишным/фортрановским решателем уже почти в тысячу раз. Причина в том, что метод Гаусса требует порядка $O(n^3)$ арифметических операций, и $O(n^2)$ операций аллокации временных векторов для вычитания. При увеличении размерности системы в 10 раз время счёта выросло в 100 раз. Можно предположить, что основной вклад в замедление счёта - это время на работу с памятью."
   ]
  },
  {
   "cell_type": "code",
   "execution_count": 44,
   "metadata": {},
   "outputs": [
    {
     "name": "stdout",
     "output_type": "stream",
     "text": [
      "706 ms ± 0 ns per loop (mean ± std. dev. of 1 run, 10 loops each)\n"
     ]
    }
   ],
   "source": [
    "%timeit -n10 -r1 generalGauss(randomSle, randomV, fastMakeTrianglePivot)"
   ]
  },
  {
   "cell_type": "markdown",
   "metadata": {},
   "source": [
    "Благодаря компилятору время работы по-прежнему в 3 раза меньше, чем у функции на Python"
   ]
  },
  {
   "cell_type": "code",
   "execution_count": 45,
   "metadata": {},
   "outputs": [
    {
     "name": "stdout",
     "output_type": "stream",
     "text": [
      "280 ms ± 0 ns per loop (mean ± std. dev. of 1 run, 10 loops each)\n"
     ]
    }
   ],
   "source": [
    "%timeit -n10 -r 1 generalGauss(randomSle, randomV, fastMakeTrianglePivot, fastMakeIdentity)"
   ]
  },
  {
   "cell_type": "markdown",
   "metadata": {},
   "source": [
    "Выигрыш уже не столь значителен, меньше чем в 10 раз. И разница с встроенным решателем уже в 8 раз."
   ]
  },
  {
   "cell_type": "code",
   "execution_count": null,
   "metadata": {},
   "outputs": [],
   "source": []
  }
 ],
 "metadata": {
  "kernelspec": {
   "display_name": "Python 3",
   "language": "python",
   "name": "python3"
  },
  "language_info": {
   "codemirror_mode": {
    "name": "ipython",
    "version": 3
   },
   "file_extension": ".py",
   "mimetype": "text/x-python",
   "name": "python",
   "nbconvert_exporter": "python",
   "pygments_lexer": "ipython3",
   "version": "3.6.9"
  }
 },
 "nbformat": 4,
 "nbformat_minor": 4
}
