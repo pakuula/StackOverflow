{
 "cells": [
  {
   "cell_type": "markdown",
   "metadata": {},
   "source": [
    "Решение системы линейных уравнений методом Гаусса. \n",
    "\n",
    "Материалы к вопросу https://ru.stackoverflow.com/questions/1271321"
   ]
  },
  {
   "cell_type": "code",
   "execution_count": 1,
   "metadata": {},
   "outputs": [],
   "source": [
    "import numpy as np\n"
   ]
  },
  {
   "cell_type": "code",
   "execution_count": 2,
   "metadata": {},
   "outputs": [],
   "source": [
    "matrix = np.array([[3.8, 6.7, -1.2, 5.2], \n",
    "                   [6.4, 1.3, -2.7, 3.8], \n",
    "                   [2.4, -4.5, 3.5, -0.6]])\n",
    "\n",
    "withZero = np.array([[1,0,0, 1],\n",
    "                     [0,0,1, 2],\n",
    "                     [0,1,0, 3]], dtype=float)"
   ]
  },
  {
   "cell_type": "markdown",
   "metadata": {},
   "source": [
    "# Наивная реализация\n",
    "Наивная реализация метода Гаусса приведения к треугольной форме. Сломается на матрицах, содержащих нуль на диагонали. Например, на матрице с такими коэффициентами:\n",
    "```\n",
    "array([[1., 0., 0.],\n",
    "       [0., 0., 1.],\n",
    "       [0., 1., 0.]])\n",
    "```\n",
    "\n",
    "Функция принимает на вход матрицу `(N+1)xN` - в последней колонке свободные члены. Функция меняет матрицу, переданную в аргументе, поэтому если хочется сохранить матрицу, то вызывать нужно с `np.copy`: `gaussFunc(matrix.copy())`"
   ]
  },
  {
   "cell_type": "code",
   "execution_count": 3,
   "metadata": {},
   "outputs": [],
   "source": [
    "def makeTriangleNaive(matrix):\n",
    "    # функция меняет матрицу через побочные эффекты\n",
    "    # если вам нужно сохранить прежнюю матрицу, скопируйте её np.copy\n",
    "    for nrow, row in enumerate(matrix):\n",
    "        # nrow равен номеру строки\n",
    "        # row содержит саму строку матрицы\n",
    "        divider = row[nrow] # диагональный элемент\n",
    "        # делим на диагональный элемент.\n",
    "        row /= divider\n",
    "        # теперь надо вычесть приведённую строку из всех нижележащих строчек\n",
    "        for lower_row in matrix[nrow+1:]:\n",
    "            factor = lower_row[nrow] # элемент строки в колонке nrow\n",
    "            lower_row -= factor*row # вычитаем, чтобы получить ноль в колонке nrow\n",
    "    # все строки матрицы изменились, в принципе, можно и не возвращать\n",
    "    return matrix"
   ]
  },
  {
   "cell_type": "code",
   "execution_count": 4,
   "metadata": {},
   "outputs": [
    {
     "data": {
      "text/plain": [
       "array([[ 1.        ,  1.76315789, -0.31578947,  1.36842105],\n",
       "       [-0.        ,  1.        ,  0.06800211,  0.49657354],\n",
       "       [ 0.        ,  0.        ,  1.        ,  0.09309401]])"
      ]
     },
     "execution_count": 4,
     "metadata": {},
     "output_type": "execute_result"
    }
   ],
   "source": [
    "makeTriangleNaive(matrix.copy())"
   ]
  },
  {
   "cell_type": "markdown",
   "metadata": {},
   "source": [
    "Для нахождения решения нужно привести матрицу коэффициентов к диагональному виду. Тогда в последнем столбце будет находиться решение."
   ]
  },
  {
   "cell_type": "code",
   "execution_count": 5,
   "metadata": {},
   "outputs": [],
   "source": [
    "def makeIdentity(matrix):\n",
    "    # перебор строк в обратном порядке \n",
    "    for nrow in range(len(matrix)-1,0,-1):\n",
    "        row = matrix[nrow]\n",
    "        for upper_row in matrix[:nrow]:\n",
    "            factor = upper_row[nrow]\n",
    "            # вычитать строки не нужно, так как в row только два элемента отличны от 0:\n",
    "            # в последней колонке и на диагонали\n",
    "            \n",
    "            # вычитание в последней колонке\n",
    "            upper_row[-1] -= factor*row[-1]\n",
    "            # вместо вычитания 1*factor просто обнулим коэффициент в соотвествующей колонке. \n",
    "            upper_row[nrow] = 0\n",
    "    return matrix"
   ]
  },
  {
   "cell_type": "code",
   "execution_count": 6,
   "metadata": {},
   "outputs": [
    {
     "data": {
      "text/plain": [
       "array([[ 1.        ,  0.        ,  0.        ,  0.53344344],\n",
       "       [-0.        ,  1.        ,  0.        ,  0.49024295],\n",
       "       [ 0.        ,  0.        ,  1.        ,  0.09309401]])"
      ]
     },
     "execution_count": 6,
     "metadata": {},
     "output_type": "execute_result"
    }
   ],
   "source": [
    "m1 = makeTriangleNaive(np.copy(matrix))\n",
    "m2 = makeIdentity(m1)\n",
    "m2"
   ]
  },
  {
   "cell_type": "markdown",
   "metadata": {},
   "source": [
    "После приведения к диагональному виду корни находятся в последнем столбце."
   ]
  },
  {
   "cell_type": "code",
   "execution_count": 7,
   "metadata": {},
   "outputs": [
    {
     "data": {
      "text/plain": [
       "array([0.53344344, 0.49024295, 0.09309401])"
      ]
     },
     "execution_count": 7,
     "metadata": {},
     "output_type": "execute_result"
    }
   ],
   "source": [
    "roots = m2[:,-1]\n",
    "roots"
   ]
  },
  {
   "cell_type": "markdown",
   "metadata": {},
   "source": [
    "**Проверка решения**\n",
    "\n",
    "Для проверки извлечём матрицу коэффициентов, умножим её справа на столбец корней и вычтем столбец свободных членов исходной матрицы: `Ax - b`. Результат должен оказаться близким к нулю."
   ]
  },
  {
   "cell_type": "code",
   "execution_count": 8,
   "metadata": {},
   "outputs": [
    {
     "data": {
      "text/plain": [
       "array([[ 3.8,  6.7, -1.2],\n",
       "       [ 6.4,  1.3, -2.7],\n",
       "       [ 2.4, -4.5,  3.5]])"
      ]
     },
     "execution_count": 8,
     "metadata": {},
     "output_type": "execute_result"
    }
   ],
   "source": [
    "coefs = matrix[:,:-1]\n",
    "coefs"
   ]
  },
  {
   "cell_type": "code",
   "execution_count": 9,
   "metadata": {},
   "outputs": [],
   "source": [
    "# свободные члены в последнем столбце\n",
    "b = matrix[:,-1]"
   ]
  },
  {
   "cell_type": "code",
   "execution_count": 10,
   "metadata": {},
   "outputs": [
    {
     "data": {
      "text/plain": [
       "array([ 0.00000000e+00, -4.44089210e-16, -2.22044605e-16])"
      ]
     },
     "execution_count": 10,
     "metadata": {},
     "output_type": "execute_result"
    }
   ],
   "source": [
    "np.matmul(coefs, roots.T) - b"
   ]
  },
  {
   "cell_type": "markdown",
   "metadata": {},
   "source": [
    "**Решение СЛАУ одной функцией**"
   ]
  },
  {
   "cell_type": "code",
   "execution_count": 11,
   "metadata": {},
   "outputs": [],
   "source": [
    "def gaussSolveNaive(A, b=None):\n",
    "    \"\"\"Решает систему линейных алгебраических уравнений Ax=b\n",
    "    Если b is None, то свободные коэффициенты в последней колонке\"\"\"\n",
    "    shape = A.shape\n",
    "    assert len(shape) == 2, (\"Матрица не двумерная\", shape) # двумерная матрица\n",
    "    A = A.copy()\n",
    "    if b is not None:\n",
    "        assert shape[0] == shape[1], (\"Матрица не квадратная\", shape)\n",
    "        assert b.shape == (shape[0],), (\"Размерность свободных членов не соответствует матрица\", shape, b.shape)\n",
    "        # добавляем свободные члены дополнительным столбцом\n",
    "        A = np.c_[A, b]\n",
    "    else:\n",
    "        # Проверяем, что квадратная плюс столбец\n",
    "        assert shape[0]+1 == shape[1], (\"Неверный формат матрицы\", shape)\n",
    "    makeTriangleNaive(A)\n",
    "    makeIdentity(A)\n",
    "    return A[:,-1]"
   ]
  },
  {
   "cell_type": "code",
   "execution_count": 12,
   "metadata": {},
   "outputs": [
    {
     "data": {
      "text/plain": [
       "array([0.53344344, 0.49024295, 0.09309401])"
      ]
     },
     "execution_count": 12,
     "metadata": {},
     "output_type": "execute_result"
    }
   ],
   "source": [
    "gaussSolveNaive(matrix)"
   ]
  },
  {
   "cell_type": "code",
   "execution_count": 13,
   "metadata": {},
   "outputs": [
    {
     "data": {
      "text/plain": [
       "array([0.53344344, 0.49024295, 0.09309401])"
      ]
     },
     "execution_count": 13,
     "metadata": {},
     "output_type": "execute_result"
    }
   ],
   "source": [
    "gaussSolveNaive(matrix[:,:3], matrix[:,3])"
   ]
  },
  {
   "cell_type": "markdown",
   "metadata": {},
   "source": [
    "Когда на диагонали встречается ноль, происходит деление на ноль. Оно не выбрасывается как исключение, вместо этого возвращается `nan`"
   ]
  },
  {
   "cell_type": "code",
   "execution_count": 14,
   "metadata": {},
   "outputs": [
    {
     "name": "stderr",
     "output_type": "stream",
     "text": [
      "/usr/local/lib/python3.6/dist-packages/ipykernel_launcher.py:9: RuntimeWarning: divide by zero encountered in true_divide\n",
      "  if __name__ == '__main__':\n",
      "/usr/local/lib/python3.6/dist-packages/ipykernel_launcher.py:9: RuntimeWarning: invalid value encountered in true_divide\n",
      "  if __name__ == '__main__':\n"
     ]
    },
    {
     "data": {
      "text/plain": [
       "array([nan, nan, nan])"
      ]
     },
     "execution_count": 14,
     "metadata": {},
     "output_type": "execute_result"
    }
   ],
   "source": [
    "gaussSolveNaive(withZero)"
   ]
  },
  {
   "cell_type": "markdown",
   "metadata": {},
   "source": [
    "# Решение методом Гаусса с выбором главного элемента\n",
    "\n",
    "Для того, чтобы избежать проблем с делением на ноль, и вообще повысить устойчивость счета, используется метод Гаусса с выбором главного элемента.\n",
    "\n",
    "В этом методе перед тем как делить на диагональный элемент среди всех строк, лежащих ниже, находится строка с максимальным по модулю элементом в нужной колонке."
   ]
  },
  {
   "cell_type": "code",
   "execution_count": 15,
   "metadata": {},
   "outputs": [],
   "source": [
    "def makeTrianglePivot(matrix):\n",
    "    for nrow in range(len(matrix)):\n",
    "        # nrow равен номеру строки\n",
    "        # np.argmax возвращает номер строки с максимальным элементом в уменьшенной матрице\n",
    "        # которая начинается со строки nrow. Поэтому нужно прибавить nrow к результату\n",
    "        pivot = nrow + np.argmax(abs(matrix[nrow:, nrow]))\n",
    "        if pivot != nrow:\n",
    "            # swap\n",
    "            # matrix[nrow], matrix[pivot] = matrix[pivot], matrix[nrow] - не работает.\n",
    "            # нужно переставлять строки именно так, как написано ниже\n",
    "            # matrix[[nrow, pivot]] = matrix[[pivot, nrow]]\n",
    "            matrix[nrow], matrix[pivot] = matrix[pivot], np.copy(matrix[nrow])\n",
    "        row = matrix[nrow]\n",
    "        divider = row[nrow] # диагональный элемент\n",
    "        if abs(divider) < 1e-10:\n",
    "            # почти нуль на диагонали. Продолжать не имеет смысла, результат счёта неустойчив\n",
    "            raise ValueError(\"Матрица несовместна\")\n",
    "        # делим на диагональный элемент.\n",
    "        row /= divider\n",
    "        # теперь надо вычесть приведённую строку из всех нижележащих строчек\n",
    "        for lower_row in matrix[nrow+1:]:\n",
    "            factor = lower_row[nrow] # элемент строки в колонке nrow\n",
    "            lower_row -= factor*row # вычитаем, чтобы получить ноль в колонке nrow\n",
    "    return matrix"
   ]
  },
  {
   "cell_type": "code",
   "execution_count": 16,
   "metadata": {},
   "outputs": [
    {
     "data": {
      "text/plain": [
       "array([[1., 0., 0., 1.],\n",
       "       [0., 1., 0., 3.],\n",
       "       [0., 0., 1., 2.]])"
      ]
     },
     "execution_count": 16,
     "metadata": {},
     "output_type": "execute_result"
    }
   ],
   "source": [
    "makeTrianglePivot(np.array([[1,0,0,1],\n",
    "                         [0,0,1,2],\n",
    "                         [0,1,0,3]\n",
    "                        ], dtype=float))"
   ]
  },
  {
   "cell_type": "code",
   "execution_count": 17,
   "metadata": {},
   "outputs": [],
   "source": [
    "def gaussSolvePivot(A, b=None):\n",
    "    \"\"\"Решает систему линейных алгебраических уравнений Ax=b\n",
    "    Если b is None, то свободные коэффициенты в последней колонке\"\"\"\n",
    "    shape = A.shape\n",
    "    assert len(shape) == 2, (\"Матрица не двумерная\", shape) # двумерная матрица\n",
    "    A = A.copy()\n",
    "    if b is not None:\n",
    "        assert shape[0] == shape[1], (\"Матрица не квадратная\", shape)\n",
    "        assert b.shape == (shape[0],), (\"Размерность свободных членов не соответствует матрица\", shape, b.shape)\n",
    "        # добавляем свободные члены дополнительным столбцом\n",
    "        A = np.c_[A, b]\n",
    "    else:\n",
    "        # Проверяем, что квадратная плюс столбец\n",
    "        assert shape[0]+1 == shape[1], (\"Неверный формат матрицы\", shape)\n",
    "    makeTrianglePivot(A)\n",
    "    makeIdentity(A)\n",
    "    return A[:,-1]"
   ]
  },
  {
   "cell_type": "code",
   "execution_count": 18,
   "metadata": {},
   "outputs": [
    {
     "data": {
      "text/plain": [
       "array([0.53344344, 0.49024295, 0.09309401])"
      ]
     },
     "execution_count": 18,
     "metadata": {},
     "output_type": "execute_result"
    }
   ],
   "source": [
    "gaussSolvePivot(matrix)"
   ]
  },
  {
   "cell_type": "markdown",
   "metadata": {},
   "source": [
    "# Пример матрица 100x100"
   ]
  },
  {
   "cell_type": "markdown",
   "metadata": {},
   "source": [
    "В примере решается случайная система линейных уравнений с матрицей 100x100"
   ]
  },
  {
   "cell_type": "code",
   "execution_count": 19,
   "metadata": {},
   "outputs": [],
   "source": [
    "N = 100\n",
    "randomSle = np.random.rand(N, N)\n",
    "randomV = np.random.rand(N)"
   ]
  },
  {
   "cell_type": "markdown",
   "metadata": {},
   "source": [
    "Для начала решим \"наивным\" способом. Вероятность того, что на диагонали будет нуль, пренебрежимо мала."
   ]
  },
  {
   "cell_type": "code",
   "execution_count": 20,
   "metadata": {},
   "outputs": [
    {
     "data": {
      "text/plain": [
       "array([ 2.11416715, -1.30746648, -0.65419556, -3.51254613,  2.13898311,\n",
       "        3.22928076,  0.45769601,  2.43369704,  3.2711606 ,  0.14570868,\n",
       "        0.68509975,  1.70555571, -1.05707612,  0.94090601, -0.87739547,\n",
       "       -0.70399065, -0.15676476,  1.00909638, -2.39858522,  0.62249626,\n",
       "       -1.77693207,  0.08585223,  0.21890165,  0.74606491, -0.61614036,\n",
       "        2.74852471, -1.35145162, -0.32323147, -0.0898949 , -0.74780049,\n",
       "       -1.34755001,  1.58825864,  0.56227854, -0.51789052, -2.28951741,\n",
       "        0.4885966 , -0.33649543, -1.33082582, -2.26453721, -0.46520173,\n",
       "        1.09681358,  0.37987709,  2.93641096, -0.22906293, -2.43658322,\n",
       "        2.16352784, -2.02093504, -1.66095716, -0.44670522,  1.87099628,\n",
       "        1.5777987 ,  1.69613135, -2.01005121, -0.6260992 ,  2.33762135,\n",
       "        1.87510222,  0.00690166, -0.60377963, -1.47735452,  1.21772367,\n",
       "        0.65785427,  1.99543894, -1.03656166,  1.24759644, -0.13939762,\n",
       "       -0.70099348, -1.37818259, -0.82149614,  0.36777295,  1.31172063,\n",
       "       -0.13168513, -1.02013248, -1.19356442,  0.40889253, -1.31970227,\n",
       "       -1.89835436, -1.00395977, -2.310658  ,  2.29693745,  0.50310232,\n",
       "        2.09462163,  1.36730728, -0.62667526, -0.21577655, -0.951555  ,\n",
       "       -1.46197861, -2.30520095, -0.67303576, -0.93021393, -1.73937061,\n",
       "        1.03685333,  2.60066832, -0.16026882,  0.57375374, -2.1608723 ,\n",
       "        0.44546942, -1.90285726, -0.09570288,  2.60352348,  0.97680637])"
      ]
     },
     "execution_count": 20,
     "metadata": {},
     "output_type": "execute_result"
    }
   ],
   "source": [
    "randomRoots = gaussSolveNaive(randomSle, randomV)\n",
    "randomRoots"
   ]
  },
  {
   "cell_type": "code",
   "execution_count": 21,
   "metadata": {},
   "outputs": [],
   "source": [
    "randomRoots2 = gaussSolvePivot(randomSle, randomV)"
   ]
  },
  {
   "cell_type": "markdown",
   "metadata": {},
   "source": [
    "Проверим решение: вычислим максимум модуля в разности `Ax-b`"
   ]
  },
  {
   "cell_type": "code",
   "execution_count": 22,
   "metadata": {},
   "outputs": [
    {
     "data": {
      "text/plain": [
       "9.844347559351263e-13"
      ]
     },
     "execution_count": 22,
     "metadata": {},
     "output_type": "execute_result"
    }
   ],
   "source": [
    "diff = np.matmul(randomSle, randomRoots) - randomV\n",
    "np.max(np.abs(diff))"
   ]
  },
  {
   "cell_type": "code",
   "execution_count": 23,
   "metadata": {},
   "outputs": [
    {
     "data": {
      "text/plain": [
       "1.9872992140790302e-14"
      ]
     },
     "execution_count": 23,
     "metadata": {},
     "output_type": "execute_result"
    }
   ],
   "source": [
    "diff = np.matmul(randomSle, randomRoots2) - randomV\n",
    "np.max(np.abs(diff))"
   ]
  },
  {
   "cell_type": "markdown",
   "metadata": {},
   "source": [
    "В обоих случаях `Ax` практически равно `b` - корни найдены успешно. Но решение, найденное методом с выбором главного элемента, построило чуть более точное решение\n",
    "\n",
    "Сравним найденное решение с решателем, который поставляется с `numpy`:"
   ]
  },
  {
   "cell_type": "code",
   "execution_count": 24,
   "metadata": {},
   "outputs": [
    {
     "data": {
      "text/plain": [
       "1.532107773982716e-14"
      ]
     },
     "execution_count": 24,
     "metadata": {},
     "output_type": "execute_result"
    }
   ],
   "source": [
    "np_roots = np.linalg.solve(randomSle, randomV)\n",
    "np.max(np.abs(np.matmul(randomSle, np_roots) - randomV))"
   ]
  },
  {
   "cell_type": "code",
   "execution_count": 25,
   "metadata": {},
   "outputs": [
    {
     "data": {
      "text/plain": [
       "(2.374989094278135e-12, 5.81756864903582e-14)"
      ]
     },
     "execution_count": 25,
     "metadata": {},
     "output_type": "execute_result"
    }
   ],
   "source": [
    "max(abs(randomRoots - np_roots)), max(abs(randomRoots2 - np_roots))"
   ]
  },
  {
   "cell_type": "markdown",
   "metadata": {},
   "source": [
    "Решения очень близкие. Встроенный решатель построил ещё более точное решение."
   ]
  },
  {
   "cell_type": "markdown",
   "metadata": {},
   "source": [
    "## Сравнение времени счёта"
   ]
  },
  {
   "cell_type": "code",
   "execution_count": 26,
   "metadata": {},
   "outputs": [
    {
     "name": "stdout",
     "output_type": "stream",
     "text": [
      "18.7 ms ± 2.66 ms per loop (mean ± std. dev. of 5 runs, 10 loops each)\n"
     ]
    }
   ],
   "source": [
    "%timeit -n10 -r 5 gaussSolveNaive(randomSle, randomV)"
   ]
  },
  {
   "cell_type": "code",
   "execution_count": null,
   "metadata": {},
   "outputs": [],
   "source": [
    "%timeit -n10 -r 5 gaussSolvePivot(randomSle, randomV)"
   ]
  },
  {
   "cell_type": "code",
   "execution_count": null,
   "metadata": {},
   "outputs": [],
   "source": [
    "%timeit -n50 -r 7 np.linalg.solve(randomSle, randomV)"
   ]
  },
  {
   "cell_type": "markdown",
   "metadata": {},
   "source": [
    "Методы решения, написанные на чистом пайтоне, считают практически с одинаковой скоростью, и примерно в 40 раз медленее встроенного решателя. Ничего удивительного, встроенный решатель написан на Си.\n",
    "\n",
    "Ниже представлен трюк, как можно приблизить скорость работы пайтоновского кода к Си-шному, если самые трудоёмкие части кода откомпилировать в машинный код компилятором `numba`"
   ]
  },
  {
   "cell_type": "markdown",
   "metadata": {},
   "source": [
    "## Ускорение счёта\n",
    "\n",
    "Для начала обобщим метод решения, выделив функции приведения к треугольному виду и к диагональному виду в параметры."
   ]
  },
  {
   "cell_type": "code",
   "execution_count": null,
   "metadata": {},
   "outputs": [],
   "source": [
    "def generalGauss(A,b, triangleFn=makeTrianglePivot, identityFn=makeIdentity):\n",
    "    \"\"\"Решает систему линейных алгебраических уравнений Ax=b\n",
    "    Если b is None, то свободные коэффициенты в последней колонке\"\"\"\n",
    "    shape = A.shape\n",
    "    assert len(shape) == 2, (\"Матрица не двумерная\", shape) # двумерная матрица\n",
    "    A = A.copy()\n",
    "    if b is not None:\n",
    "        assert shape[0] == shape[1], (\"Матрица не квадратная\", shape)\n",
    "        assert b.shape == (shape[0],), (\"Размерность свободных членов не соответствует матрица\", shape, b.shape)\n",
    "        # добавляем свободные члены дополнительным столбцом\n",
    "        A = np.c_[A, b]\n",
    "    else:\n",
    "        # Проверяем, что квадратная плюс столбец\n",
    "        assert shape[0]+1 == shape[1], (\"Неверный формат матрицы\", shape)\n",
    "    A = triangleFn(A)\n",
    "    A = identityFn(A)\n",
    "    return np.array([ r[-1] for r in A ])"
   ]
  },
  {
   "cell_type": "markdown",
   "metadata": {},
   "source": [
    "Проверим, что решение не изменилось"
   ]
  },
  {
   "cell_type": "code",
   "execution_count": null,
   "metadata": {},
   "outputs": [],
   "source": [
    "max(abs(generalGauss(randomSle, randomV, triangleFn=makeTriangleNaive, identityFn=makeIdentity) - randomRoots))\n"
   ]
  },
  {
   "cell_type": "code",
   "execution_count": null,
   "metadata": {},
   "outputs": [],
   "source": [
    "import numba"
   ]
  },
  {
   "cell_type": "markdown",
   "metadata": {},
   "source": [
    "Немного видоизменённый вариант функции `makeTrianglePivot`, адаптированный к возможностям компилятора `numba`.\n",
    "\n",
    "Декоратор `numba.njit` предписывает транслировать функцию в чистый машинный код, который не обращается к интерпретатору пайтона. В общем случае это невозможно, но в данном случае у нас все вычисления идут только с `numpy`, а для этого пакета `numba` умеет вызывать Си-инетерфейсы для соответствующих операций - индексирования, присваивания, арифметики."
   ]
  },
  {
   "cell_type": "code",
   "execution_count": null,
   "metadata": {},
   "outputs": [],
   "source": [
    "m = np.random.rand(3,4)\n",
    "list(m)"
   ]
  },
  {
   "cell_type": "code",
   "execution_count": null,
   "metadata": {},
   "outputs": [],
   "source": [
    "@numba.njit\n",
    "def fastMakeTrianglePivot(matrix):\n",
    "    buf = np.zeros(matrix.shape[1])\n",
    "\n",
    "    for nrow in range(len(matrix)):\n",
    "        pivot = nrow + np.argmax(np.abs(matrix[nrow:, nrow]))\n",
    "        if pivot != nrow:\n",
    "            matrix[nrow], matrix[pivot] = matrix[pivot], np.copy(matrix[nrow])\n",
    "        row = matrix[nrow]\n",
    "        divider = row[nrow] # диагональный элемент\n",
    "        if abs(divider) < 1e-10:\n",
    "            raise ValueError(\"Матрица несовместна\")\n",
    "        row[nrow:] *= 1/divider\n",
    "        row[nrow] = 1.0\n",
    "        for lr in range(nrow+1, len(matrix)):\n",
    "            lower_row = matrix[lr]\n",
    "            factor = lower_row[nrow]\n",
    "            np.multiply(factor, row, buf)\n",
    "            lower_row -= buf\n",
    "            # lower_row -= factor*row\n",
    "            # factor = matrix[lr, nrow]\n",
    "            # matrix[lr] -= factor*row\n",
    "    return matrix"
   ]
  },
  {
   "cell_type": "code",
   "execution_count": null,
   "metadata": {},
   "outputs": [],
   "source": [
    "@numba.njit\n",
    "def fastMakeIdentity(matrix):\n",
    "    N = matrix.shape[0]\n",
    "#     for nrow in range(len(matrix)-1,0,-1):\n",
    "#         root = matrix[nrow, -1]\n",
    "#         matrix[nrow:,-1] -= root*matrix[nrow:,nrow]\n",
    "#         matrix[nrow:,nrow] = 0.0\n",
    "#     return matrix\n",
    "\n",
    "    matrix = matrix.T\n",
    "    roots = matrix[-1]\n",
    "    for nrow in range(N-1,0,-1):\n",
    "        root = roots[nrow]\n",
    "        column = matrix[nrow]\n",
    "        roots[:nrow] -= root*column[:nrow]\n",
    "        column[:nrow] = 0.0\n",
    "        # roots[nrow] = root\n",
    "        \n",
    "    return matrix.T"
   ]
  },
  {
   "cell_type": "markdown",
   "metadata": {},
   "source": [
    "Сначала проверим, насколько выросла скорость от замены функции приведения к треугольному виду на скомпилированную\n",
    "Функцию вызываем два раза. В первом вызове jit-компилятор `numba` транслирует функцию `fastMakeTrianglePivot` в машинный код. Это долгая операция, поэтому результаты измерения времени будут недостоверными."
   ]
  },
  {
   "cell_type": "code",
   "execution_count": null,
   "metadata": {},
   "outputs": [],
   "source": [
    "m1 = fastMakeTrianglePivot(np.random.rand(4,5))\n",
    "m2 = fastMakeIdentity(m1.copy())\n",
    "m1, m2"
   ]
  },
  {
   "cell_type": "code",
   "execution_count": null,
   "metadata": {},
   "outputs": [],
   "source": [
    "fastRoots = generalGauss(randomSle, randomV, fastMakeTrianglePivot, fastMakeIdentity)\n",
    "np.max(np.abs(fastRoots - randomRoots))"
   ]
  },
  {
   "cell_type": "code",
   "execution_count": null,
   "metadata": {},
   "outputs": [],
   "source": [
    "%timeit -n10 -r3 generalGauss(randomSle, randomV, fastMakeTrianglePivot)"
   ]
  },
  {
   "cell_type": "markdown",
   "metadata": {},
   "source": [
    "Благодаря компилятору время работы снизилось в 3 раза. Теперь заменим функцию приведения к диагональному виду на скомпилированную."
   ]
  },
  {
   "cell_type": "code",
   "execution_count": null,
   "metadata": {},
   "outputs": [],
   "source": [
    "%timeit -n15 -r 5 generalGauss(randomSle, randomV, fastMakeTrianglePivot, fastMakeIdentity)"
   ]
  },
  {
   "cell_type": "markdown",
   "metadata": {},
   "source": [
    "Итого скорость выросла в 20 раз.\n",
    "\n",
    "Проигрыш по сравнению с решателем на чистом Си/Фортране, меньше чем в 2 раза"
   ]
  },
  {
   "cell_type": "markdown",
   "metadata": {},
   "source": [
    "## Не всё так радужно\n",
    "\n",
    "Возьмём матрицу 1000 на 1000"
   ]
  },
  {
   "cell_type": "code",
   "execution_count": null,
   "metadata": {},
   "outputs": [],
   "source": [
    "N = 1000\n",
    "randomSle = np.random.rand(N, N)\n",
    "randomV = np.random.rand(N)"
   ]
  },
  {
   "cell_type": "code",
   "execution_count": null,
   "metadata": {},
   "outputs": [],
   "source": [
    "randomRoots = gaussSolveNaive(randomSle, randomV)\n",
    "randomRoots2 = gaussSolvePivot(randomSle, randomV)\n",
    "diffNaive = np.matmul(randomSle, randomRoots) - randomV\n",
    "diffPivot = np.matmul(randomSle, randomRoots2) - randomV\n",
    "np.max(np.abs(diffNaive)), np.max(np.abs(diffPivot))"
   ]
  },
  {
   "cell_type": "markdown",
   "metadata": {},
   "source": [
    "Сравним найденные решения с решателем, который поставляется с `numpy`:"
   ]
  },
  {
   "cell_type": "code",
   "execution_count": null,
   "metadata": {},
   "outputs": [],
   "source": [
    "np_roots = np.linalg.solve(randomSle, randomV)\n",
    "np.max(np.abs(np.matmul(randomSle, np_roots) - randomV))"
   ]
  },
  {
   "cell_type": "code",
   "execution_count": null,
   "metadata": {},
   "outputs": [],
   "source": [
    "max(abs(randomRoots - np_roots)), max(abs(randomRoots2 - np_roots))"
   ]
  },
  {
   "cell_type": "markdown",
   "metadata": {},
   "source": [
    "Решения близкие, но расстояние до них уже больше, чем для случая 100 на 100. Встроенный решатель построил ещё более точное решение."
   ]
  },
  {
   "cell_type": "markdown",
   "metadata": {},
   "source": [
    "### Сравнение времени счёта"
   ]
  },
  {
   "cell_type": "code",
   "execution_count": null,
   "metadata": {},
   "outputs": [],
   "source": [
    "%timeit -n3 -r 1 gaussSolveNaive(randomSle, randomV)"
   ]
  },
  {
   "cell_type": "code",
   "execution_count": null,
   "metadata": {},
   "outputs": [],
   "source": [
    "%timeit -n3 -r 1 gaussSolvePivot(randomSle, randomV)"
   ]
  },
  {
   "cell_type": "code",
   "execution_count": null,
   "metadata": {},
   "outputs": [],
   "source": [
    "%timeit -n30 -r 7 np.linalg.solve(randomSle, randomV)"
   ]
  },
  {
   "cell_type": "markdown",
   "metadata": {},
   "source": [
    "Методы решения, написанные на чистом пайтоне, считают практически с одинаковой скоростью, но разрыв с Сишным/фортрановским решателем уже почти в тысячу раз. Причина в том, что метод Гаусса требует порядка $O(n^3)$ арифметических операций, и $O(n^2)$ операций аллокации временных векторов для вычитания. При увеличении размерности системы в 10 раз время счёта выросло в 100 раз. Можно предположить, что основной вклад в замедление счёта - это время на работу с памятью."
   ]
  },
  {
   "cell_type": "code",
   "execution_count": null,
   "metadata": {},
   "outputs": [],
   "source": [
    "%timeit -n5 -r3 generalGauss(randomSle, randomV, fastMakeTrianglePivot)"
   ]
  },
  {
   "cell_type": "markdown",
   "metadata": {},
   "source": [
    "Благодаря компилятору время работы по-прежнему в 3 раза меньше, чем у функции на Python"
   ]
  },
  {
   "cell_type": "code",
   "execution_count": null,
   "metadata": {},
   "outputs": [],
   "source": [
    "%timeit -n10 -r 3 generalGauss(randomSle, randomV, fastMakeTrianglePivot, fastMakeIdentity)"
   ]
  },
  {
   "cell_type": "markdown",
   "metadata": {},
   "source": [
    "Выигрыш уже не столь значителен, меньше чем в 10 раз. И разница с встроенным решателем уже в 8 раз."
   ]
  },
  {
   "cell_type": "code",
   "execution_count": null,
   "metadata": {},
   "outputs": [],
   "source": []
  }
 ],
 "metadata": {
  "kernelspec": {
   "display_name": "Python 3",
   "language": "python",
   "name": "python3"
  },
  "language_info": {
   "codemirror_mode": {
    "name": "ipython",
    "version": 3
   },
   "file_extension": ".py",
   "mimetype": "text/x-python",
   "name": "python",
   "nbconvert_exporter": "python",
   "pygments_lexer": "ipython3",
   "version": "3.6.9"
  }
 },
 "nbformat": 4,
 "nbformat_minor": 4
}
