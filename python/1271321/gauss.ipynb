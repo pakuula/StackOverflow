{
 "cells": [
  {
   "cell_type": "markdown",
   "metadata": {},
   "source": [
    "Решение системы линейных уравнений методом Гаусса. \n",
    "\n",
    "Материалы к вопросу https://ru.stackoverflow.com/questions/1271321"
   ]
  },
  {
   "cell_type": "code",
   "execution_count": 1,
   "metadata": {},
   "outputs": [],
   "source": [
    "import numpy as np\n"
   ]
  },
  {
   "cell_type": "code",
   "execution_count": 2,
   "metadata": {},
   "outputs": [],
   "source": [
    "matrix = np.array([[3.8, 6.7, -1.2, 5.2], \n",
    "                   [6.4, 1.3, -2.7, 3.8], \n",
    "                   [2.4, -4.5, 3.5, -0.6]])\n",
    "\n",
    "withZero = np.array([[1,0,0, 1],\n",
    "                     [0,0,1, 2],\n",
    "                     [0,1,0, 3]], dtype=float)"
   ]
  },
  {
   "cell_type": "markdown",
   "metadata": {},
   "source": [
    "# Наивная реализация\n",
    "Наивная реализация метода Гаусса приведения к треугольной форме. Сломается на матрицах, содержащих нуль на диагонали. Например, на матрице с такими коэффициентами:\n",
    "```\n",
    "array([[1., 0., 0.],\n",
    "       [0., 0., 1.],\n",
    "       [0., 1., 0.]])\n",
    "```\n",
    "\n",
    "Функция принимает на вход матрицу `(N+1)xN` - в последней колонке свободные члены. Функция меняет матрицу, переданную в аргументе, поэтому если хочется сохранить матрицу, то вызывать нужно с `np.copy`: `gaussFunc(matrix.copy())`"
   ]
  },
  {
   "cell_type": "code",
   "execution_count": 3,
   "metadata": {},
   "outputs": [],
   "source": [
    "def makeTriangleNaive(matrix):\n",
    "    # функция меняет матрицу через побочные эффекты\n",
    "    # если вам нужно сохранить прежнюю матрицу, скопируйте её np.copy\n",
    "    for nrow, row in enumerate(matrix):\n",
    "        # nrow равен номеру строки\n",
    "        # row содержит саму строку матрицы\n",
    "        divider = row[nrow] # диагональный элемент\n",
    "        # делим на диагональный элемент.\n",
    "        row /= divider\n",
    "        # теперь надо вычесть приведённую строку из всех нижележащих строчек\n",
    "        for lower_row in matrix[nrow+1:]:\n",
    "            factor = lower_row[nrow] # элемент строки в колонке nrow\n",
    "            lower_row -= factor*row # вычитаем, чтобы получить ноль в колонке nrow\n",
    "    # все строки матрицы изменились, в принципе, можно и не возвращать\n",
    "    return matrix"
   ]
  },
  {
   "cell_type": "code",
   "execution_count": 4,
   "metadata": {},
   "outputs": [
    {
     "data": {
      "text/plain": [
       "array([[ 1.        ,  1.76315789, -0.31578947,  1.36842105],\n",
       "       [-0.        ,  1.        ,  0.06800211,  0.49657354],\n",
       "       [ 0.        ,  0.        ,  1.        ,  0.09309401]])"
      ]
     },
     "execution_count": 4,
     "metadata": {},
     "output_type": "execute_result"
    }
   ],
   "source": [
    "makeTriangleNaive(matrix.copy())"
   ]
  },
  {
   "cell_type": "markdown",
   "metadata": {},
   "source": [
    "Для нахождения решения нужно привести матрицу коэффициентов к диагональному виду. Тогда в последнем столбце будет находиться решение."
   ]
  },
  {
   "cell_type": "code",
   "execution_count": 5,
   "metadata": {},
   "outputs": [],
   "source": [
    "def makeIdentity(matrix):\n",
    "    # перебор строк в обратном порядке \n",
    "    for nrow in range(len(matrix)-1,0,-1):\n",
    "        row = matrix[nrow]\n",
    "        for upper_row in matrix[:nrow]:\n",
    "            factor = upper_row[nrow]\n",
    "            # вычитать строки не нужно, так как в row только два элемента отличны от 0:\n",
    "            # в последней колонке и на диагонали\n",
    "            \n",
    "            # вычитание в последней колонке\n",
    "            upper_row[-1] -= factor*row[-1]\n",
    "            # вместо вычитания 1*factor просто обнулим коэффициент в соотвествующей колонке. \n",
    "            upper_row[nrow] = 0\n",
    "    return matrix"
   ]
  },
  {
   "cell_type": "code",
   "execution_count": 6,
   "metadata": {},
   "outputs": [
    {
     "data": {
      "text/plain": [
       "array([[ 1.        ,  0.        ,  0.        ,  0.53344344],\n",
       "       [-0.        ,  1.        ,  0.        ,  0.49024295],\n",
       "       [ 0.        ,  0.        ,  1.        ,  0.09309401]])"
      ]
     },
     "execution_count": 6,
     "metadata": {},
     "output_type": "execute_result"
    }
   ],
   "source": [
    "m1 = makeTriangleNaive(np.copy(matrix))\n",
    "m2 = makeIdentity(m1)\n",
    "m2"
   ]
  },
  {
   "cell_type": "markdown",
   "metadata": {},
   "source": [
    "После приведения к диагональному виду корни находятся в последнем столбце."
   ]
  },
  {
   "cell_type": "code",
   "execution_count": 7,
   "metadata": {},
   "outputs": [
    {
     "data": {
      "text/plain": [
       "array([0.53344344, 0.49024295, 0.09309401])"
      ]
     },
     "execution_count": 7,
     "metadata": {},
     "output_type": "execute_result"
    }
   ],
   "source": [
    "roots = m2[:,-1]\n",
    "roots"
   ]
  },
  {
   "cell_type": "markdown",
   "metadata": {},
   "source": [
    "**Проверка решения**\n",
    "\n",
    "Для проверки извлечём матрицу коэффициентов, умножим её справа на столбец корней и вычтем столбец свободных членов исходной матрицы: `Ax - b`. Результат должен оказаться близким к нулю."
   ]
  },
  {
   "cell_type": "code",
   "execution_count": 8,
   "metadata": {},
   "outputs": [
    {
     "data": {
      "text/plain": [
       "array([[ 3.8,  6.7, -1.2],\n",
       "       [ 6.4,  1.3, -2.7],\n",
       "       [ 2.4, -4.5,  3.5]])"
      ]
     },
     "execution_count": 8,
     "metadata": {},
     "output_type": "execute_result"
    }
   ],
   "source": [
    "coefs = matrix[:,:-1]\n",
    "coefs"
   ]
  },
  {
   "cell_type": "code",
   "execution_count": 9,
   "metadata": {},
   "outputs": [],
   "source": [
    "# свободные члены в последнем столбце\n",
    "b = matrix[:,-1]"
   ]
  },
  {
   "cell_type": "code",
   "execution_count": 10,
   "metadata": {},
   "outputs": [
    {
     "data": {
      "text/plain": [
       "array([ 0.00000000e+00, -4.44089210e-16, -2.22044605e-16])"
      ]
     },
     "execution_count": 10,
     "metadata": {},
     "output_type": "execute_result"
    }
   ],
   "source": [
    "np.matmul(coefs, roots.T) - b"
   ]
  },
  {
   "cell_type": "markdown",
   "metadata": {},
   "source": [
    "**Решение СЛАУ одной функцией**"
   ]
  },
  {
   "cell_type": "code",
   "execution_count": 11,
   "metadata": {},
   "outputs": [],
   "source": [
    "def gaussSolveNaive(A, b=None):\n",
    "    \"\"\"Решает систему линейных алгебраических уравнений Ax=b\n",
    "    Если b is None, то свободные коэффициенты в последней колонке\"\"\"\n",
    "    shape = A.shape\n",
    "    assert len(shape) == 2, (\"Матрица не двумерная\", shape) # двумерная матрица\n",
    "    A = A.copy()\n",
    "    if b is not None:\n",
    "        assert shape[0] == shape[1], (\"Матрица не квадратная\", shape)\n",
    "        assert b.shape == (shape[0],), (\"Размерность свободных членов не соответствует матрица\", shape, b.shape)\n",
    "        # добавляем свободные члены дополнительным столбцом\n",
    "        A = np.c_[A, b]\n",
    "    else:\n",
    "        # Проверяем, что квадратная плюс столбец\n",
    "        assert shape[0]+1 == shape[1], (\"Неверный формат матрицы\", shape)\n",
    "    makeTriangleNaive(A)\n",
    "    makeIdentity(A)\n",
    "    return A[:,-1]"
   ]
  },
  {
   "cell_type": "code",
   "execution_count": 12,
   "metadata": {},
   "outputs": [
    {
     "data": {
      "text/plain": [
       "array([0.53344344, 0.49024295, 0.09309401])"
      ]
     },
     "execution_count": 12,
     "metadata": {},
     "output_type": "execute_result"
    }
   ],
   "source": [
    "gaussSolveNaive(matrix)"
   ]
  },
  {
   "cell_type": "code",
   "execution_count": 13,
   "metadata": {},
   "outputs": [
    {
     "data": {
      "text/plain": [
       "array([0.53344344, 0.49024295, 0.09309401])"
      ]
     },
     "execution_count": 13,
     "metadata": {},
     "output_type": "execute_result"
    }
   ],
   "source": [
    "gaussSolveNaive(matrix[:,:3], matrix[:,3])"
   ]
  },
  {
   "cell_type": "markdown",
   "metadata": {},
   "source": [
    "Когда на диагонали встречается ноль, происходит деление на ноль. Оно не выбрасывается как исключение, вместо этого возвращается `nan`"
   ]
  },
  {
   "cell_type": "code",
   "execution_count": 14,
   "metadata": {},
   "outputs": [
    {
     "name": "stderr",
     "output_type": "stream",
     "text": [
      "/usr/local/lib/python3.6/dist-packages/ipykernel_launcher.py:9: RuntimeWarning: divide by zero encountered in true_divide\n",
      "  if __name__ == '__main__':\n",
      "/usr/local/lib/python3.6/dist-packages/ipykernel_launcher.py:9: RuntimeWarning: invalid value encountered in true_divide\n",
      "  if __name__ == '__main__':\n"
     ]
    },
    {
     "data": {
      "text/plain": [
       "array([nan, nan, nan])"
      ]
     },
     "execution_count": 14,
     "metadata": {},
     "output_type": "execute_result"
    }
   ],
   "source": [
    "gaussSolveNaive(withZero)"
   ]
  },
  {
   "cell_type": "markdown",
   "metadata": {},
   "source": [
    "# Решение методом Гаусса с выбором главного элемента\n",
    "\n",
    "Для того, чтобы избежать проблем с делением на ноль, и вообще повысить устойчивость счета, используется метод Гаусса с выбором главного элемента.\n",
    "\n",
    "В этом методе перед тем как делить на диагональный элемент среди всех строк, лежащих ниже, находится строка с максимальным по модулю элементом в нужной колонке."
   ]
  },
  {
   "cell_type": "code",
   "execution_count": 15,
   "metadata": {},
   "outputs": [],
   "source": [
    "def makeTrianglePivot(matrix):\n",
    "    for nrow in range(len(matrix)):\n",
    "        # nrow равен номеру строки\n",
    "        # np.argmax возвращает номер строки с максимальным элементом в уменьшенной матрице\n",
    "        # которая начинается со строки nrow. Поэтому нужно прибавить nrow к результату\n",
    "        pivot = nrow + np.argmax(abs(matrix[nrow:, nrow]))\n",
    "        if pivot != nrow:\n",
    "            # swap\n",
    "            # matrix[nrow], matrix[pivot] = matrix[pivot], matrix[nrow] - не работает.\n",
    "            # нужно переставлять строки именно так, как написано ниже\n",
    "            # matrix[[nrow, pivot]] = matrix[[pivot, nrow]]\n",
    "            matrix[nrow], matrix[pivot] = matrix[pivot], np.copy(matrix[nrow])\n",
    "        row = matrix[nrow]\n",
    "        divider = row[nrow] # диагональный элемент\n",
    "        if abs(divider) < 1e-10:\n",
    "            # почти нуль на диагонали. Продолжать не имеет смысла, результат счёта неустойчив\n",
    "            raise ValueError(\"Матрица несовместна\")\n",
    "        # делим на диагональный элемент.\n",
    "        row /= divider\n",
    "        # теперь надо вычесть приведённую строку из всех нижележащих строчек\n",
    "        for lower_row in matrix[nrow+1:]:\n",
    "            factor = lower_row[nrow] # элемент строки в колонке nrow\n",
    "            lower_row -= factor*row # вычитаем, чтобы получить ноль в колонке nrow\n",
    "    return matrix"
   ]
  },
  {
   "cell_type": "code",
   "execution_count": 16,
   "metadata": {},
   "outputs": [
    {
     "data": {
      "text/plain": [
       "array([[1., 0., 0., 1.],\n",
       "       [0., 1., 0., 3.],\n",
       "       [0., 0., 1., 2.]])"
      ]
     },
     "execution_count": 16,
     "metadata": {},
     "output_type": "execute_result"
    }
   ],
   "source": [
    "makeTrianglePivot(np.array([[1,0,0,1],\n",
    "                         [0,0,1,2],\n",
    "                         [0,1,0,3]\n",
    "                        ], dtype=float))"
   ]
  },
  {
   "cell_type": "code",
   "execution_count": 17,
   "metadata": {},
   "outputs": [],
   "source": [
    "def gaussSolvePivot(A, b=None):\n",
    "    \"\"\"Решает систему линейных алгебраических уравнений Ax=b\n",
    "    Если b is None, то свободные коэффициенты в последней колонке\"\"\"\n",
    "    shape = A.shape\n",
    "    assert len(shape) == 2, (\"Матрица не двумерная\", shape) # двумерная матрица\n",
    "    A = A.copy()\n",
    "    if b is not None:\n",
    "        assert shape[0] == shape[1], (\"Матрица не квадратная\", shape)\n",
    "        assert b.shape == (shape[0],), (\"Размерность свободных членов не соответствует матрица\", shape, b.shape)\n",
    "        # добавляем свободные члены дополнительным столбцом\n",
    "        A = np.c_[A, b]\n",
    "    else:\n",
    "        # Проверяем, что квадратная плюс столбец\n",
    "        assert shape[0]+1 == shape[1], (\"Неверный формат матрицы\", shape)\n",
    "    makeTrianglePivot(A)\n",
    "    makeIdentity(A)\n",
    "    return A[:,-1]"
   ]
  },
  {
   "cell_type": "code",
   "execution_count": 18,
   "metadata": {},
   "outputs": [
    {
     "data": {
      "text/plain": [
       "array([0.53344344, 0.49024295, 0.09309401])"
      ]
     },
     "execution_count": 18,
     "metadata": {},
     "output_type": "execute_result"
    }
   ],
   "source": [
    "gaussSolvePivot(matrix)"
   ]
  },
  {
   "cell_type": "markdown",
   "metadata": {},
   "source": [
    "# Пример матрица 100x100"
   ]
  },
  {
   "cell_type": "markdown",
   "metadata": {},
   "source": [
    "В примере решается случайная система линейных уравнений с матрицей 100x100"
   ]
  },
  {
   "cell_type": "code",
   "execution_count": 19,
   "metadata": {},
   "outputs": [],
   "source": [
    "N = 100\n",
    "randomSle = np.random.rand(N, N)\n",
    "randomV = np.random.rand(N)"
   ]
  },
  {
   "cell_type": "markdown",
   "metadata": {},
   "source": [
    "Для начала решим \"наивным\" способом. Вероятность того, что на диагонали будет нуль, пренебрежимо мала."
   ]
  },
  {
   "cell_type": "code",
   "execution_count": 20,
   "metadata": {},
   "outputs": [
    {
     "data": {
      "text/plain": [
       "array([-0.28323687,  0.01498533, -0.76340784,  0.04372762, -0.02944466,\n",
       "        0.0939925 , -0.66430102, -0.64088742,  0.19871007, -1.25186715,\n",
       "        0.12364898,  0.00288674, -0.54078095, -0.44144048, -0.12675993,\n",
       "        1.39815719, -0.73802786, -0.77315503,  1.76471618,  0.07566329,\n",
       "        0.02421402, -0.06388076, -0.74967479, -0.87184569, -0.69237051,\n",
       "        0.50374326, -0.15836105,  0.11738275, -0.93076343, -0.72014169,\n",
       "        1.08157051, -0.06544787, -0.35984007,  0.45626458,  0.86865271,\n",
       "        1.40484255,  0.53877534,  0.65965865, -0.18887306, -0.26348963,\n",
       "       -0.5310845 ,  0.30097714, -0.03863381,  1.01484603,  1.24509391,\n",
       "       -0.90354864,  1.17474189,  0.12957285,  0.44268479, -0.88046586,\n",
       "        0.86870432, -0.29769049,  0.37484616,  0.7374659 , -1.10519817,\n",
       "        1.78348463,  0.35455008,  0.4589341 , -1.57447028,  0.82988722,\n",
       "       -1.29451811, -0.39453367,  1.23635139,  0.40420487,  0.90517399,\n",
       "        2.008857  , -0.35691669,  0.39778278,  1.14602613, -0.26181763,\n",
       "       -1.35863839, -0.05119671, -0.22551114, -0.75344947, -0.32640761,\n",
       "       -1.20381685, -0.2409343 ,  0.69226286, -1.2251106 , -0.75864337,\n",
       "       -0.55170876,  2.22429138,  1.21382302, -0.65619417,  0.27769641,\n",
       "       -1.3212526 ,  0.77429854,  0.73007878, -1.48919498,  0.2806244 ,\n",
       "       -0.50144956, -1.1564543 , -0.09508619, -0.43470475,  1.23716816,\n",
       "       -0.08710025,  0.35684214, -0.76645899,  0.54347449, -0.17315374])"
      ]
     },
     "execution_count": 20,
     "metadata": {},
     "output_type": "execute_result"
    }
   ],
   "source": [
    "randomRoots = gaussSolveNaive(randomSle, randomV)\n",
    "randomRoots"
   ]
  },
  {
   "cell_type": "code",
   "execution_count": 21,
   "metadata": {},
   "outputs": [],
   "source": [
    "randomRoots2 = gaussSolvePivot(randomSle, randomV)"
   ]
  },
  {
   "cell_type": "markdown",
   "metadata": {},
   "source": [
    "Проверим решение: вычислим максимум модуля в разности `Ax-b`"
   ]
  },
  {
   "cell_type": "code",
   "execution_count": 22,
   "metadata": {},
   "outputs": [
    {
     "data": {
      "text/plain": [
       "4.702904732312163e-13"
      ]
     },
     "execution_count": 22,
     "metadata": {},
     "output_type": "execute_result"
    }
   ],
   "source": [
    "diff = np.matmul(randomSle, randomRoots) - randomV\n",
    "np.max(np.abs(diff))"
   ]
  },
  {
   "cell_type": "code",
   "execution_count": 23,
   "metadata": {},
   "outputs": [
    {
     "data": {
      "text/plain": [
       "7.882583474838611e-15"
      ]
     },
     "execution_count": 23,
     "metadata": {},
     "output_type": "execute_result"
    }
   ],
   "source": [
    "diff = np.matmul(randomSle, randomRoots2) - randomV\n",
    "np.max(np.abs(diff))"
   ]
  },
  {
   "cell_type": "markdown",
   "metadata": {},
   "source": [
    "В обоих случаях `Ax` практически равно `b` - корни найдены успешно. Но решение, найденное методом с выбором главного элемента, построило чуть более точное решение\n",
    "\n",
    "Сравним найденное решение с решателем, который поставляется с `numpy`:"
   ]
  },
  {
   "cell_type": "code",
   "execution_count": 24,
   "metadata": {},
   "outputs": [
    {
     "data": {
      "text/plain": [
       "6.716849298982197e-15"
      ]
     },
     "execution_count": 24,
     "metadata": {},
     "output_type": "execute_result"
    }
   ],
   "source": [
    "np_roots = np.linalg.solve(randomSle, randomV)\n",
    "np.max(np.abs(np.matmul(randomSle, np_roots) - randomV))"
   ]
  },
  {
   "cell_type": "code",
   "execution_count": 25,
   "metadata": {},
   "outputs": [
    {
     "data": {
      "text/plain": [
       "(3.566088396800282e-13, 3.5416114485542494e-14)"
      ]
     },
     "execution_count": 25,
     "metadata": {},
     "output_type": "execute_result"
    }
   ],
   "source": [
    "max(abs(randomRoots - np_roots)), max(abs(randomRoots2 - np_roots))"
   ]
  },
  {
   "cell_type": "markdown",
   "metadata": {},
   "source": [
    "Решения очень близкие. Встроенный решатель построил ещё более точное решение."
   ]
  },
  {
   "cell_type": "markdown",
   "metadata": {},
   "source": [
    "## Сравнение времени счёта"
   ]
  },
  {
   "cell_type": "code",
   "execution_count": 26,
   "metadata": {},
   "outputs": [
    {
     "name": "stdout",
     "output_type": "stream",
     "text": [
      "17.9 ms ± 4.09 ms per loop (mean ± std. dev. of 7 runs, 10 loops each)\n"
     ]
    }
   ],
   "source": [
    "%timeit -n10 gaussSolveNaive(randomSle, randomV)"
   ]
  },
  {
   "cell_type": "code",
   "execution_count": 27,
   "metadata": {},
   "outputs": [
    {
     "name": "stdout",
     "output_type": "stream",
     "text": [
      "17.5 ms ± 194 µs per loop (mean ± std. dev. of 7 runs, 10 loops each)\n"
     ]
    }
   ],
   "source": [
    "%timeit -n10 gaussSolvePivot(randomSle, randomV)"
   ]
  },
  {
   "cell_type": "code",
   "execution_count": 28,
   "metadata": {},
   "outputs": [
    {
     "name": "stdout",
     "output_type": "stream",
     "text": [
      "476 µs ± 40.6 µs per loop (mean ± std. dev. of 7 runs, 100 loops each)\n"
     ]
    }
   ],
   "source": [
    "%timeit -n100 np.linalg.solve(randomSle, randomV)"
   ]
  },
  {
   "cell_type": "markdown",
   "metadata": {},
   "source": [
    "Методы решения, написанные на чистом пайтоне, считают практически с одинаковой скоростью, и примерно в 40 раз медленее встроенного решателя. Ничего удивительного, встроенный решатель написан на Си.\n",
    "\n",
    "Ниже представлен трюк, как можно приблизить скорость работы пайтоновского кода к Си-шному, если самые трудоёмкие части кода откомпилировать в машинный код компилятором `numba`"
   ]
  },
  {
   "cell_type": "markdown",
   "metadata": {},
   "source": [
    "## Ускорение счёта\n",
    "\n",
    "Для начала обобщим метод решения, выделив функции приведения к треугольному виду и к диагональному виду в параметры."
   ]
  },
  {
   "cell_type": "code",
   "execution_count": 29,
   "metadata": {},
   "outputs": [],
   "source": [
    "def generalGauss(A,b, triangleFn=makeTrianglePivot, identityFn=makeIdentity):\n",
    "    \"\"\"Решает систему линейных алгебраических уравнений Ax=b\n",
    "    Если b is None, то свободные коэффициенты в последней колонке\"\"\"\n",
    "    shape = A.shape\n",
    "    assert len(shape) == 2, (\"Матрица не двумерная\", shape) # двумерная матрица\n",
    "    A = A.copy()\n",
    "    if b is not None:\n",
    "        assert shape[0] == shape[1], (\"Матрица не квадратная\", shape)\n",
    "        assert b.shape == (shape[0],), (\"Размерность свободных членов не соответствует матрица\", shape, b.shape)\n",
    "        # добавляем свободные члены дополнительным столбцом\n",
    "        A = np.c_[A, b]\n",
    "    else:\n",
    "        # Проверяем, что квадратная плюс столбец\n",
    "        assert shape[0]+1 == shape[1], (\"Неверный формат матрицы\", shape)\n",
    "    triangleFn(A)\n",
    "    identityFn(A)\n",
    "    return A[:,-1]"
   ]
  },
  {
   "cell_type": "markdown",
   "metadata": {},
   "source": [
    "Проверим, что решение не изменилось"
   ]
  },
  {
   "cell_type": "code",
   "execution_count": 30,
   "metadata": {},
   "outputs": [
    {
     "data": {
      "text/plain": [
       "0.0"
      ]
     },
     "execution_count": 30,
     "metadata": {},
     "output_type": "execute_result"
    }
   ],
   "source": [
    "max(abs(generalGauss(randomSle, randomV, triangleFn=makeTriangleNaive, identityFn=makeIdentity) - randomRoots))\n"
   ]
  },
  {
   "cell_type": "code",
   "execution_count": 31,
   "metadata": {},
   "outputs": [],
   "source": [
    "import numba"
   ]
  },
  {
   "cell_type": "markdown",
   "metadata": {},
   "source": [
    "Немного видоизменённый вариант функции `makeTrianglePivot`, адаптированный к возможностям компилятора `numba`.\n",
    "\n",
    "Декоратор `numba.njit` предписывает транслировать функцию в чистый машинный код, который не обращается к интерпретатору пайтона. В общем случае это невозможно, но в данном случае у нас все вычисления идут только с `numpy`, а для этого пакета `numba` умеет вызывать Си-инетерфейсы для соответствующих операций - индексирования, присваивания, арифметики."
   ]
  },
  {
   "cell_type": "code",
   "execution_count": 32,
   "metadata": {},
   "outputs": [],
   "source": [
    "@numba.njit\n",
    "def fastMakeTrianglePivot(matrix):\n",
    "    for nrow in range(len(matrix)):\n",
    "        pivot = nrow + np.argmax(np.abs(matrix[nrow:, nrow]))\n",
    "        if pivot != nrow:\n",
    "            matrix[nrow], matrix[pivot] = matrix[pivot], np.copy(matrix[nrow])\n",
    "        row = matrix[nrow]\n",
    "        divider = row[nrow] # диагональный элемент\n",
    "        if abs(divider) < 1e-10:\n",
    "            raise ValueError(\"Матрица несовместна\")\n",
    "        row /= divider\n",
    "        for lr in range(nrow+1, len(matrix)):\n",
    "            lower_row = matrix[lr]\n",
    "            factor = lower_row[nrow]\n",
    "            lower_row -= factor*row\n",
    "    return matrix"
   ]
  },
  {
   "cell_type": "code",
   "execution_count": 33,
   "metadata": {},
   "outputs": [],
   "source": [
    "@numba.njit\n",
    "def fastMakeIdentity(matrix):\n",
    "    for nrow in range(len(matrix)-1,0,-1):\n",
    "        root = matrix[nrow, -1]\n",
    "        for ur in range(nrow):\n",
    "            factor = matrix[ur, nrow]\n",
    "            matrix[ur, -1] -= factor*root\n",
    "            # вместо вычитания 1*factor просто обнулим коэффициент в соотвествующей колонке. \n",
    "            matrix[ur, nrow] = 0.0\n",
    "    return matrix"
   ]
  },
  {
   "cell_type": "markdown",
   "metadata": {},
   "source": [
    "Сначала проверим, насколько выросла скорость от замены функции приведения к треугольному виду на скомпилированную\n",
    "Функцию вызываем два раза. В первом вызове jit-компилятор `numba` транслирует функцию `fastMakeTrianglePivot` в машинный код. Это долгая операция, поэтому результаты измерения времени будут недостоверными."
   ]
  },
  {
   "cell_type": "code",
   "execution_count": 34,
   "metadata": {},
   "outputs": [
    {
     "name": "stdout",
     "output_type": "stream",
     "text": [
      "5.1 ms ± 0 ns per loop (mean ± std. dev. of 1 run, 10 loops each)\n"
     ]
    }
   ],
   "source": [
    "generalGauss(randomSle, randomV, fastMakeTrianglePivot)\n",
    "\n",
    "%timeit -n10 -r1 generalGauss(randomSle, randomV, fastMakeTrianglePivot)"
   ]
  },
  {
   "cell_type": "markdown",
   "metadata": {},
   "source": [
    "Благодаря компилятору время работы снизилось в 3 раза. Теперь заменим функцию приведения к диагональному виду на скомпилированную."
   ]
  },
  {
   "cell_type": "code",
   "execution_count": 35,
   "metadata": {},
   "outputs": [
    {
     "name": "stdout",
     "output_type": "stream",
     "text": [
      "734 µs ± 3.15 µs per loop (mean ± std. dev. of 7 runs, 10 loops each)\n"
     ]
    }
   ],
   "source": [
    "generalGauss(randomSle, randomV, fastMakeTrianglePivot, fastMakeIdentity)\n",
    "%timeit -n10 generalGauss(randomSle, randomV, fastMakeTrianglePivot, fastMakeIdentity)"
   ]
  },
  {
   "cell_type": "markdown",
   "metadata": {},
   "source": [
    "Итого скорость выросла в 20 раз.\n",
    "\n",
    "Проигрыш по сравнению с решателем на чистом Си, меньше чем в 2 раза"
   ]
  },
  {
   "cell_type": "code",
   "execution_count": null,
   "metadata": {},
   "outputs": [],
   "source": []
  }
 ],
 "metadata": {
  "kernelspec": {
   "display_name": "Python 3",
   "language": "python",
   "name": "python3"
  },
  "language_info": {
   "codemirror_mode": {
    "name": "ipython",
    "version": 3
   },
   "file_extension": ".py",
   "mimetype": "text/x-python",
   "name": "python",
   "nbconvert_exporter": "python",
   "pygments_lexer": "ipython3",
   "version": "3.6.9"
  }
 },
 "nbformat": 4,
 "nbformat_minor": 4
}
