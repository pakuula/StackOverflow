{
 "cells": [
  {
   "cell_type": "markdown",
   "id": "e6faefdd",
   "metadata": {},
   "source": [
    "Ответ на вопрос https://ru.stackoverflow.com/questions/1293488/\n",
    "\n",
    "Пусть дана точка $P(x_p,y_p,z_p)$ и эллипсоид, у которого известны полуоси и центр, его уравнение: $x^2/a^2+y^2/a^2+z^2/b^2=1$. \n",
    "\n",
    "Точка $P$ лежит за пределами эллипсоида в некотором отдалении. Множество касательных к эллипсоиду, проведенных из $P$ образует коническую поверхность. Надо найти общий вид точек касания этого конуса и эллипсоида (понятно, что эти точки будут принадлежать эллипсу, то есть задача по сути сводится к отысканию уравнения эллипса касания конуса и эллипсоида). Можно ли здесь упростить задачу, перейдя к сферическим координатам? Если да, то как действовать дальше? Если нет, то вопрос аналогичный."
   ]
  },
  {
   "cell_type": "code",
   "execution_count": 1,
   "id": "01a4731a",
   "metadata": {},
   "outputs": [],
   "source": [
    "import sympy as sp\n",
    "import sympy.abc as abc\n",
    "import sympy.vector as spv"
   ]
  },
  {
   "cell_type": "markdown",
   "id": "8e379989",
   "metadata": {},
   "source": [
    "$a$ и $b$ - параметры эллипсоида $\\frac{x^2}{a^2} + \\frac{y^2}{a^2} + \\frac{z^2}{b^2}$"
   ]
  },
  {
   "cell_type": "code",
   "execution_count": 2,
   "id": "6035d6ac",
   "metadata": {},
   "outputs": [],
   "source": [
    "a,b = abc.a, abc.b\n"
   ]
  },
  {
   "cell_type": "markdown",
   "id": "e92f4105",
   "metadata": {},
   "source": [
    "Три системы координат:\n",
    "- $A$ - исходная система координат, в которой задан эллипсоид\n",
    "- $B$ - система координат, в которой эллипсоид превращается в единичную сферу\n",
    "- $C$ - система координат, в которой эллипсоид превращен в сферу, а точка $P$ находится на оси $Z$\n",
    "\n",
    "Матрицы:\n",
    "- $A2B$ переводит координаты из $A$ в $B$, а матрица $B2A$ переводит обратно\n",
    "- $B2C$ переводит координаты из $B$ в $C$, а матрица $C2B$ переводит обратно\n"
   ]
  },
  {
   "cell_type": "code",
   "execution_count": 3,
   "id": "7070084a",
   "metadata": {},
   "outputs": [],
   "source": [
    "A2B = sp.Matrix([[1/a, 0,   0],\n",
    "                 [0,   1/a, 0],\n",
    "                 [0,   0,   1/b]])"
   ]
  },
  {
   "cell_type": "code",
   "execution_count": 4,
   "id": "8162fc4f",
   "metadata": {},
   "outputs": [],
   "source": [
    "B2A = sp.Matrix([[a, 0, 0],\n",
    "                 [0, a, 0],\n",
    "                 [0, 0, b]])"
   ]
  },
  {
   "cell_type": "markdown",
   "id": "3bd0fa17",
   "metadata": {},
   "source": [
    "Проверка того, что матрицы $A2B$ и $B2A$ обратны"
   ]
  },
  {
   "cell_type": "code",
   "execution_count": 5,
   "id": "de9961e1",
   "metadata": {},
   "outputs": [
    {
     "data": {
      "text/latex": [
       "$\\displaystyle \\left[\\begin{matrix}1 & 0 & 0\\\\0 & 1 & 0\\\\0 & 0 & 1\\end{matrix}\\right]$"
      ],
      "text/plain": [
       "Matrix([\n",
       "[1, 0, 0],\n",
       "[0, 1, 0],\n",
       "[0, 0, 1]])"
      ]
     },
     "execution_count": 5,
     "metadata": {},
     "output_type": "execute_result"
    }
   ],
   "source": [
    "B2A*A2B"
   ]
  },
  {
   "cell_type": "markdown",
   "id": "04242aa5",
   "metadata": {},
   "source": [
    "В системе координат $B$ вектор $OP$ составляет с осью $x$ угол $\\phi$, а с осью $\\z$ угол $\\theta$\n",
    "![image](phi_theta.png)\n",
    "\n",
    "Длина вектора $OP$ в этой системе координат равно $R = \\sqrt{\\frac{x^2}{a^2} + \\frac{y^2}{a^2} + \\frac{z^2}{b^2}}$, где $x,y,z$ - координаты точки $P$ в исходной системе координат.\n",
    "\n",
    "Углы $\\theta$ и $\\phi$ в системе $B$ определяются так:\n",
    "- $\\cos\\theta = \\frac{z}{bR}$\n",
    "- $\\cos\\phi = \\frac{x}{aRsin\\theta}$\n",
    "- $\\sin\\phi = \\frac{y}{aRsin\\theta}$"
   ]
  },
  {
   "cell_type": "code",
   "execution_count": 6,
   "id": "8c7e4149",
   "metadata": {},
   "outputs": [],
   "source": [
    "phi, theta = abc.phi, abc.theta"
   ]
  },
  {
   "cell_type": "markdown",
   "id": "5821e568",
   "metadata": {},
   "source": [
    "Поворот системы координат от $B$ к $C$, в которой точка $P$ окажется на оси $Z$, выполняется в два приёма:\n",
    "- сначала на угол $\\phi$ вокруг оси $Z$. В результате точка $P$ окажется в плоскости $ZOX$\n",
    "- затем на угол $\\theta$ вокруг оси $Y$. В результате точка $P$ окажется на оси $Z$ в новой системе координат."
   ]
  },
  {
   "cell_type": "code",
   "execution_count": 7,
   "id": "6d9f80b3",
   "metadata": {},
   "outputs": [
    {
     "data": {
      "text/latex": [
       "$\\displaystyle \\left[\\begin{matrix}\\cos{\\left(\\phi \\right)} \\cos{\\left(\\theta \\right)} & \\sin{\\left(\\phi \\right)} \\cos{\\left(\\theta \\right)} & - \\sin{\\left(\\theta \\right)}\\\\- \\sin{\\left(\\phi \\right)} & \\cos{\\left(\\phi \\right)} & 0\\\\\\sin{\\left(\\theta \\right)} \\cos{\\left(\\phi \\right)} & \\sin{\\left(\\phi \\right)} \\sin{\\left(\\theta \\right)} & \\cos{\\left(\\theta \\right)}\\end{matrix}\\right]$"
      ],
      "text/plain": [
       "Matrix([\n",
       "[cos(phi)*cos(theta), sin(phi)*cos(theta), -sin(theta)],\n",
       "[          -sin(phi),            cos(phi),           0],\n",
       "[sin(theta)*cos(phi), sin(phi)*sin(theta),  cos(theta)]])"
      ]
     },
     "execution_count": 7,
     "metadata": {},
     "output_type": "execute_result"
    }
   ],
   "source": [
    "B2C = spv.BodyOrienter(phi, theta, 0, 'ZYZ').rotation_matrix()\n",
    "B2C"
   ]
  },
  {
   "cell_type": "markdown",
   "id": "576d22c2",
   "metadata": {},
   "source": [
    "Матрица обратного преобразования строится в обратном порядке: \n",
    "- сначала на угол $-\\theta$ вокруг оси $Y$,\n",
    "- затем на угол $-\\phi$ вокруг оси $Z$. "
   ]
  },
  {
   "cell_type": "code",
   "execution_count": 8,
   "id": "ecd96e00",
   "metadata": {},
   "outputs": [
    {
     "data": {
      "text/latex": [
       "$\\displaystyle \\left[\\begin{matrix}\\cos{\\left(\\phi \\right)} \\cos{\\left(\\theta \\right)} & - \\sin{\\left(\\phi \\right)} & \\sin{\\left(\\theta \\right)} \\cos{\\left(\\phi \\right)}\\\\\\sin{\\left(\\phi \\right)} \\cos{\\left(\\theta \\right)} & \\cos{\\left(\\phi \\right)} & \\sin{\\left(\\phi \\right)} \\sin{\\left(\\theta \\right)}\\\\- \\sin{\\left(\\theta \\right)} & 0 & \\cos{\\left(\\theta \\right)}\\end{matrix}\\right]$"
      ],
      "text/plain": [
       "Matrix([\n",
       "[cos(phi)*cos(theta), -sin(phi), sin(theta)*cos(phi)],\n",
       "[sin(phi)*cos(theta),  cos(phi), sin(phi)*sin(theta)],\n",
       "[        -sin(theta),         0,          cos(theta)]])"
      ]
     },
     "execution_count": 8,
     "metadata": {},
     "output_type": "execute_result"
    }
   ],
   "source": [
    "C2B = spv.BodyOrienter(-theta, -phi, 0, 'YZX').rotation_matrix()\n",
    "C2B"
   ]
  },
  {
   "cell_type": "markdown",
   "id": "86f5e53f",
   "metadata": {},
   "source": [
    "Проверка того, что матрицы $B2C$ и $C2B$ обратны друг другу"
   ]
  },
  {
   "cell_type": "code",
   "execution_count": 9,
   "id": "b297e064",
   "metadata": {},
   "outputs": [
    {
     "data": {
      "text/latex": [
       "$\\displaystyle \\left[\\begin{matrix}1 & 0 & 0\\\\0 & 1 & 0\\\\0 & 0 & 1\\end{matrix}\\right]$"
      ],
      "text/plain": [
       "Matrix([\n",
       "[1, 0, 0],\n",
       "[0, 1, 0],\n",
       "[0, 0, 1]])"
      ]
     },
     "execution_count": 9,
     "metadata": {},
     "output_type": "execute_result"
    }
   ],
   "source": [
    "sp.trigsimp(C2B*B2C) # упрощение тригонометрических выражений"
   ]
  },
  {
   "cell_type": "code",
   "execution_count": 10,
   "id": "2f8d46be",
   "metadata": {},
   "outputs": [],
   "source": [
    "R = abc.R"
   ]
  },
  {
   "cell_type": "markdown",
   "id": "e63ca6ad",
   "metadata": {},
   "source": [
    "Точка $P$ в системе координат $C$ находится на оси $Z$ на расстоянии $R$ от начала координат"
   ]
  },
  {
   "cell_type": "code",
   "execution_count": 11,
   "id": "e453b69a",
   "metadata": {},
   "outputs": [],
   "source": [
    "P_C = sp.Matrix([[0],[0],[R]])"
   ]
  },
  {
   "cell_type": "markdown",
   "id": "79dfbc95",
   "metadata": {},
   "source": [
    "Координаты точки $P$ в исходной системе координат"
   ]
  },
  {
   "cell_type": "code",
   "execution_count": 12,
   "id": "68030c87",
   "metadata": {},
   "outputs": [],
   "source": [
    "P_A = B2A*C2B*P_C"
   ]
  },
  {
   "cell_type": "code",
   "execution_count": 13,
   "id": "92a2a353",
   "metadata": {},
   "outputs": [
    {
     "data": {
      "text/latex": [
       "$\\displaystyle \\left[\\begin{matrix}R a \\sin{\\left(\\theta \\right)} \\cos{\\left(\\phi \\right)}\\\\R a \\sin{\\left(\\phi \\right)} \\sin{\\left(\\theta \\right)}\\\\R b \\cos{\\left(\\theta \\right)}\\end{matrix}\\right]$"
      ],
      "text/plain": [
       "Matrix([\n",
       "[R*a*sin(theta)*cos(phi)],\n",
       "[R*a*sin(phi)*sin(theta)],\n",
       "[         R*b*cos(theta)]])"
      ]
     },
     "execution_count": 13,
     "metadata": {},
     "output_type": "execute_result"
    }
   ],
   "source": [
    "P_A"
   ]
  },
  {
   "cell_type": "markdown",
   "id": "a9ce92aa",
   "metadata": {},
   "source": [
    "В системе координат $C$ эллипс представлен единичной сферой. Касательные из точки $P$ в этой системе координат образуют круг радиусом $r$ в плоскости, отстоящей на расстояние $h$ от начала координат.\n",
    "\n",
    "Подробнее о касательной к кругу можно прочитать здесь: https://www.wikiwand.com/en/Tangent_lines_to_circles"
   ]
  },
  {
   "cell_type": "code",
   "execution_count": 14,
   "id": "23805a2b",
   "metadata": {},
   "outputs": [
    {
     "data": {
      "text/latex": [
       "$\\displaystyle \\sqrt{1 - \\frac{1}{R^{2}}}$"
      ],
      "text/plain": [
       "sqrt(1 - 1/R**2)"
      ]
     },
     "execution_count": 14,
     "metadata": {},
     "output_type": "execute_result"
    }
   ],
   "source": [
    "r = sp.sqrt(1 - 1/(R*R))\n",
    "r"
   ]
  },
  {
   "cell_type": "code",
   "execution_count": 15,
   "id": "268ea00c",
   "metadata": {},
   "outputs": [],
   "source": [
    "h = sp.sqrt(1 - r*r)"
   ]
  },
  {
   "cell_type": "code",
   "execution_count": 16,
   "id": "755fb687",
   "metadata": {},
   "outputs": [
    {
     "data": {
      "text/latex": [
       "$\\displaystyle \\sqrt{\\frac{1}{R^{2}}}$"
      ],
      "text/plain": [
       "sqrt(R**(-2))"
      ]
     },
     "execution_count": 16,
     "metadata": {},
     "output_type": "execute_result"
    }
   ],
   "source": [
    "h"
   ]
  },
  {
   "cell_type": "code",
   "execution_count": null,
   "id": "48c828f7",
   "metadata": {},
   "outputs": [],
   "source": []
  },
  {
   "cell_type": "markdown",
   "id": "ce03a2d2",
   "metadata": {},
   "source": [
    "Построим уравнение касательного круга в параметрическом виде, как вращение точки вокруг оси $Z$ с круговой частотой $\\omega$"
   ]
  },
  {
   "cell_type": "code",
   "execution_count": 17,
   "id": "4cfa8763",
   "metadata": {},
   "outputs": [],
   "source": [
    "omega = abc.omega\n",
    "t = abc.t"
   ]
  },
  {
   "cell_type": "code",
   "execution_count": 18,
   "id": "b5113d77",
   "metadata": {},
   "outputs": [],
   "source": [
    "base = sp.Matrix([[0],[0], [1/R]]) # центр круга\n",
    "e1 = sp.Matrix([[r],[0],[0]]) # проекция точки на ось x\n",
    "e2 = sp.Matrix([[0], [r],[0]]) # проекция точки на ось y"
   ]
  },
  {
   "cell_type": "markdown",
   "id": "0ebd0813",
   "metadata": {},
   "source": [
    "Радиус-вектор точек, в которых конус касается эллипсоида, в системе координат $C$"
   ]
  },
  {
   "cell_type": "code",
   "execution_count": 19,
   "id": "3afde6f5",
   "metadata": {},
   "outputs": [
    {
     "data": {
      "text/latex": [
       "$\\displaystyle \\left[\\begin{matrix}\\sqrt{1 - \\frac{1}{R^{2}}} \\cos{\\left(t \\right)}\\\\\\sqrt{1 - \\frac{1}{R^{2}}} \\sin{\\left(t \\right)}\\\\\\frac{1}{R}\\end{matrix}\\right]$"
      ],
      "text/plain": [
       "Matrix([\n",
       "[sqrt(1 - 1/R**2)*cos(t)],\n",
       "[sqrt(1 - 1/R**2)*sin(t)],\n",
       "[                    1/R]])"
      ]
     },
     "execution_count": 19,
     "metadata": {},
     "output_type": "execute_result"
    }
   ],
   "source": [
    "tangent = base + e1*sp.cos(t) + e2*sp.sin(t)\n",
    "tangent"
   ]
  },
  {
   "cell_type": "markdown",
   "id": "f586d7c6",
   "metadata": {},
   "source": [
    "Проверка: касательная плоскость к единичной сфере в точке $(x_0, y_0, z_0)$ задаётся уравнением $2x_0(x-x_0) + 2y_0(y-y_0) + 2z_0(z-z_0) = 0$\n",
    "\n",
    "Подставим в это уравнение в качестве $(x_0, y_0, z_0)$ координаты из $tangent$, а вместо $(x, y, z)$ координаты точки $P = (0, 0, R)$\n",
    "\n",
    "Для справки уравнение касательной плоскости к поверхности, заданной уравнением $F(x,y,z)=0$ в точке $(x_0, y_0, z_0)$:\n",
    "\n",
    "$F'_x(x_0)\\cdot(x-x_0) + F'_y(y_0)\\cdot(y-y_0) + F'_z(z_0)\\cdot(z-z_0) = 0$"
   ]
  },
  {
   "cell_type": "code",
   "execution_count": 20,
   "id": "d84c5b3b",
   "metadata": {},
   "outputs": [
    {
     "data": {
      "text/latex": [
       "$\\displaystyle 0$"
      ],
      "text/plain": [
       "0"
      ]
     },
     "execution_count": 20,
     "metadata": {},
     "output_type": "execute_result"
    }
   ],
   "source": [
    "_t = tangent\n",
    "_u = _t[0]*(-_t[0]) + _t[1]*(-_t[1]) + _t[2]*(R-_t[2])\n",
    "sp.trigsimp(_u)"
   ]
  },
  {
   "cell_type": "markdown",
   "id": "10a071f6",
   "metadata": {},
   "source": [
    "Радиус вектор точек , в которых конус касается эллипсоида, в системе координат $A$"
   ]
  },
  {
   "cell_type": "code",
   "execution_count": 21,
   "id": "e649e23d",
   "metadata": {},
   "outputs": [],
   "source": [
    "tangent_A = B2A*C2B*tangent"
   ]
  },
  {
   "cell_type": "code",
   "execution_count": 22,
   "id": "a221d8c4",
   "metadata": {},
   "outputs": [
    {
     "data": {
      "text/latex": [
       "$\\displaystyle \\left[\\begin{matrix}- a \\sqrt{1 - \\frac{1}{R^{2}}} \\sin{\\left(\\phi \\right)} \\sin{\\left(t \\right)} + a \\sqrt{1 - \\frac{1}{R^{2}}} \\cos{\\left(\\phi \\right)} \\cos{\\left(t \\right)} \\cos{\\left(\\theta \\right)} + \\frac{a \\sin{\\left(\\theta \\right)} \\cos{\\left(\\phi \\right)}}{R}\\\\a \\sqrt{1 - \\frac{1}{R^{2}}} \\sin{\\left(\\phi \\right)} \\cos{\\left(t \\right)} \\cos{\\left(\\theta \\right)} + a \\sqrt{1 - \\frac{1}{R^{2}}} \\sin{\\left(t \\right)} \\cos{\\left(\\phi \\right)} + \\frac{a \\sin{\\left(\\phi \\right)} \\sin{\\left(\\theta \\right)}}{R}\\\\- b \\sqrt{1 - \\frac{1}{R^{2}}} \\sin{\\left(\\theta \\right)} \\cos{\\left(t \\right)} + \\frac{b \\cos{\\left(\\theta \\right)}}{R}\\end{matrix}\\right]$"
      ],
      "text/plain": [
       "Matrix([\n",
       "[-a*sqrt(1 - 1/R**2)*sin(phi)*sin(t) + a*sqrt(1 - 1/R**2)*cos(phi)*cos(t)*cos(theta) + a*sin(theta)*cos(phi)/R],\n",
       "[ a*sqrt(1 - 1/R**2)*sin(phi)*cos(t)*cos(theta) + a*sqrt(1 - 1/R**2)*sin(t)*cos(phi) + a*sin(phi)*sin(theta)/R],\n",
       "[                                                       -b*sqrt(1 - 1/R**2)*sin(theta)*cos(t) + b*cos(theta)/R]])"
      ]
     },
     "execution_count": 22,
     "metadata": {},
     "output_type": "execute_result"
    }
   ],
   "source": [
    "tangent_A"
   ]
  },
  {
   "cell_type": "markdown",
   "id": "6af850c5",
   "metadata": {},
   "source": [
    "Проверим, что найденные точки лежат на эллипсоиде"
   ]
  },
  {
   "cell_type": "code",
   "execution_count": 23,
   "id": "13d6c815",
   "metadata": {},
   "outputs": [
    {
     "data": {
      "text/latex": [
       "$\\displaystyle 1$"
      ],
      "text/plain": [
       "1"
      ]
     },
     "execution_count": 23,
     "metadata": {},
     "output_type": "execute_result"
    }
   ],
   "source": [
    "_t = tangent_A\n",
    "_u = _t[0]**2/a**2 + _t[1]**2/a**2 + _t[2]**2/b**2\n",
    "sp.trigsimp(_u)"
   ]
  },
  {
   "cell_type": "markdown",
   "id": "8d460bb1",
   "metadata": {},
   "source": [
    "Проверка 2: касательная плоскость к эллипсоиду в точке $(x_0, y_0, z_0)$ задаётся уравнением $2x_0/a^2(x-x_0) + 2y_0/a^2(y-y_0) + 2z_0/b^2(z-z_0) = 0$"
   ]
  },
  {
   "cell_type": "code",
   "execution_count": 24,
   "id": "a69913fb",
   "metadata": {},
   "outputs": [
    {
     "data": {
      "text/latex": [
       "$\\displaystyle 0$"
      ],
      "text/plain": [
       "0"
      ]
     },
     "execution_count": 24,
     "metadata": {},
     "output_type": "execute_result"
    }
   ],
   "source": [
    "_t = tangent_A\n",
    "_p = P_A\n",
    "_u = _t[0]/a**2*(_p[0]-_t[0]) + _t[1]/a**2*(_p[1]-_t[1]) + _t[2]/b**2*(_p[2]-_t[2])\n",
    "sp.trigsimp(_u)"
   ]
  },
  {
   "cell_type": "markdown",
   "id": "27ce3094",
   "metadata": {},
   "source": [
    "Подставим формулы для $R$ и углов $\\theta$ и $\\phi$ в выражение для точек касания конуса к эллипсу"
   ]
  },
  {
   "cell_type": "code",
   "execution_count": 25,
   "id": "3676afa7",
   "metadata": {},
   "outputs": [],
   "source": [
    "x,y,z = sp.symbols(\"x y z\")"
   ]
  },
  {
   "cell_type": "code",
   "execution_count": 26,
   "id": "7d82085b",
   "metadata": {},
   "outputs": [
    {
     "data": {
      "text/latex": [
       "$\\displaystyle \\left[\\begin{matrix}\\frac{x}{\\frac{z^{2}}{b^{2}} + \\frac{x^{2}}{a^{2}} + \\frac{y^{2}}{a^{2}}} - \\frac{y \\sqrt{1 - \\frac{1}{\\frac{z^{2}}{b^{2}} + \\frac{x^{2}}{a^{2}} + \\frac{y^{2}}{a^{2}}}} \\sin{\\left(t \\right)}}{\\sqrt{1 - \\frac{z^{2}}{b^{2} \\left(\\frac{z^{2}}{b^{2}} + \\frac{x^{2}}{a^{2}} + \\frac{y^{2}}{a^{2}}\\right)}} \\sqrt{\\frac{z^{2}}{b^{2}} + \\frac{x^{2}}{a^{2}} + \\frac{y^{2}}{a^{2}}}} + \\frac{x z \\sqrt{1 - \\frac{1}{\\frac{z^{2}}{b^{2}} + \\frac{x^{2}}{a^{2}} + \\frac{y^{2}}{a^{2}}}} \\cos{\\left(t \\right)}}{b \\sqrt{1 - \\frac{z^{2}}{b^{2} \\left(\\frac{z^{2}}{b^{2}} + \\frac{x^{2}}{a^{2}} + \\frac{y^{2}}{a^{2}}\\right)}} \\left(\\frac{z^{2}}{b^{2}} + \\frac{x^{2}}{a^{2}} + \\frac{y^{2}}{a^{2}}\\right)}\\\\\\frac{x \\sqrt{1 - \\frac{1}{\\frac{z^{2}}{b^{2}} + \\frac{x^{2}}{a^{2}} + \\frac{y^{2}}{a^{2}}}} \\sin{\\left(t \\right)}}{\\sqrt{1 - \\frac{z^{2}}{b^{2} \\left(\\frac{z^{2}}{b^{2}} + \\frac{x^{2}}{a^{2}} + \\frac{y^{2}}{a^{2}}\\right)}} \\sqrt{\\frac{z^{2}}{b^{2}} + \\frac{x^{2}}{a^{2}} + \\frac{y^{2}}{a^{2}}}} + \\frac{y}{\\frac{z^{2}}{b^{2}} + \\frac{x^{2}}{a^{2}} + \\frac{y^{2}}{a^{2}}} + \\frac{y z \\sqrt{1 - \\frac{1}{\\frac{z^{2}}{b^{2}} + \\frac{x^{2}}{a^{2}} + \\frac{y^{2}}{a^{2}}}} \\cos{\\left(t \\right)}}{b \\sqrt{1 - \\frac{z^{2}}{b^{2} \\left(\\frac{z^{2}}{b^{2}} + \\frac{x^{2}}{a^{2}} + \\frac{y^{2}}{a^{2}}\\right)}} \\left(\\frac{z^{2}}{b^{2}} + \\frac{x^{2}}{a^{2}} + \\frac{y^{2}}{a^{2}}\\right)}\\\\- b \\sqrt{1 - \\frac{z^{2}}{b^{2} \\left(\\frac{z^{2}}{b^{2}} + \\frac{x^{2}}{a^{2}} + \\frac{y^{2}}{a^{2}}\\right)}} \\sqrt{1 - \\frac{1}{\\frac{z^{2}}{b^{2}} + \\frac{x^{2}}{a^{2}} + \\frac{y^{2}}{a^{2}}}} \\cos{\\left(t \\right)} + \\frac{z}{\\frac{z^{2}}{b^{2}} + \\frac{x^{2}}{a^{2}} + \\frac{y^{2}}{a^{2}}}\\end{matrix}\\right]$"
      ],
      "text/plain": [
       "Matrix([\n",
       "[x/(z**2/b**2 + x**2/a**2 + y**2/a**2) - y*sqrt(1 - 1/(z**2/b**2 + x**2/a**2 + y**2/a**2))*sin(t)/(sqrt(1 - z**2/(b**2*(z**2/b**2 + x**2/a**2 + y**2/a**2)))*sqrt(z**2/b**2 + x**2/a**2 + y**2/a**2)) + x*z*sqrt(1 - 1/(z**2/b**2 + x**2/a**2 + y**2/a**2))*cos(t)/(b*sqrt(1 - z**2/(b**2*(z**2/b**2 + x**2/a**2 + y**2/a**2)))*(z**2/b**2 + x**2/a**2 + y**2/a**2))],\n",
       "[x*sqrt(1 - 1/(z**2/b**2 + x**2/a**2 + y**2/a**2))*sin(t)/(sqrt(1 - z**2/(b**2*(z**2/b**2 + x**2/a**2 + y**2/a**2)))*sqrt(z**2/b**2 + x**2/a**2 + y**2/a**2)) + y/(z**2/b**2 + x**2/a**2 + y**2/a**2) + y*z*sqrt(1 - 1/(z**2/b**2 + x**2/a**2 + y**2/a**2))*cos(t)/(b*sqrt(1 - z**2/(b**2*(z**2/b**2 + x**2/a**2 + y**2/a**2)))*(z**2/b**2 + x**2/a**2 + y**2/a**2))],\n",
       "[                                                                                                                                                                                                        -b*sqrt(1 - z**2/(b**2*(z**2/b**2 + x**2/a**2 + y**2/a**2)))*sqrt(1 - 1/(z**2/b**2 + x**2/a**2 + y**2/a**2))*cos(t) + z/(z**2/b**2 + x**2/a**2 + y**2/a**2)]])"
      ]
     },
     "execution_count": 26,
     "metadata": {},
     "output_type": "execute_result"
    }
   ],
   "source": [
    "t_a = tangent_A.subs({                 \n",
    "                sp.cos(phi) : x/a/sp.sin(theta)/R,\n",
    "                sp.sin(phi) : y/a/sp.sin(theta)/R\n",
    "               })                                        \\\n",
    "    .subs({sp.sin(theta) : sp.sqrt(1-sp.cos(theta)**2)}) \\\n",
    "    .subs({sp.cos(theta) : z/b/R})                       \\\n",
    "    .subs({R:sp.sqrt((x/a)**2 + (y/a)**2 + (z/b)**2)})\n",
    "t_a"
   ]
  },
  {
   "cell_type": "code",
   "execution_count": 27,
   "id": "8e62d4a6",
   "metadata": {},
   "outputs": [],
   "source": [
    "center = B2A*C2B*base\n",
    "v1 = B2A*C2B*e1\n",
    "v2 = B2A*C2B*e2"
   ]
  },
  {
   "cell_type": "code",
   "execution_count": 28,
   "id": "coated-assets",
   "metadata": {},
   "outputs": [
    {
     "data": {
      "text/latex": [
       "$\\displaystyle \\left[\\begin{matrix}\\frac{a \\sin{\\left(\\theta \\right)} \\cos{\\left(\\phi \\right)}}{R}\\\\\\frac{a \\sin{\\left(\\phi \\right)} \\sin{\\left(\\theta \\right)}}{R}\\\\\\frac{b \\cos{\\left(\\theta \\right)}}{R}\\end{matrix}\\right]$"
      ],
      "text/plain": [
       "Matrix([\n",
       "[a*sin(theta)*cos(phi)/R],\n",
       "[a*sin(phi)*sin(theta)/R],\n",
       "[         b*cos(theta)/R]])"
      ]
     },
     "execution_count": 28,
     "metadata": {},
     "output_type": "execute_result"
    }
   ],
   "source": [
    "center"
   ]
  },
  {
   "cell_type": "code",
   "execution_count": 29,
   "id": "banned-squad",
   "metadata": {},
   "outputs": [
    {
     "data": {
      "text/latex": [
       "$\\displaystyle \\left[\\begin{matrix}a \\sqrt{1 - \\frac{1}{R^{2}}} \\cos{\\left(\\phi \\right)} \\cos{\\left(\\theta \\right)}\\\\a \\sqrt{1 - \\frac{1}{R^{2}}} \\sin{\\left(\\phi \\right)} \\cos{\\left(\\theta \\right)}\\\\- b \\sqrt{1 - \\frac{1}{R^{2}}} \\sin{\\left(\\theta \\right)}\\end{matrix}\\right]$"
      ],
      "text/plain": [
       "Matrix([\n",
       "[a*sqrt(1 - 1/R**2)*cos(phi)*cos(theta)],\n",
       "[a*sqrt(1 - 1/R**2)*sin(phi)*cos(theta)],\n",
       "[        -b*sqrt(1 - 1/R**2)*sin(theta)]])"
      ]
     },
     "execution_count": 29,
     "metadata": {},
     "output_type": "execute_result"
    }
   ],
   "source": [
    "v1"
   ]
  },
  {
   "cell_type": "code",
   "execution_count": 30,
   "id": "growing-abuse",
   "metadata": {},
   "outputs": [
    {
     "data": {
      "text/latex": [
       "$\\displaystyle \\left[\\begin{matrix}- a \\sqrt{1 - \\frac{1}{R^{2}}} \\sin{\\left(\\phi \\right)}\\\\a \\sqrt{1 - \\frac{1}{R^{2}}} \\cos{\\left(\\phi \\right)}\\\\0\\end{matrix}\\right]$"
      ],
      "text/plain": [
       "Matrix([\n",
       "[-a*sqrt(1 - 1/R**2)*sin(phi)],\n",
       "[ a*sqrt(1 - 1/R**2)*cos(phi)],\n",
       "[                           0]])"
      ]
     },
     "execution_count": 30,
     "metadata": {},
     "output_type": "execute_result"
    }
   ],
   "source": [
    "v2"
   ]
  },
  {
   "cell_type": "code",
   "execution_count": 32,
   "id": "determined-senior",
   "metadata": {},
   "outputs": [],
   "source": [
    "import numpy as np"
   ]
  },
  {
   "cell_type": "code",
   "execution_count": 114,
   "id": "boxed-oasis",
   "metadata": {},
   "outputs": [],
   "source": [
    "def tangent_cone(a,b, P):\n",
    "    \"\"\"\n",
    "    Возвращает три вектора `c,v1,v2`, определяющие эллипс, по точкам которого эллипсоид касается конус с вершиной `P`.\n",
    "    \n",
    "    Точки r_tan эллипса вычисляются так:\n",
    "    ```\n",
    "    c, v1, v2 = tangent_cone(a,b, P)\n",
    "    t = np.linspace(0, 2*np.pi, 100)\n",
    "    r_tan = c.reshape(3,1) + v1.reshape(3,1)*np.cos(t) + v2.reshape(3,1)*np.sin(t)\n",
    "    ```\n",
    "    В этом случае r_tan - матрица из 3 строк и 100 столбцов. Первая строка - координата `x` точек, \n",
    "    вторая строка - координата `y`, третья строка - координата `z`.\n",
    "    \"\"\"\n",
    "    assert P.ndim == 1\n",
    "    assert len(P) == 3\n",
    "    \n",
    "    x,y,z = P\n",
    "    R = np.sqrt(x**2/a**2 + y**2/a**2 + z**2/b**2)\n",
    "    cos_theta = (z/b)/R\n",
    "    # theta меняется от 0 до pi, поэтому sin(theta) >= 0\n",
    "    sin_theta = np.sqrt(1 - cos_theta**2)\n",
    "    \n",
    "    sin_phi = (y/a)/(sin_theta*R)\n",
    "    cos_phi = (x/a)/(sin_theta*R)\n",
    "    \n",
    "    center = np.array([a*cos_phi*sin_theta/R, a*sin_phi*sin_theta/R, b*cos_theta/R])\n",
    "    \n",
    "    r = np.sqrt(1 - 1/R**2)\n",
    "    v1 = np.array([a*r*cos_phi*cos_theta, a*r*sin_phi*cos_theta, -b*r*sin_theta])\n",
    "    v2 = np.array([-a*r*sin_phi, a*r*cos_phi, 0])\n",
    "    \n",
    "    return center, v1, v2"
   ]
  },
  {
   "cell_type": "code",
   "execution_count": 116,
   "id": "gentle-fabric",
   "metadata": {},
   "outputs": [],
   "source": [
    "# Эллипсоид вытянут вдоль Z\n",
    "a = 1\n",
    "b = 4"
   ]
  },
  {
   "cell_type": "code",
   "execution_count": 117,
   "id": "desirable-sharing",
   "metadata": {},
   "outputs": [],
   "source": [
    "# Вершина конуса на бисектрисе первого квадранта\n",
    "P = np.array([5,5,5])"
   ]
  },
  {
   "cell_type": "code",
   "execution_count": 118,
   "id": "advanced-degree",
   "metadata": {},
   "outputs": [],
   "source": [
    "c, v1, v2 = tangent_cone(a,b, P)\n"
   ]
  },
  {
   "cell_type": "code",
   "execution_count": 92,
   "id": "early-northern",
   "metadata": {},
   "outputs": [],
   "source": [
    "t = np.linspace(0, 2*np.pi, 100)\n",
    "r_tan = c.reshape(3,1)+v1.reshape(3,1)*np.cos(t) + v2.reshape(3,1)*np.sin(t)"
   ]
  },
  {
   "cell_type": "code",
   "execution_count": 93,
   "id": "activated-setting",
   "metadata": {},
   "outputs": [],
   "source": [
    "el_X, el_Y = np.meshgrid(np.linspace(-a, a, 200), np.linspace(-a, a, 200))"
   ]
  },
  {
   "cell_type": "code",
   "execution_count": 104,
   "id": "spread-creek",
   "metadata": {},
   "outputs": [
    {
     "name": "stderr",
     "output_type": "stream",
     "text": [
      "<ipython-input-104-80c6e10389cd>:1: RuntimeWarning: invalid value encountered in sqrt\n",
      "  el_Z = b*np.sqrt(1 - el_X**2/a**2 - el_Y**2/a**2, )\n"
     ]
    }
   ],
   "source": [
    "el_Z = b*np.sqrt(1 - el_X**2/a**2 - el_Y**2/a**2, )\n"
   ]
  },
  {
   "cell_type": "code",
   "execution_count": 105,
   "id": "demographic-divide",
   "metadata": {},
   "outputs": [],
   "source": [
    "import matplotlib.pyplot as plt"
   ]
  },
  {
   "cell_type": "code",
   "execution_count": 113,
   "id": "unknown-definition",
   "metadata": {},
   "outputs": [
    {
     "data": {
      "text/plain": [
       "<mpl_toolkits.mplot3d.art3d.Path3DCollection at 0x29ae45a9730>"
      ]
     },
     "execution_count": 113,
     "metadata": {},
     "output_type": "execute_result"
    },
    {
     "data": {
      "image/png": "[encoded data removed]",
      "text/plain": [
       "<Figure size 720x720 with 1 Axes>"
      ]
     },
     "metadata": {
      "needs_background": "light"
     },
     "output_type": "display_data"
    }
   ],
   "source": [
    "fig = plt.figure(figsize=(10, 10))\n",
    "ax = fig.add_subplot(projection='3d')\n",
    "ax.set_xlabel('x')\n",
    "ax.set_ylabel('y')\n",
    "ax.view_init(30, 120)\n",
    "\n",
    "ax.plot_wireframe(el_X, el_Y, el_Z, cstride=10, rstride = 10, alpha=0.3)\n",
    "ax.plot_wireframe(el_X, el_Y, -el_Z, cstride=10, rstride = 10, alpha=0.3)\n",
    "ax.plot(r_tan[0], r_tan[1], r_tan[2], color=\"black\")\n",
    "ax.scatter(*P)\n"
   ]
  },
  {
   "cell_type": "code",
   "execution_count": null,
   "id": "applicable-functionality",
   "metadata": {},
   "outputs": [],
   "source": []
  }
 ],
 "metadata": {
  "kernelspec": {
   "display_name": "Python 3",
   "language": "python",
   "name": "python3"
  },
  "language_info": {
   "codemirror_mode": {
    "name": "ipython",
    "version": 3
   },
   "file_extension": ".py",
   "mimetype": "text/x-python",
   "name": "python",
   "nbconvert_exporter": "python",
   "pygments_lexer": "ipython3",
   "version": "3.9.2"
  }
 },
 "nbformat": 4,
 "nbformat_minor": 5
}
